{
 "cells": [
  {
   "cell_type": "code",
   "execution_count": 3,
   "metadata": {
    "_cell_guid": "b1076dfc-b9ad-4769-8c92-a6c4dae69d19",
    "_uuid": "8f2839f25d086af736a60e9eeb907d3b93b6e0e5"
   },
   "outputs": [
    {
     "name": "stdout",
     "output_type": "stream",
     "text": [
      "0.9961676646706586\n"
     ]
    }
   ],
   "source": [
    "import numpy as np \n",
    "import pandas as pd \n",
    "import pickle\n",
    "import matplotlib.pyplot as plt\n",
    "from sklearn.model_selection import train_test_split\n",
    "\n",
    "data = pd.read_csv('Final-dataset.csv') #import data \n",
    "data.drop(['From Date', 'To Date'],axis=1,inplace=True) \n",
    "data = data.replace(to_replace = np.NaN, value = 0)\n",
    "data = data.replace(to_replace = np.NaN, value = 0)\n",
    "data = data.replace(to_replace = np.NaN, value = 0)\n",
    "data = data.replace(to_replace = np.NaN, value = 0)\n",
    "data = data.replace(to_replace = np.NaN, value = 0)\n",
    "data = data.replace(to_replace = np.NaN, value = 0)\n",
    "data = data.replace(to_replace = np.NaN, value = 0)\n",
    "def cal_SOi(so2):\n",
    "    si=0\n",
    "    if (so2<=40):\n",
    "     si= so2*(50/40)\n",
    "    elif (so2>40 and so2<=80):\n",
    "     si= 50+(so2-40)*(50/40)\n",
    "    elif (so2>80 and so2<=380):\n",
    "     si= 100+(so2-80)*(100/300)\n",
    "    elif (so2>380 and so2<=800):\n",
    "     si= 200+(so2-380)*(100/420)\n",
    "    elif (so2>800 and so2<=1600):\n",
    "     si= 300+(so2-800)*(100/800)\n",
    "    elif (so2>1600):\n",
    "     si= 400+(so2-1600)*(100/800)\n",
    "    return si\n",
    "data['SO2']\n",
    "data['SO2i']=data['SO2'].apply(cal_SOi)\n",
    "df= data[['SO2','SO2i']]\n",
    "def cal_Noi(no2):\n",
    "    ni=0\n",
    "    if(no2<=40):\n",
    "     ni= no2*50/40\n",
    "    elif(no2>40 and no2<=80):\n",
    "     ni= 50+(no2-40)*(50/40)\n",
    "    elif(no2>80 and no2<=180):\n",
    "     ni= 100+(no2-80)*(100/100)\n",
    "    elif(no2>180 and no2<=280):\n",
    "     ni= 200+(no2-180)*(100/100)\n",
    "    elif(no2>280 and no2<=400):\n",
    "     ni= 300+(no2-280)*(100/120)\n",
    "    else:\n",
    "     ni= 400+(no2-400)*(100/120)\n",
    "    return ni\n",
    "data['NOi']=data['NO2'].apply(cal_Noi)\n",
    "df= data[['NO2','NOi']]\n",
    "def cal_pmi(pm2_5):\n",
    "    pmi=0\n",
    "    if(pm2_5<=30):\n",
    "     pmi=pm2_5*(50/30)\n",
    "    elif(pm2_5>30 and pm2_5<=60):\n",
    "     pmi=50+(pm2_5-30)*(50/30)\n",
    "    elif(pm2_5>60 and pm2_5<=90):\n",
    "     pmi= 100+(pm2_5-60)*(100/30)\n",
    "    elif(pm2_5>90 and pm2_5<=120):\n",
    "     pmi=200+(pm2_5-90)*(100/30)\n",
    "    elif(pm2_5>120 and pm2_5<=250):\n",
    "     pmi=300+(pm2_5-120)*(100/130)\n",
    "    else:\n",
    "     pmi=400+(pm2_5-250)*(100/130)\n",
    "    return pmi\n",
    "data['PM25i']=data['PM2.5'].apply(cal_pmi)\n",
    "def cal_pm10(pm10):\n",
    "    pm10i = 0\n",
    "    if(pm10<=50):\n",
    "     pm10i= pm10*50/40\n",
    "    elif(pm10>50 and pm10<=100):\n",
    "     pm10i= 50+(pm10-40)*(50/40)\n",
    "    elif(pm10>100 and pm10<=250):\n",
    "     pm10i= 100+(pm10-80)*(100/100)\n",
    "    elif(pm10>250 and pm10<=350):\n",
    "     pm10i= 200+(pm10-180)*(100/100)\n",
    "    elif(pm10>350 and pm10<=430):\n",
    "     pm10i= 300+(pm10-280)*(100/120)\n",
    "    else:\n",
    "     pm10i= 400+(pm10-400)*(100/120)\n",
    "    return pm10i\n",
    "data['PM10i']=data['PM10'].apply(cal_pm10)\n",
    "df= data[['PM10','PM10i']]\n",
    "def cal_Ozone(oz):\n",
    "    ozi = 0\n",
    "    if(oz<=50):\n",
    "     ozi= oz*50/50\n",
    "    elif(oz>50 and oz<=100):\n",
    "     ozi= 50+(oz-50)*(50/50)\n",
    "    elif(oz>100 and oz<=168):\n",
    "     ozi= 100+(oz-100)*(100/68)\n",
    "    elif(oz>168 and oz<=208):\n",
    "     ozi= 200+(oz-168)*(100/40)\n",
    "    elif(oz>208 and oz<=748):\n",
    "     ozi= 300+(oz-208)*(100/540)\n",
    "    else:\n",
    "     ozi= 400+(oz-748)*(100/540)\n",
    "    return ozi\n",
    "data['Ozonei']=data['Ozone'].apply(cal_Ozone)\n",
    "df = data[['Ozone', 'Ozonei']]\n",
    "\n",
    "def cal_NH3(nh):\n",
    "    nhi = 0\n",
    "    if(nh<=200):\n",
    "     nhi= nh*50/200\n",
    "    elif(nh>200 and nh<=400):\n",
    "     nhi= 50+(nh-200)*(50/200)\n",
    "    elif(nh>400 and nh<=800):\n",
    "     nhi= 100+(nh-400)*(100/400)\n",
    "    elif(nh>800 and nh<=1200):\n",
    "     nhi= 200+(nh-800)*(100/400)\n",
    "    elif(nh>1200 and nh<=1800):\n",
    "     nhi= 300+(nh-1200)*(100/600)\n",
    "    else:\n",
    "     nhi= 400+(nh-1800)*(100/600)\n",
    "    return nhi\n",
    "data['NH3i']=data['NH3'].apply(cal_NH3)\n",
    "df = data[['NH3', 'NH3i']]\n",
    "def cal_CO(co):\n",
    "    coi = 0\n",
    "    if(co<=1.0):\n",
    "     coi= co*50/1.0\n",
    "    elif(co>1.0 and co<=2.0):\n",
    "     coi= 50+(co-1.0)*(50/1.0)\n",
    "    elif(co>2.0 and co<=10):\n",
    "     coi= 100+(co-2)*(100/8)\n",
    "    elif(co>10 and co<=17):\n",
    "     coi= 200+(co-10)*(100/7)\n",
    "    elif(co>17 and co<=34):\n",
    "     coi= 300+(co-17)*(100/17)\n",
    "    else:\n",
    "     coi= 400+(co-34)*(100/17)\n",
    "    return coi\n",
    "data['COi']=data['CO'].apply(cal_CO)\n",
    "df = data[['CO', 'COi']]\n",
    "\n",
    "def cal_aqi(si,ni,pm25i,pm10i,ozi,nhi,coi):\n",
    "    aqi=0\n",
    "    if(si>ni and si>pm25i and si>pm10i and si>ozi and si>nhi and si>coi):\n",
    "     aqi=si\n",
    "    if(ni>si and ni>pm25i and ni>pm10i and ni>ozi and ni>nhi and ni>coi):\n",
    "     aqi=ni\n",
    "    if(pm25i>si and pm25i>ni and pm25i>pm10i and pm25i>ozi and pm25i>nhi and pm25i>coi):\n",
    "     aqi=pm25i\n",
    "    if(pm10i>si and pm10i>ni and pm10i>pm25i and pm10i>ozi and pm10i>nhi and pm10i>coi):\n",
    "     aqi=pm10i\n",
    "    if(ozi>si and ozi>ni and ozi>pm25i and ozi>pm10i and ozi>nhi and ozi>coi):\n",
    "     aqi=ozi\n",
    "    if(nhi>si and nhi>ni and nhi>pm25i and nhi>pm10i and nhi>ozi and nhi>coi):\n",
    "     aqi=nhi\n",
    "    if(coi>si and coi>ni and coi>pm25i and coi>pm10i and coi>nhi and coi>ozi):\n",
    "     aqi=coi\n",
    "    return aqi\n",
    "\n",
    "data['AQI']=data.apply(lambda x:cal_aqi(x['SO2i'],x['NOi'],x['PM25i'],x['PM10i'],x['Ozonei'],x['NH3i'],x['COi']),axis=1)\n",
    "df= data[['SO2i','NOi','PM25i','PM10i','Ozonei','NH3i','COi','AQI']]\n",
    "def AQI_Range(x):\n",
    "    if x<=50:\n",
    "        return \"Good\"\n",
    "    elif x>50 and x<=100:\n",
    "        return \"Satisfactory\"\n",
    "    elif x>100 and x<=200:\n",
    "        return \"Moderately Polluted\"\n",
    "    elif x>200 and x<=300:\n",
    "        return \"Poor\"\n",
    "    elif x>300 and x<=400:\n",
    "        return \"Very poor\"\n",
    "    elif x>400:\n",
    "        return \"Severe\"\n",
    "\n",
    "data['AQI_Range'] = data['AQI'] .apply(AQI_Range)\n",
    "from sklearn import tree\n",
    "model2 = tree.DecisionTreeClassifier()\n",
    "X2 = data[['PM2.5','PM10','NO2','SO2','NH3','CO','Ozone']]\n",
    "y2 = data['AQI_Range']\n",
    "X_train2, X_test2, y_train2, y_test2 = train_test_split(X2, y2, test_size=0.33, random_state=42)\n",
    "model2.fit(X_train2,y_train2)\n",
    "\n",
    "\n",
    "pickle.dump(model2, open('hireable.pkl', 'wb'))\n",
    "loaded_model = pickle.load(open('hireable.pkl', 'rb'))\n",
    "result = loaded_model.score(X_test2, y_test2)\n",
    "\n",
    "print(result)\n",
    "\n",
    "\n"
   ]
  },
  {
   "cell_type": "code",
   "execution_count": 3,
   "metadata": {},
   "outputs": [
    {
     "data": {
      "text/plain": [
       "(12651, 9)"
      ]
     },
     "execution_count": 3,
     "metadata": {},
     "output_type": "execute_result"
    }
   ],
   "source": [
    "data.shape #dimensions of the data"
   ]
  },
  {
   "cell_type": "code",
   "execution_count": 4,
   "metadata": {},
   "outputs": [
    {
     "data": {
      "text/plain": [
       "From Date      1\n",
       "To Date        1\n",
       "PM2.5        420\n",
       "PM10         766\n",
       "NO2          413\n",
       "SO2          339\n",
       "NH3          433\n",
       "CO             0\n",
       "Ozone          0\n",
       "dtype: int64"
      ]
     },
     "execution_count": 4,
     "metadata": {},
     "output_type": "execute_result"
    }
   ],
   "source": [
    "data.isna().sum() #print the sum of null values for each columns"
   ]
  },
  {
   "cell_type": "code",
   "execution_count": 5,
   "metadata": {
    "scrolled": true
   },
   "outputs": [],
   "source": [
    "data.drop(['From Date', 'To Date'],axis=1,inplace=True) "
   ]
  },
  {
   "cell_type": "code",
   "execution_count": 6,
   "metadata": {},
   "outputs": [],
   "source": [
    "data = data.replace(to_replace = np.NaN, value = 0)\n",
    "data = data.replace(to_replace = np.NaN, value = 0)\n",
    "data = data.replace(to_replace = np.NaN, value = 0)\n",
    "data = data.replace(to_replace = np.NaN, value = 0)\n",
    "data = data.replace(to_replace = np.NaN, value = 0)\n",
    "data = data.replace(to_replace = np.NaN, value = 0)\n",
    "data = data.replace(to_replace = np.NaN, value = 0)"
   ]
  },
  {
   "cell_type": "markdown",
   "metadata": {},
   "source": [
    "# CALCULATE AIR QUALITY INDEX FOR POLLUTANTS BASED ON FORMULA\n",
    "\n",
    "\n",
    "The air quality index is a piecewise linear function of the pollutant concentration. At the boundary between AQI categories, there is a discontinuous jump of one AQI unit. To convert from concentration to AQI this equation is used\n",
    "\\begin{equation*}\n",
    "I = I_{low} +  \\frac{I_{high}-I_{low}}{C_{high}-C_{low}}{(C-C_{low})}\n",
    "\\end{equation*}\n",
    "\n"
   ]
  },
  {
   "cell_type": "code",
   "execution_count": 7,
   "metadata": {},
   "outputs": [],
   "source": [
    "def cal_SOi(so2):\n",
    "    si=0\n",
    "    if (so2<=40):\n",
    "     si= so2*(50/40)\n",
    "    elif (so2>40 and so2<=80):\n",
    "     si= 50+(so2-40)*(50/40)\n",
    "    elif (so2>80 and so2<=380):\n",
    "     si= 100+(so2-80)*(100/300)\n",
    "    elif (so2>380 and so2<=800):\n",
    "     si= 200+(so2-380)*(100/420)\n",
    "    elif (so2>800 and so2<=1600):\n",
    "     si= 300+(so2-800)*(100/800)\n",
    "    elif (so2>1600):\n",
    "     si= 400+(so2-1600)*(100/800)\n",
    "    return si\n",
    "data['SO2']\n",
    "data['SO2i']=data['SO2'].apply(cal_SOi)\n",
    "df= data[['SO2','SO2i']]\n"
   ]
  },
  {
   "cell_type": "code",
   "execution_count": 8,
   "metadata": {},
   "outputs": [],
   "source": [
    "def cal_Noi(no2):\n",
    "    ni=0\n",
    "    if(no2<=40):\n",
    "     ni= no2*50/40\n",
    "    elif(no2>40 and no2<=80):\n",
    "     ni= 50+(no2-40)*(50/40)\n",
    "    elif(no2>80 and no2<=180):\n",
    "     ni= 100+(no2-80)*(100/100)\n",
    "    elif(no2>180 and no2<=280):\n",
    "     ni= 200+(no2-180)*(100/100)\n",
    "    elif(no2>280 and no2<=400):\n",
    "     ni= 300+(no2-280)*(100/120)\n",
    "    else:\n",
    "     ni= 400+(no2-400)*(100/120)\n",
    "    return ni\n",
    "data['NOi']=data['NO2'].apply(cal_Noi)\n",
    "df= data[['NO2','NOi']]\n"
   ]
  },
  {
   "cell_type": "code",
   "execution_count": 9,
   "metadata": {},
   "outputs": [],
   "source": [
    "def cal_pmi(pm2_5):\n",
    "    pmi=0\n",
    "    if(pm2_5<=30):\n",
    "     pmi=pm2_5*(50/30)\n",
    "    elif(pm2_5>30 and pm2_5<=60):\n",
    "     pmi=50+(pm2_5-30)*(50/30)\n",
    "    elif(pm2_5>60 and pm2_5<=90):\n",
    "     pmi= 100+(pm2_5-60)*(100/30)\n",
    "    elif(pm2_5>90 and pm2_5<=120):\n",
    "     pmi=200+(pm2_5-90)*(100/30)\n",
    "    elif(pm2_5>120 and pm2_5<=250):\n",
    "     pmi=300+(pm2_5-120)*(100/130)\n",
    "    else:\n",
    "     pmi=400+(pm2_5-250)*(100/130)\n",
    "    return pmi\n",
    "data['PM25i']=data['PM2.5'].apply(cal_pmi)\n",
    "\n"
   ]
  },
  {
   "cell_type": "code",
   "execution_count": 10,
   "metadata": {},
   "outputs": [],
   "source": [
    "def cal_pm10(pm10):\n",
    "    pm10i = 0\n",
    "    if(pm10<=50):\n",
    "     pm10i= pm10*50/40\n",
    "    elif(pm10>50 and pm10<=100):\n",
    "     pm10i= 50+(pm10-40)*(50/40)\n",
    "    elif(pm10>100 and pm10<=250):\n",
    "     pm10i= 100+(pm10-80)*(100/100)\n",
    "    elif(pm10>250 and pm10<=350):\n",
    "     pm10i= 200+(pm10-180)*(100/100)\n",
    "    elif(pm10>350 and pm10<=430):\n",
    "     pm10i= 300+(pm10-280)*(100/120)\n",
    "    else:\n",
    "     pm10i= 400+(pm10-400)*(100/120)\n",
    "    return pm10i\n",
    "data['PM10i']=data['PM10'].apply(cal_pm10)\n",
    "df= data[['PM10','PM10i']]\n",
    " "
   ]
  },
  {
   "cell_type": "code",
   "execution_count": 11,
   "metadata": {},
   "outputs": [],
   "source": [
    "def cal_Ozone(oz):\n",
    "    ozi = 0\n",
    "    if(oz<=50):\n",
    "     ozi= oz*50/50\n",
    "    elif(oz>50 and oz<=100):\n",
    "     ozi= 50+(oz-50)*(50/50)\n",
    "    elif(oz>100 and oz<=168):\n",
    "     ozi= 100+(oz-100)*(100/68)\n",
    "    elif(oz>168 and oz<=208):\n",
    "     ozi= 200+(oz-168)*(100/40)\n",
    "    elif(oz>208 and oz<=748):\n",
    "     ozi= 300+(oz-208)*(100/540)\n",
    "    else:\n",
    "     ozi= 400+(oz-748)*(100/540)\n",
    "    return ozi\n",
    "data['Ozonei']=data['Ozone'].apply(cal_Ozone)\n",
    "df = data[['Ozone', 'Ozonei']]\n"
   ]
  },
  {
   "cell_type": "code",
   "execution_count": 12,
   "metadata": {},
   "outputs": [],
   "source": [
    "def cal_NH3(nh):\n",
    "    nhi = 0\n",
    "    if(nh<=200):\n",
    "     nhi= nh*50/200\n",
    "    elif(nh>200 and nh<=400):\n",
    "     nhi= 50+(nh-200)*(50/200)\n",
    "    elif(nh>400 and nh<=800):\n",
    "     nhi= 100+(nh-400)*(100/400)\n",
    "    elif(nh>800 and nh<=1200):\n",
    "     nhi= 200+(nh-800)*(100/400)\n",
    "    elif(nh>1200 and nh<=1800):\n",
    "     nhi= 300+(nh-1200)*(100/600)\n",
    "    else:\n",
    "     nhi= 400+(nh-1800)*(100/600)\n",
    "    return nhi\n",
    "data['NH3i']=data['NH3'].apply(cal_NH3)\n",
    "df = data[['NH3', 'NH3i']]\n"
   ]
  },
  {
   "cell_type": "code",
   "execution_count": 13,
   "metadata": {},
   "outputs": [],
   "source": [
    "def cal_CO(co):\n",
    "    coi = 0\n",
    "    if(co<=1.0):\n",
    "     coi= co*50/1.0\n",
    "    elif(co>1.0 and co<=2.0):\n",
    "     coi= 50+(co-1.0)*(50/1.0)\n",
    "    elif(co>2.0 and co<=10):\n",
    "     coi= 100+(co-2)*(100/8)\n",
    "    elif(co>10 and co<=17):\n",
    "     coi= 200+(co-10)*(100/7)\n",
    "    elif(co>17 and co<=34):\n",
    "     coi= 300+(co-17)*(100/17)\n",
    "    else:\n",
    "     coi= 400+(co-34)*(100/17)\n",
    "    return coi\n",
    "data['COi']=data['CO'].apply(cal_CO)\n",
    "df = data[['CO', 'COi']]"
   ]
  },
  {
   "cell_type": "code",
   "execution_count": 14,
   "metadata": {},
   "outputs": [],
   "source": [
    "def cal_aqi(si,ni,pm25i,pm10i,ozi,nhi,coi):\n",
    "    aqi=0\n",
    "    if(si>ni and si>pm25i and si>pm10i and si>ozi and si>nhi and si>coi):\n",
    "     aqi=si\n",
    "    if(ni>si and ni>pm25i and ni>pm10i and ni>ozi and ni>nhi and ni>coi):\n",
    "     aqi=ni\n",
    "    if(pm25i>si and pm25i>ni and pm25i>pm10i and pm25i>ozi and pm25i>nhi and pm25i>coi):\n",
    "     aqi=pm25i\n",
    "    if(pm10i>si and pm10i>ni and pm10i>pm25i and pm10i>ozi and pm10i>nhi and pm10i>coi):\n",
    "     aqi=pm10i\n",
    "    if(ozi>si and ozi>ni and ozi>pm25i and ozi>pm10i and ozi>nhi and ozi>coi):\n",
    "     aqi=ozi\n",
    "    if(nhi>si and nhi>ni and nhi>pm25i and nhi>pm10i and nhi>ozi and nhi>coi):\n",
    "     aqi=nhi\n",
    "    if(coi>si and coi>ni and coi>pm25i and coi>pm10i and coi>nhi and coi>ozi):\n",
    "     aqi=coi\n",
    "    return aqi\n",
    "\n",
    "data['AQI']=data.apply(lambda x:cal_aqi(x['SO2i'],x['NOi'],x['PM25i'],x['PM10i'],x['Ozonei'],x['NH3i'],x['COi']),axis=1)\n",
    "df= data[['SO2i','NOi','PM25i','PM10i','Ozonei','NH3i','COi','AQI']]"
   ]
  },
  {
   "cell_type": "markdown",
   "metadata": {},
   "source": [
    "# AQI RANGE for corresponding AQI value "
   ]
  },
  {
   "cell_type": "code",
   "execution_count": 15,
   "metadata": {},
   "outputs": [],
   "source": [
    "def AQI_Range(x):\n",
    "    if x<=50:\n",
    "        return \"Good\"\n",
    "    elif x>50 and x<=100:\n",
    "        return \"Satisfactory\"\n",
    "    elif x>100 and x<=200:\n",
    "        return \"Moderately Polluted\"\n",
    "    elif x>200 and x<=300:\n",
    "        return \"Poor\"\n",
    "    elif x>300 and x<=400:\n",
    "        return \"Very poor\"\n",
    "    elif x>400:\n",
    "        return \"Severe\"\n",
    "\n",
    "data['AQI_Range'] = data['AQI'] .apply(AQI_Range)\n"
   ]
  },
  {
   "cell_type": "markdown",
   "metadata": {},
   "source": [
    "# Linear Regression prediction"
   ]
  },
  {
   "cell_type": "code",
   "execution_count": 16,
   "metadata": {},
   "outputs": [],
   "source": [
    "from sklearn.model_selection import train_test_split\n",
    "from sklearn.linear_model import LinearRegression\n",
    "from sklearn.metrics import mean_squared_log_error\n",
    "from sklearn.metrics import mean_squared_error\n",
    "from sklearn.metrics import r2_score, mean_squared_error\n",
    "from sklearn.model_selection import KFold\n",
    "from sklearn.model_selection import cross_val_score\n",
    "X = data[['PM2.5','PM10','NO2','SO2','NH3','CO','Ozone']]\n",
    "y = data['AQI']"
   ]
  },
  {
   "cell_type": "code",
   "execution_count": 17,
   "metadata": {},
   "outputs": [
    {
     "data": {
      "text/plain": [
       "0.9179963449761938"
      ]
     },
     "execution_count": 17,
     "metadata": {},
     "output_type": "execute_result"
    }
   ],
   "source": [
    "X_train, X_test, y_train, y_test = train_test_split(X,y, test_size=0.2,random_state=101)\n",
    "LR = LinearRegression() \n",
    "LR.fit(X_train, y_train)\n",
    "predictions = LR.predict(X_test)\n",
    "LR.score(X_test,y_test) "
   ]
  },
  {
   "cell_type": "code",
   "execution_count": 18,
   "metadata": {},
   "outputs": [
    {
     "name": "stderr",
     "output_type": "stream",
     "text": [
      "/home/ashwini/.local/lib/python3.8/site-packages/sklearn/base.py:450: UserWarning: X does not have valid feature names, but LinearRegression was fitted with feature names\n",
      "  warnings.warn(\n"
     ]
    },
    {
     "data": {
      "text/plain": [
       "array([108.97672376])"
      ]
     },
     "execution_count": 18,
     "metadata": {},
     "output_type": "execute_result"
    }
   ],
   "source": [
    "LR.predict([[40.80,86.26,17.77,5.52,3.75,0.83,26.29]])"
   ]
  },
  {
   "cell_type": "code",
   "execution_count": 19,
   "metadata": {},
   "outputs": [
    {
     "name": "stdout",
     "output_type": "stream",
     "text": [
      "R^2_Square:0.92 \n",
      "MSE:32.80 \n"
     ]
    }
   ],
   "source": [
    "print('R^2_Square:%.2f '% r2_score(y_test, predictions))\n",
    "print('MSE:%.2f '% np.sqrt(mean_squared_error(y_test, predictions)))"
   ]
  },
  {
   "cell_type": "markdown",
   "metadata": {},
   "source": [
    "#  Using Random forest classifier"
   ]
  },
  {
   "cell_type": "code",
   "execution_count": 20,
   "metadata": {},
   "outputs": [],
   "source": [
    "from sklearn.ensemble import RandomForestClassifier\n",
    "from sklearn.metrics import precision_score\n",
    "X2 = data[['PM2.5','PM10','NO2','SO2','NH3','CO','Ozone']]\n",
    "y2 = data['AQI_Range']\n",
    "X_train2, X_test2, y_train2, y_test2 = train_test_split(X2, y2, test_size=0.33, random_state=42)"
   ]
  },
  {
   "cell_type": "code",
   "execution_count": 21,
   "metadata": {},
   "outputs": [],
   "source": [
    "model = RandomForestClassifier(n_estimators=10)\n",
    "model.fit(X_train2,y_train2)\n",
    "predictions=model.predict(X_test2)"
   ]
  },
  {
   "cell_type": "code",
   "execution_count": 22,
   "metadata": {},
   "outputs": [
    {
     "data": {
      "text/plain": [
       "0.991377245508982"
      ]
     },
     "execution_count": 22,
     "metadata": {},
     "output_type": "execute_result"
    }
   ],
   "source": [
    "model.score(X_test2,y_test2) "
   ]
  },
  {
   "cell_type": "code",
   "execution_count": 23,
   "metadata": {},
   "outputs": [
    {
     "name": "stderr",
     "output_type": "stream",
     "text": [
      "/home/ashwini/.local/lib/python3.8/site-packages/sklearn/base.py:450: UserWarning: X does not have valid feature names, but RandomForestClassifier was fitted with feature names\n",
      "  warnings.warn(\n"
     ]
    },
    {
     "data": {
      "text/plain": [
       "array(['Moderately Polluted'], dtype=object)"
      ]
     },
     "execution_count": 23,
     "metadata": {},
     "output_type": "execute_result"
    }
   ],
   "source": [
    "model.predict([[40.80,86.26,17.77,5.52,3.75,0.83,26.29]]) #correct"
   ]
  },
  {
   "cell_type": "markdown",
   "metadata": {},
   "source": [
    "# Using Decision Tree Classifier"
   ]
  },
  {
   "cell_type": "code",
   "execution_count": 24,
   "metadata": {},
   "outputs": [],
   "source": [
    "from sklearn import tree\n",
    "model2 = tree.DecisionTreeClassifier()\n",
    "X2 = data[['PM2.5','PM10','NO2','SO2','NH3','CO','Ozone']]\n",
    "y2 = data['AQI_Range']\n",
    "X_train2, X_test2, y_train2, y_test2 = train_test_split(X2, y2, test_size=0.33, random_state=42)"
   ]
  },
  {
   "cell_type": "code",
   "execution_count": 25,
   "metadata": {},
   "outputs": [
    {
     "data": {
      "text/plain": [
       "0.9961676646706586"
      ]
     },
     "execution_count": 25,
     "metadata": {},
     "output_type": "execute_result"
    }
   ],
   "source": [
    "model2.fit(X_train2,y_train2)\n",
    "predictions=model2.predict(X_test2)\n",
    "model2.score(X_test2,y_test2) "
   ]
  },
  {
   "cell_type": "code",
   "execution_count": null,
   "metadata": {},
   "outputs": [
    {
     "name": "stderr",
     "output_type": "stream",
     "text": [
      "/home/ashwini/.local/lib/python3.8/site-packages/sklearn/base.py:450: UserWarning: X does not have valid feature names, but DecisionTreeClassifier was fitted with feature names\n",
      "  warnings.warn(\n"
     ]
    },
    {
     "data": {
      "text/plain": [
       "array(['Satisfactory'], dtype=object)"
      ]
     },
     "execution_count": 25,
     "metadata": {},
     "output_type": "execute_result"
    }
   ],
   "source": [
    "model2.predict([[50.08,78.39,12.82,5.16,4.15,0.27,39.34]]) # correct"
   ]
  },
  {
   "cell_type": "code",
   "execution_count": null,
   "metadata": {},
   "outputs": [],
   "source": []
  }
 ],
 "metadata": {
  "interpreter": {
   "hash": "31f2aee4e71d21fbe5cf8b01ff0e069b9275f58929596ceb00d14d90e3e16cd6"
  },
  "kernelspec": {
   "display_name": "Python 3.8.10 64-bit",
   "language": "python",
   "name": "python3"
  },
  "language_info": {
   "codemirror_mode": {
    "name": "ipython",
    "version": 3
   },
   "file_extension": ".py",
   "mimetype": "text/x-python",
   "name": "python",
   "nbconvert_exporter": "python",
   "pygments_lexer": "ipython3",
   "version": "3.8.10"
  },
  "orig_nbformat": 4
 },
 "nbformat": 4,
 "nbformat_minor": 2
}
