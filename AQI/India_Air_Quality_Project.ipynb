{
 "cells": [
  {
   "cell_type": "code",
   "execution_count": 1,
   "metadata": {
    "_cell_guid": "b1076dfc-b9ad-4769-8c92-a6c4dae69d19",
    "_uuid": "8f2839f25d086af736a60e9eeb907d3b93b6e0e5"
   },
   "outputs": [],
   "source": [
    "import numpy as np \n",
    "import pandas as pd \n",
    "# import seaborn as sns\n",
    "import matplotlib.pyplot as plt\n",
    "%matplotlib inline"
   ]
  },
  {
   "cell_type": "code",
   "execution_count": 2,
   "metadata": {
    "_cell_guid": "79c7e3d0-c299-4dcb-8224-4455121ee9b0",
    "_uuid": "d629ff2d2480ee46fbb7e2d37f6b5fab8052498a"
   },
   "outputs": [],
   "source": [
    "data = pd.read_csv('Final-dataset.csv') #import data "
   ]
  },
  {
   "cell_type": "code",
   "execution_count": 3,
   "metadata": {},
   "outputs": [
    {
     "data": {
      "text/html": [
       "<div>\n",
       "<style scoped>\n",
       "    .dataframe tbody tr th:only-of-type {\n",
       "        vertical-align: middle;\n",
       "    }\n",
       "\n",
       "    .dataframe tbody tr th {\n",
       "        vertical-align: top;\n",
       "    }\n",
       "\n",
       "    .dataframe thead th {\n",
       "        text-align: right;\n",
       "    }\n",
       "</style>\n",
       "<table border=\"1\" class=\"dataframe\">\n",
       "  <thead>\n",
       "    <tr style=\"text-align: right;\">\n",
       "      <th></th>\n",
       "      <th>From Date</th>\n",
       "      <th>To Date</th>\n",
       "      <th>PM2.5</th>\n",
       "      <th>PM10</th>\n",
       "      <th>NO2</th>\n",
       "      <th>SO2</th>\n",
       "      <th>NH3</th>\n",
       "      <th>CO</th>\n",
       "      <th>Ozone</th>\n",
       "    </tr>\n",
       "  </thead>\n",
       "  <tbody>\n",
       "    <tr>\n",
       "      <th>0</th>\n",
       "      <td>01-01-2020 00:00</td>\n",
       "      <td>02-01-2020 00:00</td>\n",
       "      <td>50.08</td>\n",
       "      <td>78.39</td>\n",
       "      <td>12.82</td>\n",
       "      <td>5.16</td>\n",
       "      <td>4.15</td>\n",
       "      <td>0.27</td>\n",
       "      <td>39.34</td>\n",
       "    </tr>\n",
       "    <tr>\n",
       "      <th>1</th>\n",
       "      <td>02-01-2020 00:00</td>\n",
       "      <td>03-01-2020 00:00</td>\n",
       "      <td>41.34</td>\n",
       "      <td>74.04</td>\n",
       "      <td>15.25</td>\n",
       "      <td>2.91</td>\n",
       "      <td>4.53</td>\n",
       "      <td>0.38</td>\n",
       "      <td>35.31</td>\n",
       "    </tr>\n",
       "    <tr>\n",
       "      <th>2</th>\n",
       "      <td>03-01-2020 00:00</td>\n",
       "      <td>04-01-2020 00:00</td>\n",
       "      <td>40.38</td>\n",
       "      <td>80.06</td>\n",
       "      <td>19.42</td>\n",
       "      <td>4.77</td>\n",
       "      <td>3.70</td>\n",
       "      <td>0.52</td>\n",
       "      <td>25.21</td>\n",
       "    </tr>\n",
       "    <tr>\n",
       "      <th>3</th>\n",
       "      <td>04-01-2020 00:00</td>\n",
       "      <td>05-01-2020 00:00</td>\n",
       "      <td>40.80</td>\n",
       "      <td>86.26</td>\n",
       "      <td>17.77</td>\n",
       "      <td>5.52</td>\n",
       "      <td>3.75</td>\n",
       "      <td>0.83</td>\n",
       "      <td>26.29</td>\n",
       "    </tr>\n",
       "    <tr>\n",
       "      <th>4</th>\n",
       "      <td>05-01-2020 00:00</td>\n",
       "      <td>06-01-2020 00:00</td>\n",
       "      <td>42.55</td>\n",
       "      <td>70.35</td>\n",
       "      <td>16.32</td>\n",
       "      <td>1.24</td>\n",
       "      <td>3.44</td>\n",
       "      <td>0.38</td>\n",
       "      <td>21.13</td>\n",
       "    </tr>\n",
       "    <tr>\n",
       "      <th>5</th>\n",
       "      <td>06-01-2020 00:00</td>\n",
       "      <td>07-01-2020 00:00</td>\n",
       "      <td>33.25</td>\n",
       "      <td>80.47</td>\n",
       "      <td>13.28</td>\n",
       "      <td>7.00</td>\n",
       "      <td>3.49</td>\n",
       "      <td>0.52</td>\n",
       "      <td>30.51</td>\n",
       "    </tr>\n",
       "    <tr>\n",
       "      <th>6</th>\n",
       "      <td>07-01-2020 00:00</td>\n",
       "      <td>08-01-2020 00:00</td>\n",
       "      <td>41.59</td>\n",
       "      <td>73.54</td>\n",
       "      <td>12.03</td>\n",
       "      <td>8.37</td>\n",
       "      <td>1.99</td>\n",
       "      <td>0.66</td>\n",
       "      <td>20.39</td>\n",
       "    </tr>\n",
       "    <tr>\n",
       "      <th>7</th>\n",
       "      <td>08-01-2020 00:00</td>\n",
       "      <td>09-01-2020 00:00</td>\n",
       "      <td>36.65</td>\n",
       "      <td>66.38</td>\n",
       "      <td>10.68</td>\n",
       "      <td>5.67</td>\n",
       "      <td>5.82</td>\n",
       "      <td>0.52</td>\n",
       "      <td>30.95</td>\n",
       "    </tr>\n",
       "    <tr>\n",
       "      <th>8</th>\n",
       "      <td>09-01-2020 00:00</td>\n",
       "      <td>10-01-2020 00:00</td>\n",
       "      <td>26.73</td>\n",
       "      <td>65.30</td>\n",
       "      <td>9.76</td>\n",
       "      <td>4.03</td>\n",
       "      <td>8.61</td>\n",
       "      <td>0.43</td>\n",
       "      <td>26.33</td>\n",
       "    </tr>\n",
       "    <tr>\n",
       "      <th>9</th>\n",
       "      <td>10-01-2020 00:00</td>\n",
       "      <td>11-01-2020 00:00</td>\n",
       "      <td>24.26</td>\n",
       "      <td>62.33</td>\n",
       "      <td>8.50</td>\n",
       "      <td>6.05</td>\n",
       "      <td>8.73</td>\n",
       "      <td>0.41</td>\n",
       "      <td>37.00</td>\n",
       "    </tr>\n",
       "  </tbody>\n",
       "</table>\n",
       "</div>"
      ],
      "text/plain": [
       "          From Date           To Date  PM2.5   PM10    NO2   SO2   NH3    CO  \\\n",
       "0  01-01-2020 00:00  02-01-2020 00:00  50.08  78.39  12.82  5.16  4.15  0.27   \n",
       "1  02-01-2020 00:00  03-01-2020 00:00  41.34  74.04  15.25  2.91  4.53  0.38   \n",
       "2  03-01-2020 00:00  04-01-2020 00:00  40.38  80.06  19.42  4.77  3.70  0.52   \n",
       "3  04-01-2020 00:00  05-01-2020 00:00  40.80  86.26  17.77  5.52  3.75  0.83   \n",
       "4  05-01-2020 00:00  06-01-2020 00:00  42.55  70.35  16.32  1.24  3.44  0.38   \n",
       "5  06-01-2020 00:00  07-01-2020 00:00  33.25  80.47  13.28  7.00  3.49  0.52   \n",
       "6  07-01-2020 00:00  08-01-2020 00:00  41.59  73.54  12.03  8.37  1.99  0.66   \n",
       "7  08-01-2020 00:00  09-01-2020 00:00  36.65  66.38  10.68  5.67  5.82  0.52   \n",
       "8  09-01-2020 00:00  10-01-2020 00:00  26.73  65.30   9.76  4.03  8.61  0.43   \n",
       "9  10-01-2020 00:00  11-01-2020 00:00  24.26  62.33   8.50  6.05  8.73  0.41   \n",
       "\n",
       "   Ozone  \n",
       "0  39.34  \n",
       "1  35.31  \n",
       "2  25.21  \n",
       "3  26.29  \n",
       "4  21.13  \n",
       "5  30.51  \n",
       "6  20.39  \n",
       "7  30.95  \n",
       "8  26.33  \n",
       "9  37.00  "
      ]
     },
     "execution_count": 3,
     "metadata": {},
     "output_type": "execute_result"
    }
   ],
   "source": [
    "data.head(10) #print first 10 rows"
   ]
  },
  {
   "cell_type": "code",
   "execution_count": 4,
   "metadata": {},
   "outputs": [
    {
     "data": {
      "text/html": [
       "<div>\n",
       "<style scoped>\n",
       "    .dataframe tbody tr th:only-of-type {\n",
       "        vertical-align: middle;\n",
       "    }\n",
       "\n",
       "    .dataframe tbody tr th {\n",
       "        vertical-align: top;\n",
       "    }\n",
       "\n",
       "    .dataframe thead th {\n",
       "        text-align: right;\n",
       "    }\n",
       "</style>\n",
       "<table border=\"1\" class=\"dataframe\">\n",
       "  <thead>\n",
       "    <tr style=\"text-align: right;\">\n",
       "      <th></th>\n",
       "      <th>From Date</th>\n",
       "      <th>To Date</th>\n",
       "      <th>PM2.5</th>\n",
       "      <th>PM10</th>\n",
       "      <th>NO2</th>\n",
       "      <th>SO2</th>\n",
       "      <th>NH3</th>\n",
       "      <th>CO</th>\n",
       "      <th>Ozone</th>\n",
       "    </tr>\n",
       "  </thead>\n",
       "  <tbody>\n",
       "    <tr>\n",
       "      <th>12640</th>\n",
       "      <td>14-04-2022 00:00</td>\n",
       "      <td>15-04-2022 00:00</td>\n",
       "      <td>39.92</td>\n",
       "      <td>87.79</td>\n",
       "      <td>14.68</td>\n",
       "      <td>4.30</td>\n",
       "      <td>25.13</td>\n",
       "      <td>0.70</td>\n",
       "      <td>24.31</td>\n",
       "    </tr>\n",
       "    <tr>\n",
       "      <th>12641</th>\n",
       "      <td>15-04-2022 00:00</td>\n",
       "      <td>16-04-2022 00:00</td>\n",
       "      <td>40.01</td>\n",
       "      <td>87.92</td>\n",
       "      <td>13.67</td>\n",
       "      <td>4.36</td>\n",
       "      <td>25.74</td>\n",
       "      <td>0.74</td>\n",
       "      <td>25.99</td>\n",
       "    </tr>\n",
       "    <tr>\n",
       "      <th>12642</th>\n",
       "      <td>16-04-2022 00:00</td>\n",
       "      <td>17-04-2022 00:00</td>\n",
       "      <td>38.94</td>\n",
       "      <td>85.11</td>\n",
       "      <td>13.44</td>\n",
       "      <td>4.54</td>\n",
       "      <td>25.84</td>\n",
       "      <td>0.79</td>\n",
       "      <td>25.97</td>\n",
       "    </tr>\n",
       "    <tr>\n",
       "      <th>12643</th>\n",
       "      <td>17-04-2022 00:00</td>\n",
       "      <td>18-04-2022 00:00</td>\n",
       "      <td>37.25</td>\n",
       "      <td>81.08</td>\n",
       "      <td>14.72</td>\n",
       "      <td>4.15</td>\n",
       "      <td>25.30</td>\n",
       "      <td>0.70</td>\n",
       "      <td>39.12</td>\n",
       "    </tr>\n",
       "    <tr>\n",
       "      <th>12644</th>\n",
       "      <td>18-04-2022 00:00</td>\n",
       "      <td>19-04-2022 00:00</td>\n",
       "      <td>37.21</td>\n",
       "      <td>81.14</td>\n",
       "      <td>15.16</td>\n",
       "      <td>4.40</td>\n",
       "      <td>25.06</td>\n",
       "      <td>0.65</td>\n",
       "      <td>NaN</td>\n",
       "    </tr>\n",
       "    <tr>\n",
       "      <th>12645</th>\n",
       "      <td>19-04-2022 00:00</td>\n",
       "      <td>20-04-2022 00:00</td>\n",
       "      <td>37.18</td>\n",
       "      <td>81.15</td>\n",
       "      <td>18.24</td>\n",
       "      <td>4.58</td>\n",
       "      <td>25.01</td>\n",
       "      <td>0.85</td>\n",
       "      <td>NaN</td>\n",
       "    </tr>\n",
       "    <tr>\n",
       "      <th>12646</th>\n",
       "      <td>20-04-2022 00:00</td>\n",
       "      <td>21-04-2022 00:00</td>\n",
       "      <td>37.13</td>\n",
       "      <td>80.87</td>\n",
       "      <td>19.99</td>\n",
       "      <td>4.76</td>\n",
       "      <td>25.51</td>\n",
       "      <td>1.00</td>\n",
       "      <td>NaN</td>\n",
       "    </tr>\n",
       "    <tr>\n",
       "      <th>12647</th>\n",
       "      <td>21-04-2022 00:00</td>\n",
       "      <td>22-04-2022 00:00</td>\n",
       "      <td>37.09</td>\n",
       "      <td>81.17</td>\n",
       "      <td>18.44</td>\n",
       "      <td>4.29</td>\n",
       "      <td>25.14</td>\n",
       "      <td>0.85</td>\n",
       "      <td>NaN</td>\n",
       "    </tr>\n",
       "    <tr>\n",
       "      <th>12648</th>\n",
       "      <td>22-04-2022 00:00</td>\n",
       "      <td>23-04-2022 00:00</td>\n",
       "      <td>37.13</td>\n",
       "      <td>81.08</td>\n",
       "      <td>16.56</td>\n",
       "      <td>4.21</td>\n",
       "      <td>25.97</td>\n",
       "      <td>0.83</td>\n",
       "      <td>NaN</td>\n",
       "    </tr>\n",
       "    <tr>\n",
       "      <th>12649</th>\n",
       "      <td>23-04-2022 00:00</td>\n",
       "      <td>24-04-2022 00:00</td>\n",
       "      <td>37.06</td>\n",
       "      <td>81.00</td>\n",
       "      <td>15.33</td>\n",
       "      <td>4.78</td>\n",
       "      <td>25.86</td>\n",
       "      <td>0.76</td>\n",
       "      <td>NaN</td>\n",
       "    </tr>\n",
       "  </tbody>\n",
       "</table>\n",
       "</div>"
      ],
      "text/plain": [
       "              From Date           To Date  PM2.5   PM10    NO2   SO2    NH3  \\\n",
       "12640  14-04-2022 00:00  15-04-2022 00:00  39.92  87.79  14.68  4.30  25.13   \n",
       "12641  15-04-2022 00:00  16-04-2022 00:00  40.01  87.92  13.67  4.36  25.74   \n",
       "12642  16-04-2022 00:00  17-04-2022 00:00  38.94  85.11  13.44  4.54  25.84   \n",
       "12643  17-04-2022 00:00  18-04-2022 00:00  37.25  81.08  14.72  4.15  25.30   \n",
       "12644  18-04-2022 00:00  19-04-2022 00:00  37.21  81.14  15.16  4.40  25.06   \n",
       "12645  19-04-2022 00:00  20-04-2022 00:00  37.18  81.15  18.24  4.58  25.01   \n",
       "12646  20-04-2022 00:00  21-04-2022 00:00  37.13  80.87  19.99  4.76  25.51   \n",
       "12647  21-04-2022 00:00  22-04-2022 00:00  37.09  81.17  18.44  4.29  25.14   \n",
       "12648  22-04-2022 00:00  23-04-2022 00:00  37.13  81.08  16.56  4.21  25.97   \n",
       "12649  23-04-2022 00:00  24-04-2022 00:00  37.06  81.00  15.33  4.78  25.86   \n",
       "\n",
       "         CO  Ozone  \n",
       "12640  0.70  24.31  \n",
       "12641  0.74  25.99  \n",
       "12642  0.79  25.97  \n",
       "12643  0.70  39.12  \n",
       "12644  0.65    NaN  \n",
       "12645  0.85    NaN  \n",
       "12646  1.00    NaN  \n",
       "12647  0.85    NaN  \n",
       "12648  0.83    NaN  \n",
       "12649  0.76    NaN  "
      ]
     },
     "execution_count": 4,
     "metadata": {},
     "output_type": "execute_result"
    }
   ],
   "source": [
    "data.tail(10) #printing last 10 rows"
   ]
  },
  {
   "cell_type": "code",
   "execution_count": 5,
   "metadata": {},
   "outputs": [
    {
     "data": {
      "text/plain": [
       "Index(['From Date', 'To Date', 'PM2.5', 'PM10', 'NO2', 'SO2', 'NH3', 'CO',\n",
       "       'Ozone'],\n",
       "      dtype='object')"
      ]
     },
     "execution_count": 5,
     "metadata": {},
     "output_type": "execute_result"
    }
   ],
   "source": [
    "data.columns #print the columns/features of the data"
   ]
  },
  {
   "cell_type": "code",
   "execution_count": 6,
   "metadata": {},
   "outputs": [
    {
     "data": {
      "text/html": [
       "<div>\n",
       "<style scoped>\n",
       "    .dataframe tbody tr th:only-of-type {\n",
       "        vertical-align: middle;\n",
       "    }\n",
       "\n",
       "    .dataframe tbody tr th {\n",
       "        vertical-align: top;\n",
       "    }\n",
       "\n",
       "    .dataframe thead th {\n",
       "        text-align: right;\n",
       "    }\n",
       "</style>\n",
       "<table border=\"1\" class=\"dataframe\">\n",
       "  <thead>\n",
       "    <tr style=\"text-align: right;\">\n",
       "      <th></th>\n",
       "      <th>PM2.5</th>\n",
       "      <th>PM10</th>\n",
       "      <th>NO2</th>\n",
       "      <th>SO2</th>\n",
       "      <th>NH3</th>\n",
       "      <th>CO</th>\n",
       "      <th>Ozone</th>\n",
       "    </tr>\n",
       "  </thead>\n",
       "  <tbody>\n",
       "    <tr>\n",
       "      <th>count</th>\n",
       "      <td>12231.000000</td>\n",
       "      <td>11885.000000</td>\n",
       "      <td>12238.000000</td>\n",
       "      <td>12312.000000</td>\n",
       "      <td>12218.000000</td>\n",
       "      <td>12300.000000</td>\n",
       "      <td>11826.000000</td>\n",
       "    </tr>\n",
       "    <tr>\n",
       "      <th>mean</th>\n",
       "      <td>60.647790</td>\n",
       "      <td>114.896127</td>\n",
       "      <td>23.815819</td>\n",
       "      <td>12.447022</td>\n",
       "      <td>21.123112</td>\n",
       "      <td>0.884266</td>\n",
       "      <td>32.672871</td>\n",
       "    </tr>\n",
       "    <tr>\n",
       "      <th>std</th>\n",
       "      <td>65.893178</td>\n",
       "      <td>108.653204</td>\n",
       "      <td>20.341287</td>\n",
       "      <td>13.815932</td>\n",
       "      <td>19.644400</td>\n",
       "      <td>0.578904</td>\n",
       "      <td>20.986734</td>\n",
       "    </tr>\n",
       "    <tr>\n",
       "      <th>min</th>\n",
       "      <td>0.690000</td>\n",
       "      <td>0.000000</td>\n",
       "      <td>0.320000</td>\n",
       "      <td>0.030000</td>\n",
       "      <td>0.020000</td>\n",
       "      <td>0.000000</td>\n",
       "      <td>0.030000</td>\n",
       "    </tr>\n",
       "    <tr>\n",
       "      <th>25%</th>\n",
       "      <td>23.430000</td>\n",
       "      <td>48.060000</td>\n",
       "      <td>11.470000</td>\n",
       "      <td>3.560000</td>\n",
       "      <td>8.410000</td>\n",
       "      <td>0.510000</td>\n",
       "      <td>15.552500</td>\n",
       "    </tr>\n",
       "    <tr>\n",
       "      <th>50%</th>\n",
       "      <td>38.170000</td>\n",
       "      <td>77.500000</td>\n",
       "      <td>18.190000</td>\n",
       "      <td>8.620000</td>\n",
       "      <td>14.420000</td>\n",
       "      <td>0.750000</td>\n",
       "      <td>29.545000</td>\n",
       "    </tr>\n",
       "    <tr>\n",
       "      <th>75%</th>\n",
       "      <td>67.400000</td>\n",
       "      <td>134.060000</td>\n",
       "      <td>28.727500</td>\n",
       "      <td>16.652500</td>\n",
       "      <td>28.640000</td>\n",
       "      <td>1.090000</td>\n",
       "      <td>45.295000</td>\n",
       "    </tr>\n",
       "    <tr>\n",
       "      <th>max</th>\n",
       "      <td>817.600000</td>\n",
       "      <td>810.940000</td>\n",
       "      <td>412.840000</td>\n",
       "      <td>148.290000</td>\n",
       "      <td>310.740000</td>\n",
       "      <td>7.670000</td>\n",
       "      <td>191.720000</td>\n",
       "    </tr>\n",
       "  </tbody>\n",
       "</table>\n",
       "</div>"
      ],
      "text/plain": [
       "              PM2.5          PM10           NO2           SO2           NH3  \\\n",
       "count  12231.000000  11885.000000  12238.000000  12312.000000  12218.000000   \n",
       "mean      60.647790    114.896127     23.815819     12.447022     21.123112   \n",
       "std       65.893178    108.653204     20.341287     13.815932     19.644400   \n",
       "min        0.690000      0.000000      0.320000      0.030000      0.020000   \n",
       "25%       23.430000     48.060000     11.470000      3.560000      8.410000   \n",
       "50%       38.170000     77.500000     18.190000      8.620000     14.420000   \n",
       "75%       67.400000    134.060000     28.727500     16.652500     28.640000   \n",
       "max      817.600000    810.940000    412.840000    148.290000    310.740000   \n",
       "\n",
       "                 CO         Ozone  \n",
       "count  12300.000000  11826.000000  \n",
       "mean       0.884266     32.672871  \n",
       "std        0.578904     20.986734  \n",
       "min        0.000000      0.030000  \n",
       "25%        0.510000     15.552500  \n",
       "50%        0.750000     29.545000  \n",
       "75%        1.090000     45.295000  \n",
       "max        7.670000    191.720000  "
      ]
     },
     "execution_count": 6,
     "metadata": {},
     "output_type": "execute_result"
    }
   ],
   "source": [
    "data.describe() #basic info of the dataset"
   ]
  },
  {
   "cell_type": "markdown",
   "metadata": {},
   "source": [
    "# DATA SHAPE (DIMENSION)"
   ]
  },
  {
   "cell_type": "code",
   "execution_count": 7,
   "metadata": {},
   "outputs": [
    {
     "data": {
      "text/plain": [
       "(12650, 9)"
      ]
     },
     "execution_count": 7,
     "metadata": {},
     "output_type": "execute_result"
    }
   ],
   "source": [
    "data.shape #dimensions of the data"
   ]
  },
  {
   "cell_type": "markdown",
   "metadata": {},
   "source": [
    "# Visualization for states with highest pollutants\n"
   ]
  },
  {
   "cell_type": "markdown",
   "metadata": {},
   "source": [
    "data[['so2','state']].groupby([\"state\"]).mean().sort_values(by='so2').head(20).plot.bar(color='b')\n",
    "plt.show() "
   ]
  },
  {
   "cell_type": "markdown",
   "metadata": {},
   "source": [
    "data[['no2','state']].groupby([\"state\"]).mean().sort_values(by='no2').plot.bar(color='g')\n",
    "plt.show()"
   ]
  },
  {
   "cell_type": "markdown",
   "metadata": {},
   "source": [
    "data[['spm','state']].groupby([\"state\"]).mean().sort_values(by='spm').plot.bar(color='b')\n",
    "plt.show()"
   ]
  },
  {
   "cell_type": "markdown",
   "metadata": {},
   "source": [
    "data[['rspm','state']].groupby([\"state\"]).mean().sort_values(by='rspm').plot.bar(color='r')\n",
    "plt.show()"
   ]
  },
  {
   "cell_type": "markdown",
   "metadata": {},
   "source": [
    "# NULL VALUES COUNT"
   ]
  },
  {
   "cell_type": "code",
   "execution_count": 8,
   "metadata": {},
   "outputs": [
    {
     "data": {
      "text/plain": [
       "From Date      0\n",
       "To Date        0\n",
       "PM2.5        419\n",
       "PM10         765\n",
       "NO2          412\n",
       "SO2          338\n",
       "NH3          432\n",
       "CO           350\n",
       "Ozone        824\n",
       "dtype: int64"
      ]
     },
     "execution_count": 8,
     "metadata": {},
     "output_type": "execute_result"
    }
   ],
   "source": [
    "data.isna().sum() #print the sum of null values for each columns"
   ]
  },
  {
   "cell_type": "markdown",
   "metadata": {},
   "source": [
    "# DROP UNNECESSARY COLUMN"
   ]
  },
  {
   "cell_type": "code",
   "execution_count": 9,
   "metadata": {
    "scrolled": true
   },
   "outputs": [],
   "source": [
    "data.drop(['From Date', 'To Date'],axis=1,inplace=True) "
   ]
  },
  {
   "cell_type": "code",
   "execution_count": 10,
   "metadata": {},
   "outputs": [
    {
     "data": {
      "text/html": [
       "<div>\n",
       "<style scoped>\n",
       "    .dataframe tbody tr th:only-of-type {\n",
       "        vertical-align: middle;\n",
       "    }\n",
       "\n",
       "    .dataframe tbody tr th {\n",
       "        vertical-align: top;\n",
       "    }\n",
       "\n",
       "    .dataframe thead th {\n",
       "        text-align: right;\n",
       "    }\n",
       "</style>\n",
       "<table border=\"1\" class=\"dataframe\">\n",
       "  <thead>\n",
       "    <tr style=\"text-align: right;\">\n",
       "      <th></th>\n",
       "      <th>PM2.5</th>\n",
       "      <th>PM10</th>\n",
       "      <th>NO2</th>\n",
       "      <th>SO2</th>\n",
       "      <th>NH3</th>\n",
       "      <th>CO</th>\n",
       "      <th>Ozone</th>\n",
       "    </tr>\n",
       "  </thead>\n",
       "  <tbody>\n",
       "    <tr>\n",
       "      <th>0</th>\n",
       "      <td>50.08</td>\n",
       "      <td>78.39</td>\n",
       "      <td>12.82</td>\n",
       "      <td>5.16</td>\n",
       "      <td>4.15</td>\n",
       "      <td>0.27</td>\n",
       "      <td>39.34</td>\n",
       "    </tr>\n",
       "    <tr>\n",
       "      <th>1</th>\n",
       "      <td>41.34</td>\n",
       "      <td>74.04</td>\n",
       "      <td>15.25</td>\n",
       "      <td>2.91</td>\n",
       "      <td>4.53</td>\n",
       "      <td>0.38</td>\n",
       "      <td>35.31</td>\n",
       "    </tr>\n",
       "    <tr>\n",
       "      <th>2</th>\n",
       "      <td>40.38</td>\n",
       "      <td>80.06</td>\n",
       "      <td>19.42</td>\n",
       "      <td>4.77</td>\n",
       "      <td>3.70</td>\n",
       "      <td>0.52</td>\n",
       "      <td>25.21</td>\n",
       "    </tr>\n",
       "    <tr>\n",
       "      <th>3</th>\n",
       "      <td>40.80</td>\n",
       "      <td>86.26</td>\n",
       "      <td>17.77</td>\n",
       "      <td>5.52</td>\n",
       "      <td>3.75</td>\n",
       "      <td>0.83</td>\n",
       "      <td>26.29</td>\n",
       "    </tr>\n",
       "    <tr>\n",
       "      <th>4</th>\n",
       "      <td>42.55</td>\n",
       "      <td>70.35</td>\n",
       "      <td>16.32</td>\n",
       "      <td>1.24</td>\n",
       "      <td>3.44</td>\n",
       "      <td>0.38</td>\n",
       "      <td>21.13</td>\n",
       "    </tr>\n",
       "    <tr>\n",
       "      <th>5</th>\n",
       "      <td>33.25</td>\n",
       "      <td>80.47</td>\n",
       "      <td>13.28</td>\n",
       "      <td>7.00</td>\n",
       "      <td>3.49</td>\n",
       "      <td>0.52</td>\n",
       "      <td>30.51</td>\n",
       "    </tr>\n",
       "    <tr>\n",
       "      <th>6</th>\n",
       "      <td>41.59</td>\n",
       "      <td>73.54</td>\n",
       "      <td>12.03</td>\n",
       "      <td>8.37</td>\n",
       "      <td>1.99</td>\n",
       "      <td>0.66</td>\n",
       "      <td>20.39</td>\n",
       "    </tr>\n",
       "    <tr>\n",
       "      <th>7</th>\n",
       "      <td>36.65</td>\n",
       "      <td>66.38</td>\n",
       "      <td>10.68</td>\n",
       "      <td>5.67</td>\n",
       "      <td>5.82</td>\n",
       "      <td>0.52</td>\n",
       "      <td>30.95</td>\n",
       "    </tr>\n",
       "    <tr>\n",
       "      <th>8</th>\n",
       "      <td>26.73</td>\n",
       "      <td>65.30</td>\n",
       "      <td>9.76</td>\n",
       "      <td>4.03</td>\n",
       "      <td>8.61</td>\n",
       "      <td>0.43</td>\n",
       "      <td>26.33</td>\n",
       "    </tr>\n",
       "    <tr>\n",
       "      <th>9</th>\n",
       "      <td>24.26</td>\n",
       "      <td>62.33</td>\n",
       "      <td>8.50</td>\n",
       "      <td>6.05</td>\n",
       "      <td>8.73</td>\n",
       "      <td>0.41</td>\n",
       "      <td>37.00</td>\n",
       "    </tr>\n",
       "  </tbody>\n",
       "</table>\n",
       "</div>"
      ],
      "text/plain": [
       "   PM2.5   PM10    NO2   SO2   NH3    CO  Ozone\n",
       "0  50.08  78.39  12.82  5.16  4.15  0.27  39.34\n",
       "1  41.34  74.04  15.25  2.91  4.53  0.38  35.31\n",
       "2  40.38  80.06  19.42  4.77  3.70  0.52  25.21\n",
       "3  40.80  86.26  17.77  5.52  3.75  0.83  26.29\n",
       "4  42.55  70.35  16.32  1.24  3.44  0.38  21.13\n",
       "5  33.25  80.47  13.28  7.00  3.49  0.52  30.51\n",
       "6  41.59  73.54  12.03  8.37  1.99  0.66  20.39\n",
       "7  36.65  66.38  10.68  5.67  5.82  0.52  30.95\n",
       "8  26.73  65.30   9.76  4.03  8.61  0.43  26.33\n",
       "9  24.26  62.33   8.50  6.05  8.73  0.41  37.00"
      ]
     },
     "execution_count": 10,
     "metadata": {},
     "output_type": "execute_result"
    }
   ],
   "source": [
    "data.head(10)"
   ]
  },
  {
   "cell_type": "markdown",
   "metadata": {},
   "source": [
    "# CALCULATE TOTAL MISSING VALUES AND THEIR PERCENTAGE"
   ]
  },
  {
   "cell_type": "code",
   "execution_count": 11,
   "metadata": {},
   "outputs": [],
   "source": [
    "total = data.isnull().sum().sort_values(ascending=False) "
   ]
  },
  {
   "cell_type": "code",
   "execution_count": 12,
   "metadata": {},
   "outputs": [
    {
     "data": {
      "text/plain": [
       "Ozone    824\n",
       "PM10     765\n",
       "NH3      432\n",
       "PM2.5    419\n",
       "NO2      412\n",
       "dtype: int64"
      ]
     },
     "execution_count": 12,
     "metadata": {},
     "output_type": "execute_result"
    }
   ],
   "source": [
    "total.head()"
   ]
  },
  {
   "cell_type": "markdown",
   "metadata": {},
   "source": [
    "Calculate the percent of null values for each columns (sum of null values / total non-null value) *100"
   ]
  },
  {
   "cell_type": "code",
   "execution_count": 13,
   "metadata": {},
   "outputs": [],
   "source": [
    "percent = (data.isnull().sum()/data.isnull().count()*100).sort_values(ascending=False)  #count(returns Non-NAN value)"
   ]
  },
  {
   "cell_type": "code",
   "execution_count": 14,
   "metadata": {},
   "outputs": [],
   "source": [
    "missing_data = pd.concat([total, percent], axis=1, keys=['Total', 'Percent'])"
   ]
  },
  {
   "cell_type": "code",
   "execution_count": 15,
   "metadata": {},
   "outputs": [
    {
     "data": {
      "text/html": [
       "<div>\n",
       "<style scoped>\n",
       "    .dataframe tbody tr th:only-of-type {\n",
       "        vertical-align: middle;\n",
       "    }\n",
       "\n",
       "    .dataframe tbody tr th {\n",
       "        vertical-align: top;\n",
       "    }\n",
       "\n",
       "    .dataframe thead th {\n",
       "        text-align: right;\n",
       "    }\n",
       "</style>\n",
       "<table border=\"1\" class=\"dataframe\">\n",
       "  <thead>\n",
       "    <tr style=\"text-align: right;\">\n",
       "      <th></th>\n",
       "      <th>Total</th>\n",
       "      <th>Percent</th>\n",
       "    </tr>\n",
       "  </thead>\n",
       "  <tbody>\n",
       "    <tr>\n",
       "      <th>Ozone</th>\n",
       "      <td>824</td>\n",
       "      <td>6.513834</td>\n",
       "    </tr>\n",
       "    <tr>\n",
       "      <th>PM10</th>\n",
       "      <td>765</td>\n",
       "      <td>6.047431</td>\n",
       "    </tr>\n",
       "    <tr>\n",
       "      <th>NH3</th>\n",
       "      <td>432</td>\n",
       "      <td>3.415020</td>\n",
       "    </tr>\n",
       "    <tr>\n",
       "      <th>PM2.5</th>\n",
       "      <td>419</td>\n",
       "      <td>3.312253</td>\n",
       "    </tr>\n",
       "    <tr>\n",
       "      <th>NO2</th>\n",
       "      <td>412</td>\n",
       "      <td>3.256917</td>\n",
       "    </tr>\n",
       "  </tbody>\n",
       "</table>\n",
       "</div>"
      ],
      "text/plain": [
       "       Total   Percent\n",
       "Ozone    824  6.513834\n",
       "PM10     765  6.047431\n",
       "NH3      432  3.415020\n",
       "PM2.5    419  3.312253\n",
       "NO2      412  3.256917"
      ]
     },
     "execution_count": 15,
     "metadata": {},
     "output_type": "execute_result"
    }
   ],
   "source": [
    "missing_data.head()"
   ]
  },
  {
   "cell_type": "markdown",
   "metadata": {},
   "source": [
    "# PERCENT OF MISSING VALUE (BAR PLOT)"
   ]
  },
  {
   "cell_type": "code",
   "execution_count": 16,
   "metadata": {},
   "outputs": [],
   "source": [
    "# sns.barplot(x=missing_data.index, y=missing_data['Percent'])\n",
    "# plt.xlabel('Features', fontsize=20)\n",
    "# plt.ylabel('Percent of missing values', fontsize=20)\n",
    "# plt.title('Percent missing data by feature', fontsize=20)"
   ]
  },
  {
   "cell_type": "markdown",
   "metadata": {},
   "source": [
    "# MEAN DISTRIBUTION BY STATE"
   ]
  },
  {
   "cell_type": "code",
   "execution_count": 17,
   "metadata": {},
   "outputs": [
    {
     "data": {
      "text/plain": [
       "PM2.5     60.647790\n",
       "PM10     114.896127\n",
       "NO2       23.815819\n",
       "SO2       12.447022\n",
       "NH3       21.123112\n",
       "CO         0.884266\n",
       "Ozone     32.672871\n",
       "dtype: float64"
      ]
     },
     "execution_count": 17,
     "metadata": {},
     "output_type": "execute_result"
    }
   ],
   "source": [
    "data[['PM2.5','PM10','NO2','SO2','NH3','CO','Ozone']].mean()"
   ]
  },
  {
   "cell_type": "code",
   "execution_count": 18,
   "metadata": {},
   "outputs": [],
   "source": [
    "data = data.replace(to_replace = np.NaN, value = data['PM2.5'].mean())\n",
    "data = data.replace(to_replace= np.NaN, value = data['PM10'].mean())\n",
    "data = data.replace(to_replace = np.NaN, value = data['Ozone'].mean())\n",
    "data = data.replace(to_replace = np.NaN, value = data['CO'].mean())\n",
    "data = data.replace(to_replace = np.NaN, value = data['NO2'].mean())\n",
    "data = data.replace(to_replace = np.NaN, value = data['SO2'].mean())\n",
    "data = data.replace(to_replace = np.NaN, value = data['NH3'].mean())"
   ]
  },
  {
   "cell_type": "code",
   "execution_count": 20,
   "metadata": {},
   "outputs": [
    {
     "data": {
      "text/html": [
       "<div>\n",
       "<style scoped>\n",
       "    .dataframe tbody tr th:only-of-type {\n",
       "        vertical-align: middle;\n",
       "    }\n",
       "\n",
       "    .dataframe tbody tr th {\n",
       "        vertical-align: top;\n",
       "    }\n",
       "\n",
       "    .dataframe thead th {\n",
       "        text-align: right;\n",
       "    }\n",
       "</style>\n",
       "<table border=\"1\" class=\"dataframe\">\n",
       "  <thead>\n",
       "    <tr style=\"text-align: right;\">\n",
       "      <th></th>\n",
       "      <th>PM2.5</th>\n",
       "      <th>PM10</th>\n",
       "      <th>NO2</th>\n",
       "      <th>SO2</th>\n",
       "      <th>NH3</th>\n",
       "      <th>CO</th>\n",
       "      <th>Ozone</th>\n",
       "    </tr>\n",
       "  </thead>\n",
       "  <tbody>\n",
       "    <tr>\n",
       "      <th>1200</th>\n",
       "      <td>337.50</td>\n",
       "      <td>520.10</td>\n",
       "      <td>96.30</td>\n",
       "      <td>19.09</td>\n",
       "      <td>43.01</td>\n",
       "      <td>3.46</td>\n",
       "      <td>16.52000</td>\n",
       "    </tr>\n",
       "    <tr>\n",
       "      <th>1201</th>\n",
       "      <td>361.63</td>\n",
       "      <td>538.54</td>\n",
       "      <td>108.03</td>\n",
       "      <td>18.64</td>\n",
       "      <td>44.23</td>\n",
       "      <td>3.32</td>\n",
       "      <td>18.19000</td>\n",
       "    </tr>\n",
       "    <tr>\n",
       "      <th>1202</th>\n",
       "      <td>334.65</td>\n",
       "      <td>496.50</td>\n",
       "      <td>94.41</td>\n",
       "      <td>25.18</td>\n",
       "      <td>43.57</td>\n",
       "      <td>2.76</td>\n",
       "      <td>16.21000</td>\n",
       "    </tr>\n",
       "    <tr>\n",
       "      <th>1203</th>\n",
       "      <td>215.73</td>\n",
       "      <td>329.90</td>\n",
       "      <td>75.10</td>\n",
       "      <td>12.45</td>\n",
       "      <td>37.11</td>\n",
       "      <td>1.92</td>\n",
       "      <td>15.14000</td>\n",
       "    </tr>\n",
       "    <tr>\n",
       "      <th>1204</th>\n",
       "      <td>242.80</td>\n",
       "      <td>361.59</td>\n",
       "      <td>76.18</td>\n",
       "      <td>15.52</td>\n",
       "      <td>35.58</td>\n",
       "      <td>2.03</td>\n",
       "      <td>19.62000</td>\n",
       "    </tr>\n",
       "    <tr>\n",
       "      <th>1205</th>\n",
       "      <td>330.12</td>\n",
       "      <td>512.75</td>\n",
       "      <td>68.04</td>\n",
       "      <td>20.60</td>\n",
       "      <td>39.24</td>\n",
       "      <td>2.02</td>\n",
       "      <td>30.85000</td>\n",
       "    </tr>\n",
       "    <tr>\n",
       "      <th>1206</th>\n",
       "      <td>81.18</td>\n",
       "      <td>266.97</td>\n",
       "      <td>53.52</td>\n",
       "      <td>17.47</td>\n",
       "      <td>29.23</td>\n",
       "      <td>1.00</td>\n",
       "      <td>21.63000</td>\n",
       "    </tr>\n",
       "    <tr>\n",
       "      <th>1207</th>\n",
       "      <td>134.23</td>\n",
       "      <td>303.56</td>\n",
       "      <td>58.98</td>\n",
       "      <td>15.36</td>\n",
       "      <td>34.51</td>\n",
       "      <td>1.16</td>\n",
       "      <td>16.39000</td>\n",
       "    </tr>\n",
       "    <tr>\n",
       "      <th>1208</th>\n",
       "      <td>182.77</td>\n",
       "      <td>277.78</td>\n",
       "      <td>56.26</td>\n",
       "      <td>13.43</td>\n",
       "      <td>40.64</td>\n",
       "      <td>1.36</td>\n",
       "      <td>13.66000</td>\n",
       "    </tr>\n",
       "    <tr>\n",
       "      <th>1209</th>\n",
       "      <td>256.04</td>\n",
       "      <td>360.83</td>\n",
       "      <td>64.03</td>\n",
       "      <td>11.43</td>\n",
       "      <td>41.10</td>\n",
       "      <td>1.69</td>\n",
       "      <td>9.86000</td>\n",
       "    </tr>\n",
       "    <tr>\n",
       "      <th>1210</th>\n",
       "      <td>457.02</td>\n",
       "      <td>610.60</td>\n",
       "      <td>73.40</td>\n",
       "      <td>15.14</td>\n",
       "      <td>48.40</td>\n",
       "      <td>2.71</td>\n",
       "      <td>19.33000</td>\n",
       "    </tr>\n",
       "    <tr>\n",
       "      <th>1211</th>\n",
       "      <td>326.50</td>\n",
       "      <td>442.98</td>\n",
       "      <td>60.03</td>\n",
       "      <td>15.50</td>\n",
       "      <td>48.24</td>\n",
       "      <td>1.55</td>\n",
       "      <td>13.46000</td>\n",
       "    </tr>\n",
       "    <tr>\n",
       "      <th>1212</th>\n",
       "      <td>257.85</td>\n",
       "      <td>343.94</td>\n",
       "      <td>49.12</td>\n",
       "      <td>14.29</td>\n",
       "      <td>53.62</td>\n",
       "      <td>0.97</td>\n",
       "      <td>4.64000</td>\n",
       "    </tr>\n",
       "    <tr>\n",
       "      <th>1213</th>\n",
       "      <td>105.94</td>\n",
       "      <td>165.30</td>\n",
       "      <td>66.98</td>\n",
       "      <td>19.65</td>\n",
       "      <td>32.06</td>\n",
       "      <td>0.91</td>\n",
       "      <td>8.79000</td>\n",
       "    </tr>\n",
       "    <tr>\n",
       "      <th>1214</th>\n",
       "      <td>84.89</td>\n",
       "      <td>124.74</td>\n",
       "      <td>45.17</td>\n",
       "      <td>19.54</td>\n",
       "      <td>35.89</td>\n",
       "      <td>1.30</td>\n",
       "      <td>16.33000</td>\n",
       "    </tr>\n",
       "    <tr>\n",
       "      <th>1215</th>\n",
       "      <td>140.67</td>\n",
       "      <td>206.29</td>\n",
       "      <td>39.87</td>\n",
       "      <td>14.96</td>\n",
       "      <td>36.09</td>\n",
       "      <td>1.34</td>\n",
       "      <td>19.21000</td>\n",
       "    </tr>\n",
       "    <tr>\n",
       "      <th>1216</th>\n",
       "      <td>121.76</td>\n",
       "      <td>209.03</td>\n",
       "      <td>37.06</td>\n",
       "      <td>13.59</td>\n",
       "      <td>28.05</td>\n",
       "      <td>1.11</td>\n",
       "      <td>19.43000</td>\n",
       "    </tr>\n",
       "    <tr>\n",
       "      <th>1217</th>\n",
       "      <td>233.76</td>\n",
       "      <td>290.48</td>\n",
       "      <td>57.32</td>\n",
       "      <td>13.57</td>\n",
       "      <td>20.50</td>\n",
       "      <td>1.61</td>\n",
       "      <td>13.00000</td>\n",
       "    </tr>\n",
       "    <tr>\n",
       "      <th>1218</th>\n",
       "      <td>160.77</td>\n",
       "      <td>262.10</td>\n",
       "      <td>50.10</td>\n",
       "      <td>17.78</td>\n",
       "      <td>39.30</td>\n",
       "      <td>1.69</td>\n",
       "      <td>9.43000</td>\n",
       "    </tr>\n",
       "    <tr>\n",
       "      <th>1219</th>\n",
       "      <td>138.38</td>\n",
       "      <td>207.33</td>\n",
       "      <td>38.47</td>\n",
       "      <td>14.59</td>\n",
       "      <td>41.75</td>\n",
       "      <td>1.30</td>\n",
       "      <td>60.64779</td>\n",
       "    </tr>\n",
       "    <tr>\n",
       "      <th>1220</th>\n",
       "      <td>133.33</td>\n",
       "      <td>203.82</td>\n",
       "      <td>44.11</td>\n",
       "      <td>14.18</td>\n",
       "      <td>40.51</td>\n",
       "      <td>1.17</td>\n",
       "      <td>60.64779</td>\n",
       "    </tr>\n",
       "    <tr>\n",
       "      <th>1221</th>\n",
       "      <td>208.23</td>\n",
       "      <td>304.65</td>\n",
       "      <td>57.86</td>\n",
       "      <td>18.00</td>\n",
       "      <td>40.78</td>\n",
       "      <td>1.54</td>\n",
       "      <td>23.38000</td>\n",
       "    </tr>\n",
       "    <tr>\n",
       "      <th>1222</th>\n",
       "      <td>288.16</td>\n",
       "      <td>426.42</td>\n",
       "      <td>68.00</td>\n",
       "      <td>20.50</td>\n",
       "      <td>44.60</td>\n",
       "      <td>2.19</td>\n",
       "      <td>21.85000</td>\n",
       "    </tr>\n",
       "    <tr>\n",
       "      <th>1223</th>\n",
       "      <td>481.65</td>\n",
       "      <td>671.71</td>\n",
       "      <td>78.65</td>\n",
       "      <td>24.68</td>\n",
       "      <td>51.58</td>\n",
       "      <td>3.19</td>\n",
       "      <td>26.72000</td>\n",
       "    </tr>\n",
       "    <tr>\n",
       "      <th>1224</th>\n",
       "      <td>517.69</td>\n",
       "      <td>703.87</td>\n",
       "      <td>77.21</td>\n",
       "      <td>24.11</td>\n",
       "      <td>55.32</td>\n",
       "      <td>3.87</td>\n",
       "      <td>25.08000</td>\n",
       "    </tr>\n",
       "    <tr>\n",
       "      <th>1225</th>\n",
       "      <td>324.37</td>\n",
       "      <td>448.02</td>\n",
       "      <td>72.47</td>\n",
       "      <td>17.38</td>\n",
       "      <td>48.82</td>\n",
       "      <td>2.88</td>\n",
       "      <td>18.70000</td>\n",
       "    </tr>\n",
       "    <tr>\n",
       "      <th>1226</th>\n",
       "      <td>256.90</td>\n",
       "      <td>335.12</td>\n",
       "      <td>40.01</td>\n",
       "      <td>15.03</td>\n",
       "      <td>45.11</td>\n",
       "      <td>1.79</td>\n",
       "      <td>18.90000</td>\n",
       "    </tr>\n",
       "    <tr>\n",
       "      <th>1227</th>\n",
       "      <td>274.06</td>\n",
       "      <td>388.65</td>\n",
       "      <td>48.30</td>\n",
       "      <td>19.91</td>\n",
       "      <td>42.48</td>\n",
       "      <td>2.71</td>\n",
       "      <td>24.58000</td>\n",
       "    </tr>\n",
       "    <tr>\n",
       "      <th>1228</th>\n",
       "      <td>293.31</td>\n",
       "      <td>415.81</td>\n",
       "      <td>57.02</td>\n",
       "      <td>18.65</td>\n",
       "      <td>44.47</td>\n",
       "      <td>2.69</td>\n",
       "      <td>14.33000</td>\n",
       "    </tr>\n",
       "    <tr>\n",
       "      <th>1229</th>\n",
       "      <td>139.69</td>\n",
       "      <td>210.33</td>\n",
       "      <td>47.46</td>\n",
       "      <td>19.76</td>\n",
       "      <td>35.81</td>\n",
       "      <td>3.38</td>\n",
       "      <td>18.03000</td>\n",
       "    </tr>\n",
       "    <tr>\n",
       "      <th>1230</th>\n",
       "      <td>185.50</td>\n",
       "      <td>296.96</td>\n",
       "      <td>57.92</td>\n",
       "      <td>18.27</td>\n",
       "      <td>34.79</td>\n",
       "      <td>2.52</td>\n",
       "      <td>23.16000</td>\n",
       "    </tr>\n",
       "    <tr>\n",
       "      <th>1231</th>\n",
       "      <td>274.85</td>\n",
       "      <td>395.35</td>\n",
       "      <td>42.74</td>\n",
       "      <td>18.05</td>\n",
       "      <td>45.02</td>\n",
       "      <td>2.17</td>\n",
       "      <td>17.77000</td>\n",
       "    </tr>\n",
       "    <tr>\n",
       "      <th>1232</th>\n",
       "      <td>177.79</td>\n",
       "      <td>261.52</td>\n",
       "      <td>38.37</td>\n",
       "      <td>19.15</td>\n",
       "      <td>38.65</td>\n",
       "      <td>2.06</td>\n",
       "      <td>20.16000</td>\n",
       "    </tr>\n",
       "    <tr>\n",
       "      <th>1233</th>\n",
       "      <td>253.38</td>\n",
       "      <td>396.38</td>\n",
       "      <td>44.09</td>\n",
       "      <td>17.32</td>\n",
       "      <td>39.94</td>\n",
       "      <td>3.06</td>\n",
       "      <td>7.65000</td>\n",
       "    </tr>\n",
       "    <tr>\n",
       "      <th>1234</th>\n",
       "      <td>202.35</td>\n",
       "      <td>327.31</td>\n",
       "      <td>45.81</td>\n",
       "      <td>17.75</td>\n",
       "      <td>31.97</td>\n",
       "      <td>2.03</td>\n",
       "      <td>20.34000</td>\n",
       "    </tr>\n",
       "    <tr>\n",
       "      <th>1235</th>\n",
       "      <td>187.62</td>\n",
       "      <td>312.10</td>\n",
       "      <td>47.52</td>\n",
       "      <td>20.70</td>\n",
       "      <td>33.31</td>\n",
       "      <td>2.16</td>\n",
       "      <td>25.71000</td>\n",
       "    </tr>\n",
       "    <tr>\n",
       "      <th>1236</th>\n",
       "      <td>182.54</td>\n",
       "      <td>333.54</td>\n",
       "      <td>61.62</td>\n",
       "      <td>23.16</td>\n",
       "      <td>32.41</td>\n",
       "      <td>2.15</td>\n",
       "      <td>21.13000</td>\n",
       "    </tr>\n",
       "    <tr>\n",
       "      <th>1237</th>\n",
       "      <td>347.92</td>\n",
       "      <td>537.21</td>\n",
       "      <td>73.28</td>\n",
       "      <td>25.17</td>\n",
       "      <td>41.42</td>\n",
       "      <td>2.89</td>\n",
       "      <td>24.66000</td>\n",
       "    </tr>\n",
       "    <tr>\n",
       "      <th>1238</th>\n",
       "      <td>233.96</td>\n",
       "      <td>378.73</td>\n",
       "      <td>68.57</td>\n",
       "      <td>20.55</td>\n",
       "      <td>38.25</td>\n",
       "      <td>1.84</td>\n",
       "      <td>23.90000</td>\n",
       "    </tr>\n",
       "    <tr>\n",
       "      <th>1239</th>\n",
       "      <td>156.73</td>\n",
       "      <td>276.06</td>\n",
       "      <td>66.77</td>\n",
       "      <td>17.97</td>\n",
       "      <td>33.50</td>\n",
       "      <td>1.61</td>\n",
       "      <td>25.74000</td>\n",
       "    </tr>\n",
       "    <tr>\n",
       "      <th>1240</th>\n",
       "      <td>187.38</td>\n",
       "      <td>325.75</td>\n",
       "      <td>62.46</td>\n",
       "      <td>21.75</td>\n",
       "      <td>35.26</td>\n",
       "      <td>1.91</td>\n",
       "      <td>31.21000</td>\n",
       "    </tr>\n",
       "    <tr>\n",
       "      <th>1241</th>\n",
       "      <td>240.81</td>\n",
       "      <td>414.65</td>\n",
       "      <td>80.63</td>\n",
       "      <td>23.35</td>\n",
       "      <td>40.34</td>\n",
       "      <td>2.59</td>\n",
       "      <td>24.19000</td>\n",
       "    </tr>\n",
       "    <tr>\n",
       "      <th>1242</th>\n",
       "      <td>208.10</td>\n",
       "      <td>369.46</td>\n",
       "      <td>72.71</td>\n",
       "      <td>23.96</td>\n",
       "      <td>40.99</td>\n",
       "      <td>2.19</td>\n",
       "      <td>26.18000</td>\n",
       "    </tr>\n",
       "    <tr>\n",
       "      <th>1243</th>\n",
       "      <td>191.29</td>\n",
       "      <td>319.95</td>\n",
       "      <td>51.47</td>\n",
       "      <td>20.18</td>\n",
       "      <td>41.90</td>\n",
       "      <td>1.58</td>\n",
       "      <td>24.65000</td>\n",
       "    </tr>\n",
       "    <tr>\n",
       "      <th>1244</th>\n",
       "      <td>145.86</td>\n",
       "      <td>243.48</td>\n",
       "      <td>45.42</td>\n",
       "      <td>21.10</td>\n",
       "      <td>39.43</td>\n",
       "      <td>1.34</td>\n",
       "      <td>23.69000</td>\n",
       "    </tr>\n",
       "  </tbody>\n",
       "</table>\n",
       "</div>"
      ],
      "text/plain": [
       "       PM2.5    PM10     NO2    SO2    NH3    CO     Ozone\n",
       "1200  337.50  520.10   96.30  19.09  43.01  3.46  16.52000\n",
       "1201  361.63  538.54  108.03  18.64  44.23  3.32  18.19000\n",
       "1202  334.65  496.50   94.41  25.18  43.57  2.76  16.21000\n",
       "1203  215.73  329.90   75.10  12.45  37.11  1.92  15.14000\n",
       "1204  242.80  361.59   76.18  15.52  35.58  2.03  19.62000\n",
       "1205  330.12  512.75   68.04  20.60  39.24  2.02  30.85000\n",
       "1206   81.18  266.97   53.52  17.47  29.23  1.00  21.63000\n",
       "1207  134.23  303.56   58.98  15.36  34.51  1.16  16.39000\n",
       "1208  182.77  277.78   56.26  13.43  40.64  1.36  13.66000\n",
       "1209  256.04  360.83   64.03  11.43  41.10  1.69   9.86000\n",
       "1210  457.02  610.60   73.40  15.14  48.40  2.71  19.33000\n",
       "1211  326.50  442.98   60.03  15.50  48.24  1.55  13.46000\n",
       "1212  257.85  343.94   49.12  14.29  53.62  0.97   4.64000\n",
       "1213  105.94  165.30   66.98  19.65  32.06  0.91   8.79000\n",
       "1214   84.89  124.74   45.17  19.54  35.89  1.30  16.33000\n",
       "1215  140.67  206.29   39.87  14.96  36.09  1.34  19.21000\n",
       "1216  121.76  209.03   37.06  13.59  28.05  1.11  19.43000\n",
       "1217  233.76  290.48   57.32  13.57  20.50  1.61  13.00000\n",
       "1218  160.77  262.10   50.10  17.78  39.30  1.69   9.43000\n",
       "1219  138.38  207.33   38.47  14.59  41.75  1.30  60.64779\n",
       "1220  133.33  203.82   44.11  14.18  40.51  1.17  60.64779\n",
       "1221  208.23  304.65   57.86  18.00  40.78  1.54  23.38000\n",
       "1222  288.16  426.42   68.00  20.50  44.60  2.19  21.85000\n",
       "1223  481.65  671.71   78.65  24.68  51.58  3.19  26.72000\n",
       "1224  517.69  703.87   77.21  24.11  55.32  3.87  25.08000\n",
       "1225  324.37  448.02   72.47  17.38  48.82  2.88  18.70000\n",
       "1226  256.90  335.12   40.01  15.03  45.11  1.79  18.90000\n",
       "1227  274.06  388.65   48.30  19.91  42.48  2.71  24.58000\n",
       "1228  293.31  415.81   57.02  18.65  44.47  2.69  14.33000\n",
       "1229  139.69  210.33   47.46  19.76  35.81  3.38  18.03000\n",
       "1230  185.50  296.96   57.92  18.27  34.79  2.52  23.16000\n",
       "1231  274.85  395.35   42.74  18.05  45.02  2.17  17.77000\n",
       "1232  177.79  261.52   38.37  19.15  38.65  2.06  20.16000\n",
       "1233  253.38  396.38   44.09  17.32  39.94  3.06   7.65000\n",
       "1234  202.35  327.31   45.81  17.75  31.97  2.03  20.34000\n",
       "1235  187.62  312.10   47.52  20.70  33.31  2.16  25.71000\n",
       "1236  182.54  333.54   61.62  23.16  32.41  2.15  21.13000\n",
       "1237  347.92  537.21   73.28  25.17  41.42  2.89  24.66000\n",
       "1238  233.96  378.73   68.57  20.55  38.25  1.84  23.90000\n",
       "1239  156.73  276.06   66.77  17.97  33.50  1.61  25.74000\n",
       "1240  187.38  325.75   62.46  21.75  35.26  1.91  31.21000\n",
       "1241  240.81  414.65   80.63  23.35  40.34  2.59  24.19000\n",
       "1242  208.10  369.46   72.71  23.96  40.99  2.19  26.18000\n",
       "1243  191.29  319.95   51.47  20.18  41.90  1.58  24.65000\n",
       "1244  145.86  243.48   45.42  21.10  39.43  1.34  23.69000"
      ]
     },
     "execution_count": 20,
     "metadata": {},
     "output_type": "execute_result"
    }
   ],
   "source": [
    "data[1200:1245]"
   ]
  },
  {
   "cell_type": "markdown",
   "metadata": {},
   "source": [
    "# CHECKING DATA DISTRIBUTION"
   ]
  },
  {
   "cell_type": "code",
   "execution_count": 21,
   "metadata": {},
   "outputs": [],
   "source": [
    "# plt.hist(data.spm,range=(0.0,4000)) #spm"
   ]
  },
  {
   "cell_type": "code",
   "execution_count": 22,
   "metadata": {},
   "outputs": [],
   "source": [
    "# plt.hist(data.so2,range=(0,1000)) #so2"
   ]
  },
  {
   "cell_type": "code",
   "execution_count": 23,
   "metadata": {},
   "outputs": [],
   "source": [
    "# plt.hist(data.no2,range=(0,1000)) #no2"
   ]
  },
  {
   "cell_type": "code",
   "execution_count": 24,
   "metadata": {},
   "outputs": [],
   "source": [
    "# plt.hist(data.rspm,range=(0,7000)) #rspm"
   ]
  },
  {
   "cell_type": "code",
   "execution_count": 25,
   "metadata": {},
   "outputs": [],
   "source": [
    "# plt.hist(data.pm2_5,range=(0,1000)) #pm2_5"
   ]
  },
  {
   "cell_type": "markdown",
   "metadata": {},
   "source": [
    "CONCLUSION: NO POTENTIAL OUTLIERS"
   ]
  },
  {
   "cell_type": "markdown",
   "metadata": {},
   "source": [
    "# FILL MISSING VALUES BY MEAN (GROUP BY STATE)"
   ]
  },
  {
   "cell_type": "code",
   "execution_count": 26,
   "metadata": {},
   "outputs": [],
   "source": [
    "# grp_state = data.groupby('state')"
   ]
  },
  {
   "cell_type": "code",
   "execution_count": 27,
   "metadata": {},
   "outputs": [
    {
     "name": "stdout",
     "output_type": "stream",
     "text": [
      "60.64779004169733\n"
     ]
    }
   ],
   "source": [
    "print(data['PM2.5'].mean())"
   ]
  },
  {
   "cell_type": "code",
   "execution_count": 28,
   "metadata": {},
   "outputs": [],
   "source": [
    "# def impute_mean_by_state(series):\n",
    "#     return series.fillna(series.mean()) "
   ]
  },
  {
   "cell_type": "code",
   "execution_count": 29,
   "metadata": {},
   "outputs": [],
   "source": [
    "# data['rspm']=grp_state['rspm'].transform(impute_mean_by_state)  #fill value with mean value group by state\n",
    "# data['so2']=grp_state['so2'].transform(impute_mean_by_state)\n",
    "# data['no2']=grp_state['no2'].transform(impute_mean_by_state)\n",
    "# data['spm']=grp_state['spm'].transform(impute_mean_by_state)\n",
    "# data['pm2_5']=grp_state['pm2_5'].transform(impute_mean_by_state)"
   ]
  },
  {
   "cell_type": "code",
   "execution_count": 30,
   "metadata": {},
   "outputs": [
    {
     "data": {
      "text/html": [
       "<div>\n",
       "<style scoped>\n",
       "    .dataframe tbody tr th:only-of-type {\n",
       "        vertical-align: middle;\n",
       "    }\n",
       "\n",
       "    .dataframe tbody tr th {\n",
       "        vertical-align: top;\n",
       "    }\n",
       "\n",
       "    .dataframe thead th {\n",
       "        text-align: right;\n",
       "    }\n",
       "</style>\n",
       "<table border=\"1\" class=\"dataframe\">\n",
       "  <thead>\n",
       "    <tr style=\"text-align: right;\">\n",
       "      <th></th>\n",
       "      <th>PM2.5</th>\n",
       "      <th>PM10</th>\n",
       "      <th>NO2</th>\n",
       "      <th>SO2</th>\n",
       "      <th>NH3</th>\n",
       "      <th>CO</th>\n",
       "      <th>Ozone</th>\n",
       "    </tr>\n",
       "  </thead>\n",
       "  <tbody>\n",
       "    <tr>\n",
       "      <th>count</th>\n",
       "      <td>12650.000000</td>\n",
       "      <td>12650.000000</td>\n",
       "      <td>12650.000000</td>\n",
       "      <td>12650.000000</td>\n",
       "      <td>12650.000000</td>\n",
       "      <td>12650.000000</td>\n",
       "      <td>12650.000000</td>\n",
       "    </tr>\n",
       "    <tr>\n",
       "      <th>mean</th>\n",
       "      <td>60.647790</td>\n",
       "      <td>111.615496</td>\n",
       "      <td>25.015405</td>\n",
       "      <td>13.734916</td>\n",
       "      <td>22.472887</td>\n",
       "      <td>2.537802</td>\n",
       "      <td>34.495111</td>\n",
       "    </tr>\n",
       "    <tr>\n",
       "      <th>std</th>\n",
       "      <td>64.792627</td>\n",
       "      <td>106.107263</td>\n",
       "      <td>21.048475</td>\n",
       "      <td>15.690856</td>\n",
       "      <td>20.597436</td>\n",
       "      <td>9.819390</td>\n",
       "      <td>21.433880</td>\n",
       "    </tr>\n",
       "    <tr>\n",
       "      <th>min</th>\n",
       "      <td>0.690000</td>\n",
       "      <td>0.000000</td>\n",
       "      <td>0.320000</td>\n",
       "      <td>0.030000</td>\n",
       "      <td>0.020000</td>\n",
       "      <td>0.000000</td>\n",
       "      <td>0.030000</td>\n",
       "    </tr>\n",
       "    <tr>\n",
       "      <th>25%</th>\n",
       "      <td>23.990000</td>\n",
       "      <td>50.020000</td>\n",
       "      <td>11.830000</td>\n",
       "      <td>3.660000</td>\n",
       "      <td>8.460000</td>\n",
       "      <td>0.510000</td>\n",
       "      <td>16.340000</td>\n",
       "    </tr>\n",
       "    <tr>\n",
       "      <th>50%</th>\n",
       "      <td>39.405000</td>\n",
       "      <td>73.280000</td>\n",
       "      <td>18.780000</td>\n",
       "      <td>9.010000</td>\n",
       "      <td>14.980000</td>\n",
       "      <td>0.770000</td>\n",
       "      <td>31.330000</td>\n",
       "    </tr>\n",
       "    <tr>\n",
       "      <th>75%</th>\n",
       "      <td>65.500000</td>\n",
       "      <td>127.540000</td>\n",
       "      <td>30.380000</td>\n",
       "      <td>17.557500</td>\n",
       "      <td>30.360000</td>\n",
       "      <td>1.140000</td>\n",
       "      <td>50.010000</td>\n",
       "    </tr>\n",
       "    <tr>\n",
       "      <th>max</th>\n",
       "      <td>817.600000</td>\n",
       "      <td>810.940000</td>\n",
       "      <td>412.840000</td>\n",
       "      <td>148.290000</td>\n",
       "      <td>310.740000</td>\n",
       "      <td>60.647790</td>\n",
       "      <td>191.720000</td>\n",
       "    </tr>\n",
       "  </tbody>\n",
       "</table>\n",
       "</div>"
      ],
      "text/plain": [
       "              PM2.5          PM10           NO2           SO2           NH3  \\\n",
       "count  12650.000000  12650.000000  12650.000000  12650.000000  12650.000000   \n",
       "mean      60.647790    111.615496     25.015405     13.734916     22.472887   \n",
       "std       64.792627    106.107263     21.048475     15.690856     20.597436   \n",
       "min        0.690000      0.000000      0.320000      0.030000      0.020000   \n",
       "25%       23.990000     50.020000     11.830000      3.660000      8.460000   \n",
       "50%       39.405000     73.280000     18.780000      9.010000     14.980000   \n",
       "75%       65.500000    127.540000     30.380000     17.557500     30.360000   \n",
       "max      817.600000    810.940000    412.840000    148.290000    310.740000   \n",
       "\n",
       "                 CO         Ozone  \n",
       "count  12650.000000  12650.000000  \n",
       "mean       2.537802     34.495111  \n",
       "std        9.819390     21.433880  \n",
       "min        0.000000      0.030000  \n",
       "25%        0.510000     16.340000  \n",
       "50%        0.770000     31.330000  \n",
       "75%        1.140000     50.010000  \n",
       "max       60.647790    191.720000  "
      ]
     },
     "execution_count": 30,
     "metadata": {},
     "output_type": "execute_result"
    }
   ],
   "source": [
    "data.describe()"
   ]
  },
  {
   "cell_type": "code",
   "execution_count": 31,
   "metadata": {},
   "outputs": [
    {
     "data": {
      "text/plain": [
       "PM2.5    0\n",
       "PM10     0\n",
       "NO2      0\n",
       "SO2      0\n",
       "NH3      0\n",
       "CO       0\n",
       "Ozone    0\n",
       "dtype: int64"
      ]
     },
     "execution_count": 31,
     "metadata": {},
     "output_type": "execute_result"
    }
   ],
   "source": [
    "data.isna().sum() #some null value remains since some state have one value(i.e NaN only) and no mean to replace them"
   ]
  },
  {
   "cell_type": "markdown",
   "metadata": {},
   "source": [
    "# Data Distribution after Replacing Null value with mean"
   ]
  },
  {
   "cell_type": "code",
   "execution_count": 32,
   "metadata": {},
   "outputs": [],
   "source": [
    "# plt.hist(data.so2,range=(0,1000))"
   ]
  },
  {
   "cell_type": "code",
   "execution_count": 33,
   "metadata": {},
   "outputs": [],
   "source": [
    "# plt.hist(data.rspm,range=(0,7000))"
   ]
  },
  {
   "cell_type": "code",
   "execution_count": 34,
   "metadata": {},
   "outputs": [],
   "source": [
    "# plt.hist(data.no2,range=(0.0,1000))"
   ]
  },
  {
   "cell_type": "code",
   "execution_count": 35,
   "metadata": {},
   "outputs": [],
   "source": [
    "# plt.hist(data.spm,range=(0.0,4000)) #spm"
   ]
  },
  {
   "cell_type": "code",
   "execution_count": 36,
   "metadata": {},
   "outputs": [],
   "source": [
    "# data.tail(10)"
   ]
  },
  {
   "cell_type": "markdown",
   "metadata": {},
   "source": [
    "# CALCULATE AIR QUALITY INDEX FOR SO2 BASED ON FORMULA\n",
    "\n",
    "The air quality index is a piecewise linear function of the pollutant concentration. At the boundary between AQI categories, there is a discontinuous jump of one AQI unit. To convert from concentration to AQI this equation is used\n",
    "\\begin{equation*}\n",
    "I = I_{low} +  \\frac{I_{high}-I_{low}}{C_{high}-C_{low}}{(C-C_{low})}\n",
    "\\end{equation*}\n",
    "\n"
   ]
  },
  {
   "cell_type": "markdown",
   "metadata": {},
   "source": [
    "**What is sulfur dioxide?**\n",
    "\n",
    "Sulfur dioxide is a gas. It is invisible and has a nasty, sharp smell. It reacts easily with other substances to form harmful compounds, such as sulfuric acid, sulfurous acid and sulfate particles.\n",
    "\n",
    "About 99% of the sulfur dioxide in air comes from human sources. The main source of sulfur dioxide in the air is industrial activity that processes materials that contain sulfur, eg the generation of electricity from coal, oil or gas that contains sulfur. Some mineral ores also contain sulfur, and sulfur dioxide is released when they are processed. In addition, industrial activities that burn fossil fuels containing sulfur can be important sources of sulfur dioxide.\n",
    "\n",
    "Sulfur dioxide is also present in motor vehicle emissions, as the result of fuel combustion. In the past, motor vehicle exhaust was an important, but not the main, source of sulfur dioxide in air. However, this is no longer the case."
   ]
  },
  {
   "cell_type": "code",
   "execution_count": 37,
   "metadata": {},
   "outputs": [
    {
     "data": {
      "text/html": [
       "<div>\n",
       "<style scoped>\n",
       "    .dataframe tbody tr th:only-of-type {\n",
       "        vertical-align: middle;\n",
       "    }\n",
       "\n",
       "    .dataframe tbody tr th {\n",
       "        vertical-align: top;\n",
       "    }\n",
       "\n",
       "    .dataframe thead th {\n",
       "        text-align: right;\n",
       "    }\n",
       "</style>\n",
       "<table border=\"1\" class=\"dataframe\">\n",
       "  <thead>\n",
       "    <tr style=\"text-align: right;\">\n",
       "      <th></th>\n",
       "      <th>SO2</th>\n",
       "      <th>SO2i</th>\n",
       "    </tr>\n",
       "  </thead>\n",
       "  <tbody>\n",
       "    <tr>\n",
       "      <th>0</th>\n",
       "      <td>5.16</td>\n",
       "      <td>6.4500</td>\n",
       "    </tr>\n",
       "    <tr>\n",
       "      <th>1</th>\n",
       "      <td>2.91</td>\n",
       "      <td>3.6375</td>\n",
       "    </tr>\n",
       "    <tr>\n",
       "      <th>2</th>\n",
       "      <td>4.77</td>\n",
       "      <td>5.9625</td>\n",
       "    </tr>\n",
       "    <tr>\n",
       "      <th>3</th>\n",
       "      <td>5.52</td>\n",
       "      <td>6.9000</td>\n",
       "    </tr>\n",
       "    <tr>\n",
       "      <th>4</th>\n",
       "      <td>1.24</td>\n",
       "      <td>1.5500</td>\n",
       "    </tr>\n",
       "  </tbody>\n",
       "</table>\n",
       "</div>"
      ],
      "text/plain": [
       "    SO2    SO2i\n",
       "0  5.16  6.4500\n",
       "1  2.91  3.6375\n",
       "2  4.77  5.9625\n",
       "3  5.52  6.9000\n",
       "4  1.24  1.5500"
      ]
     },
     "execution_count": 37,
     "metadata": {},
     "output_type": "execute_result"
    }
   ],
   "source": [
    "def cal_SOi(so2):\n",
    "    si=0\n",
    "    if (so2<=40):\n",
    "     si= so2*(50/40)\n",
    "    elif (so2>40 and so2<=80):\n",
    "     si= 50+(so2-40)*(50/40)\n",
    "    elif (so2>80 and so2<=380):\n",
    "     si= 100+(so2-80)*(100/300)\n",
    "    elif (so2>380 and so2<=800):\n",
    "     si= 200+(so2-380)*(100/420)\n",
    "    elif (so2>800 and so2<=1600):\n",
    "     si= 300+(so2-800)*(100/800)\n",
    "    elif (so2>1600):\n",
    "     si= 400+(so2-1600)*(100/800)\n",
    "    return si\n",
    "data['SO2']\n",
    "data['SO2i']=data['SO2'].apply(cal_SOi)\n",
    "df= data[['SO2','SO2i']]\n",
    "df.head()"
   ]
  },
  {
   "cell_type": "markdown",
   "metadata": {},
   "source": [
    "# CALCULATE  AIR QUALITY INDEX FOR NO2 BASED ON FORMULA"
   ]
  },
  {
   "cell_type": "code",
   "execution_count": 38,
   "metadata": {},
   "outputs": [
    {
     "data": {
      "text/html": [
       "<div>\n",
       "<style scoped>\n",
       "    .dataframe tbody tr th:only-of-type {\n",
       "        vertical-align: middle;\n",
       "    }\n",
       "\n",
       "    .dataframe tbody tr th {\n",
       "        vertical-align: top;\n",
       "    }\n",
       "\n",
       "    .dataframe thead th {\n",
       "        text-align: right;\n",
       "    }\n",
       "</style>\n",
       "<table border=\"1\" class=\"dataframe\">\n",
       "  <thead>\n",
       "    <tr style=\"text-align: right;\">\n",
       "      <th></th>\n",
       "      <th>NO2</th>\n",
       "      <th>NOi</th>\n",
       "    </tr>\n",
       "  </thead>\n",
       "  <tbody>\n",
       "    <tr>\n",
       "      <th>0</th>\n",
       "      <td>12.82</td>\n",
       "      <td>16.0250</td>\n",
       "    </tr>\n",
       "    <tr>\n",
       "      <th>1</th>\n",
       "      <td>15.25</td>\n",
       "      <td>19.0625</td>\n",
       "    </tr>\n",
       "    <tr>\n",
       "      <th>2</th>\n",
       "      <td>19.42</td>\n",
       "      <td>24.2750</td>\n",
       "    </tr>\n",
       "    <tr>\n",
       "      <th>3</th>\n",
       "      <td>17.77</td>\n",
       "      <td>22.2125</td>\n",
       "    </tr>\n",
       "    <tr>\n",
       "      <th>4</th>\n",
       "      <td>16.32</td>\n",
       "      <td>20.4000</td>\n",
       "    </tr>\n",
       "  </tbody>\n",
       "</table>\n",
       "</div>"
      ],
      "text/plain": [
       "     NO2      NOi\n",
       "0  12.82  16.0250\n",
       "1  15.25  19.0625\n",
       "2  19.42  24.2750\n",
       "3  17.77  22.2125\n",
       "4  16.32  20.4000"
      ]
     },
     "execution_count": 38,
     "metadata": {},
     "output_type": "execute_result"
    }
   ],
   "source": [
    "def cal_Noi(no2):\n",
    "    ni=0\n",
    "    if(no2<=40):\n",
    "     ni= no2*50/40\n",
    "    elif(no2>40 and no2<=80):\n",
    "     ni= 50+(no2-40)*(50/40)\n",
    "    elif(no2>80 and no2<=180):\n",
    "     ni= 100+(no2-80)*(100/100)\n",
    "    elif(no2>180 and no2<=280):\n",
    "     ni= 200+(no2-180)*(100/100)\n",
    "    elif(no2>280 and no2<=400):\n",
    "     ni= 300+(no2-280)*(100/120)\n",
    "    else:\n",
    "     ni= 400+(no2-400)*(100/120)\n",
    "    return ni\n",
    "data['NOi']=data['NO2'].apply(cal_Noi)\n",
    "df= data[['NO2','NOi']]\n",
    "df.head()"
   ]
  },
  {
   "cell_type": "code",
   "execution_count": null,
   "metadata": {},
   "outputs": [],
   "source": []
  },
  {
   "cell_type": "markdown",
   "metadata": {},
   "source": [
    "# CALCULATE  AIR QUALITY INDEX FOR RSPM BASED ON FORMULA"
   ]
  },
  {
   "cell_type": "markdown",
   "metadata": {},
   "source": [
    "def cal_RSPMi(rspm):\n",
    "    rpi=0\n",
    "    if(rspm<=100):\n",
    "     rpi = rspm\n",
    "    elif(rspm>=101 and rspm<=150):\n",
    "     rpi= 101+(rspm-101)*((200-101)/(150-101))\n",
    "    elif(rspm>=151 and rspm<=350):\n",
    "     ni= 201+(rspm-151)*((300-201)/(350-151))\n",
    "    elif(rspm>=351 and rspm<=420):\n",
    "     ni= 301+(rspm-351)*((400-301)/(420-351))\n",
    "    elif(rspm>420):\n",
    "     ni= 401+(rspm-420)*((500-401)/(420-351))\n",
    "    return rpi\n",
    "data['RSPMi']=data['rspm'].apply(cal_RSPMi)\n",
    "df= data[['rspm','RSPMi']]\n",
    "df.head()"
   ]
  },
  {
   "cell_type": "code",
   "execution_count": 39,
   "metadata": {},
   "outputs": [
    {
     "data": {
      "text/html": [
       "<div>\n",
       "<style scoped>\n",
       "    .dataframe tbody tr th:only-of-type {\n",
       "        vertical-align: middle;\n",
       "    }\n",
       "\n",
       "    .dataframe tbody tr th {\n",
       "        vertical-align: top;\n",
       "    }\n",
       "\n",
       "    .dataframe thead th {\n",
       "        text-align: right;\n",
       "    }\n",
       "</style>\n",
       "<table border=\"1\" class=\"dataframe\">\n",
       "  <thead>\n",
       "    <tr style=\"text-align: right;\">\n",
       "      <th></th>\n",
       "      <th>NO2</th>\n",
       "      <th>NOi</th>\n",
       "    </tr>\n",
       "  </thead>\n",
       "  <tbody>\n",
       "    <tr>\n",
       "      <th>12645</th>\n",
       "      <td>18.24</td>\n",
       "      <td>22.8000</td>\n",
       "    </tr>\n",
       "    <tr>\n",
       "      <th>12646</th>\n",
       "      <td>19.99</td>\n",
       "      <td>24.9875</td>\n",
       "    </tr>\n",
       "    <tr>\n",
       "      <th>12647</th>\n",
       "      <td>18.44</td>\n",
       "      <td>23.0500</td>\n",
       "    </tr>\n",
       "    <tr>\n",
       "      <th>12648</th>\n",
       "      <td>16.56</td>\n",
       "      <td>20.7000</td>\n",
       "    </tr>\n",
       "    <tr>\n",
       "      <th>12649</th>\n",
       "      <td>15.33</td>\n",
       "      <td>19.1625</td>\n",
       "    </tr>\n",
       "  </tbody>\n",
       "</table>\n",
       "</div>"
      ],
      "text/plain": [
       "         NO2      NOi\n",
       "12645  18.24  22.8000\n",
       "12646  19.99  24.9875\n",
       "12647  18.44  23.0500\n",
       "12648  16.56  20.7000\n",
       "12649  15.33  19.1625"
      ]
     },
     "execution_count": 39,
     "metadata": {},
     "output_type": "execute_result"
    }
   ],
   "source": [
    "df.tail()"
   ]
  },
  {
   "cell_type": "markdown",
   "metadata": {},
   "source": [
    "# CALCULATE  AIR QUALITY INDEX FOR SPM BASED ON FORMULA"
   ]
  },
  {
   "cell_type": "markdown",
   "metadata": {},
   "source": [
    "def cal_SPMi(spm):\n",
    "    spi=0\n",
    "    if(spm<=50):\n",
    "     spi=spm*50/50\n",
    "    elif(spm>50 and spm<=100):\n",
    "     spi=50+(spm-50)*(50/50)\n",
    "    elif(spm>100 and spm<=250):\n",
    "     spi= 100+(spm-100)*(100/150)\n",
    "    elif(spm>250 and spm<=350):\n",
    "     spi=200+(spm-250)*(100/100)\n",
    "    elif(spm>350 and spm<=430):\n",
    "     spi=300+(spm-350)*(100/80)\n",
    "    else:\n",
    "     spi=400+(spm-430)*(100/430)\n",
    "    return spi\n",
    "   \n",
    "data['SPMi']=data['spm'].apply(cal_SPMi)\n",
    "df= data[['spm','SPMi']]\n",
    "df.head()"
   ]
  },
  {
   "cell_type": "markdown",
   "metadata": {},
   "source": [
    "# CALCULATE  AIR QUALITY INDEX FOR PM 2.5 BASED ON FORMULA"
   ]
  },
  {
   "cell_type": "code",
   "execution_count": 40,
   "metadata": {},
   "outputs": [
    {
     "data": {
      "text/html": [
       "<div>\n",
       "<style scoped>\n",
       "    .dataframe tbody tr th:only-of-type {\n",
       "        vertical-align: middle;\n",
       "    }\n",
       "\n",
       "    .dataframe tbody tr th {\n",
       "        vertical-align: top;\n",
       "    }\n",
       "\n",
       "    .dataframe thead th {\n",
       "        text-align: right;\n",
       "    }\n",
       "</style>\n",
       "<table border=\"1\" class=\"dataframe\">\n",
       "  <thead>\n",
       "    <tr style=\"text-align: right;\">\n",
       "      <th></th>\n",
       "      <th>PM2.5</th>\n",
       "      <th>PM25i</th>\n",
       "    </tr>\n",
       "  </thead>\n",
       "  <tbody>\n",
       "    <tr>\n",
       "      <th>0</th>\n",
       "      <td>50.08</td>\n",
       "      <td>83.466667</td>\n",
       "    </tr>\n",
       "    <tr>\n",
       "      <th>1</th>\n",
       "      <td>41.34</td>\n",
       "      <td>68.900000</td>\n",
       "    </tr>\n",
       "    <tr>\n",
       "      <th>2</th>\n",
       "      <td>40.38</td>\n",
       "      <td>67.300000</td>\n",
       "    </tr>\n",
       "    <tr>\n",
       "      <th>3</th>\n",
       "      <td>40.80</td>\n",
       "      <td>68.000000</td>\n",
       "    </tr>\n",
       "    <tr>\n",
       "      <th>4</th>\n",
       "      <td>42.55</td>\n",
       "      <td>70.916667</td>\n",
       "    </tr>\n",
       "  </tbody>\n",
       "</table>\n",
       "</div>"
      ],
      "text/plain": [
       "   PM2.5      PM25i\n",
       "0  50.08  83.466667\n",
       "1  41.34  68.900000\n",
       "2  40.38  67.300000\n",
       "3  40.80  68.000000\n",
       "4  42.55  70.916667"
      ]
     },
     "execution_count": 40,
     "metadata": {},
     "output_type": "execute_result"
    }
   ],
   "source": [
    "def cal_pmi(pm2_5):\n",
    "    pmi=0\n",
    "    if(pm2_5<=30):\n",
    "     pmi=pm2_5*(50/30)\n",
    "    elif(pm2_5>30 and pm2_5<=60):\n",
    "     pmi=50+(pm2_5-30)*(50/30)\n",
    "    elif(pm2_5>60 and pm2_5<=90):\n",
    "     pmi= 100+(pm2_5-60)*(100/30)\n",
    "    elif(pm2_5>90 and pm2_5<=120):\n",
    "     pmi=200+(pm2_5-90)*(100/30)\n",
    "    elif(pm2_5>120 and pm2_5<=250):\n",
    "     pmi=300+(pm2_5-120)*(100/130)\n",
    "    else:\n",
    "     pmi=400+(pm2_5-250)*(100/130)\n",
    "    return pmi\n",
    "data['PM25i']=data['PM2.5'].apply(cal_pmi)\n",
    "df= data[['PM2.5','PM25i']]\n",
    "df.head()\n"
   ]
  },
  {
   "cell_type": "code",
   "execution_count": 41,
   "metadata": {},
   "outputs": [
    {
     "data": {
      "text/html": [
       "<div>\n",
       "<style scoped>\n",
       "    .dataframe tbody tr th:only-of-type {\n",
       "        vertical-align: middle;\n",
       "    }\n",
       "\n",
       "    .dataframe tbody tr th {\n",
       "        vertical-align: top;\n",
       "    }\n",
       "\n",
       "    .dataframe thead th {\n",
       "        text-align: right;\n",
       "    }\n",
       "</style>\n",
       "<table border=\"1\" class=\"dataframe\">\n",
       "  <thead>\n",
       "    <tr style=\"text-align: right;\">\n",
       "      <th></th>\n",
       "      <th>PM10</th>\n",
       "      <th>PM10i</th>\n",
       "    </tr>\n",
       "  </thead>\n",
       "  <tbody>\n",
       "    <tr>\n",
       "      <th>0</th>\n",
       "      <td>78.39</td>\n",
       "      <td>97.9875</td>\n",
       "    </tr>\n",
       "    <tr>\n",
       "      <th>1</th>\n",
       "      <td>74.04</td>\n",
       "      <td>92.5500</td>\n",
       "    </tr>\n",
       "    <tr>\n",
       "      <th>2</th>\n",
       "      <td>80.06</td>\n",
       "      <td>100.0750</td>\n",
       "    </tr>\n",
       "    <tr>\n",
       "      <th>3</th>\n",
       "      <td>86.26</td>\n",
       "      <td>107.8250</td>\n",
       "    </tr>\n",
       "    <tr>\n",
       "      <th>4</th>\n",
       "      <td>70.35</td>\n",
       "      <td>87.9375</td>\n",
       "    </tr>\n",
       "  </tbody>\n",
       "</table>\n",
       "</div>"
      ],
      "text/plain": [
       "    PM10     PM10i\n",
       "0  78.39   97.9875\n",
       "1  74.04   92.5500\n",
       "2  80.06  100.0750\n",
       "3  86.26  107.8250\n",
       "4  70.35   87.9375"
      ]
     },
     "execution_count": 41,
     "metadata": {},
     "output_type": "execute_result"
    }
   ],
   "source": [
    "def cal_pm10(pm10):\n",
    "    pm10i = 0\n",
    "    if(pm10<=50):\n",
    "     pm10i= pm10*50/40\n",
    "    elif(pm10>50 and pm10<=100):\n",
    "     pm10i= 50+(pm10-40)*(50/40)\n",
    "    elif(pm10>100 and pm10<=250):\n",
    "     pm10i= 100+(pm10-80)*(100/100)\n",
    "    elif(pm10>250 and pm10<=350):\n",
    "     pm10i= 200+(pm10-180)*(100/100)\n",
    "    elif(pm10>350 and pm10<=430):\n",
    "     pm10i= 300+(pm10-280)*(100/120)\n",
    "    else:\n",
    "     pm10i= 400+(pm10-400)*(100/120)\n",
    "    return pm10i\n",
    "data['PM10i']=data['PM10'].apply(cal_pm10)\n",
    "df= data[['PM10','PM10i']]\n",
    "df.head()   "
   ]
  },
  {
   "cell_type": "code",
   "execution_count": 42,
   "metadata": {},
   "outputs": [
    {
     "data": {
      "text/html": [
       "<div>\n",
       "<style scoped>\n",
       "    .dataframe tbody tr th:only-of-type {\n",
       "        vertical-align: middle;\n",
       "    }\n",
       "\n",
       "    .dataframe tbody tr th {\n",
       "        vertical-align: top;\n",
       "    }\n",
       "\n",
       "    .dataframe thead th {\n",
       "        text-align: right;\n",
       "    }\n",
       "</style>\n",
       "<table border=\"1\" class=\"dataframe\">\n",
       "  <thead>\n",
       "    <tr style=\"text-align: right;\">\n",
       "      <th></th>\n",
       "      <th>Ozone</th>\n",
       "      <th>Ozonei</th>\n",
       "    </tr>\n",
       "  </thead>\n",
       "  <tbody>\n",
       "    <tr>\n",
       "      <th>600</th>\n",
       "      <td>16.99</td>\n",
       "      <td>16.99</td>\n",
       "    </tr>\n",
       "    <tr>\n",
       "      <th>601</th>\n",
       "      <td>14.31</td>\n",
       "      <td>14.31</td>\n",
       "    </tr>\n",
       "    <tr>\n",
       "      <th>602</th>\n",
       "      <td>18.99</td>\n",
       "      <td>18.99</td>\n",
       "    </tr>\n",
       "    <tr>\n",
       "      <th>603</th>\n",
       "      <td>14.79</td>\n",
       "      <td>14.79</td>\n",
       "    </tr>\n",
       "    <tr>\n",
       "      <th>604</th>\n",
       "      <td>18.64</td>\n",
       "      <td>18.64</td>\n",
       "    </tr>\n",
       "    <tr>\n",
       "      <th>...</th>\n",
       "      <td>...</td>\n",
       "      <td>...</td>\n",
       "    </tr>\n",
       "    <tr>\n",
       "      <th>705</th>\n",
       "      <td>11.75</td>\n",
       "      <td>11.75</td>\n",
       "    </tr>\n",
       "    <tr>\n",
       "      <th>706</th>\n",
       "      <td>10.72</td>\n",
       "      <td>10.72</td>\n",
       "    </tr>\n",
       "    <tr>\n",
       "      <th>707</th>\n",
       "      <td>12.10</td>\n",
       "      <td>12.10</td>\n",
       "    </tr>\n",
       "    <tr>\n",
       "      <th>708</th>\n",
       "      <td>13.23</td>\n",
       "      <td>13.23</td>\n",
       "    </tr>\n",
       "    <tr>\n",
       "      <th>709</th>\n",
       "      <td>14.08</td>\n",
       "      <td>14.08</td>\n",
       "    </tr>\n",
       "  </tbody>\n",
       "</table>\n",
       "<p>110 rows × 2 columns</p>\n",
       "</div>"
      ],
      "text/plain": [
       "     Ozone  Ozonei\n",
       "600  16.99   16.99\n",
       "601  14.31   14.31\n",
       "602  18.99   18.99\n",
       "603  14.79   14.79\n",
       "604  18.64   18.64\n",
       "..     ...     ...\n",
       "705  11.75   11.75\n",
       "706  10.72   10.72\n",
       "707  12.10   12.10\n",
       "708  13.23   13.23\n",
       "709  14.08   14.08\n",
       "\n",
       "[110 rows x 2 columns]"
      ]
     },
     "execution_count": 42,
     "metadata": {},
     "output_type": "execute_result"
    }
   ],
   "source": [
    "def cal_Ozone(oz):\n",
    "    ozi = 0\n",
    "    if(oz<=50):\n",
    "     ozi= oz*50/50\n",
    "    elif(oz>50 and oz<=100):\n",
    "     ozi= 50+(oz-50)*(50/50)\n",
    "    elif(oz>100 and oz<=168):\n",
    "     ozi= 100+(oz-100)*(100/68)\n",
    "    elif(oz>168 and oz<=208):\n",
    "     ozi= 200+(oz-168)*(100/40)\n",
    "    elif(oz>208 and oz<=748):\n",
    "     ozi= 300+(oz-208)*(100/540)\n",
    "    else:\n",
    "     ozi= 400+(oz-748)*(100/540)\n",
    "    return ozi\n",
    "data['Ozonei']=data['Ozone'].apply(cal_Ozone)\n",
    "df = data[['Ozone', 'Ozonei']]\n",
    "df[600:710]"
   ]
  },
  {
   "cell_type": "code",
   "execution_count": 43,
   "metadata": {},
   "outputs": [
    {
     "data": {
      "text/html": [
       "<div>\n",
       "<style scoped>\n",
       "    .dataframe tbody tr th:only-of-type {\n",
       "        vertical-align: middle;\n",
       "    }\n",
       "\n",
       "    .dataframe tbody tr th {\n",
       "        vertical-align: top;\n",
       "    }\n",
       "\n",
       "    .dataframe thead th {\n",
       "        text-align: right;\n",
       "    }\n",
       "</style>\n",
       "<table border=\"1\" class=\"dataframe\">\n",
       "  <thead>\n",
       "    <tr style=\"text-align: right;\">\n",
       "      <th></th>\n",
       "      <th>NH3</th>\n",
       "      <th>NH3i</th>\n",
       "    </tr>\n",
       "  </thead>\n",
       "  <tbody>\n",
       "    <tr>\n",
       "      <th>0</th>\n",
       "      <td>4.15</td>\n",
       "      <td>1.0375</td>\n",
       "    </tr>\n",
       "    <tr>\n",
       "      <th>1</th>\n",
       "      <td>4.53</td>\n",
       "      <td>1.1325</td>\n",
       "    </tr>\n",
       "    <tr>\n",
       "      <th>2</th>\n",
       "      <td>3.70</td>\n",
       "      <td>0.9250</td>\n",
       "    </tr>\n",
       "    <tr>\n",
       "      <th>3</th>\n",
       "      <td>3.75</td>\n",
       "      <td>0.9375</td>\n",
       "    </tr>\n",
       "    <tr>\n",
       "      <th>4</th>\n",
       "      <td>3.44</td>\n",
       "      <td>0.8600</td>\n",
       "    </tr>\n",
       "  </tbody>\n",
       "</table>\n",
       "</div>"
      ],
      "text/plain": [
       "    NH3    NH3i\n",
       "0  4.15  1.0375\n",
       "1  4.53  1.1325\n",
       "2  3.70  0.9250\n",
       "3  3.75  0.9375\n",
       "4  3.44  0.8600"
      ]
     },
     "execution_count": 43,
     "metadata": {},
     "output_type": "execute_result"
    }
   ],
   "source": [
    "def cal_NH3(nh):\n",
    "    nhi = 0\n",
    "    if(nh<=200):\n",
    "     nhi= nh*50/200\n",
    "    elif(nh>200 and nh<=400):\n",
    "     nhi= 50+(nh-200)*(50/200)\n",
    "    elif(nh>400 and nh<=800):\n",
    "     nhi= 100+(nh-400)*(100/400)\n",
    "    elif(nh>800 and nh<=1200):\n",
    "     nhi= 200+(nh-800)*(100/400)\n",
    "    elif(nh>1200 and nh<=1800):\n",
    "     nhi= 300+(nh-1200)*(100/600)\n",
    "    else:\n",
    "     nhi= 400+(nh-1800)*(100/600)\n",
    "    return nhi\n",
    "data['NH3i']=data['NH3'].apply(cal_NH3)\n",
    "df = data[['NH3', 'NH3i']]\n",
    "df.head()"
   ]
  },
  {
   "cell_type": "code",
   "execution_count": 44,
   "metadata": {},
   "outputs": [
    {
     "data": {
      "text/html": [
       "<div>\n",
       "<style scoped>\n",
       "    .dataframe tbody tr th:only-of-type {\n",
       "        vertical-align: middle;\n",
       "    }\n",
       "\n",
       "    .dataframe tbody tr th {\n",
       "        vertical-align: top;\n",
       "    }\n",
       "\n",
       "    .dataframe thead th {\n",
       "        text-align: right;\n",
       "    }\n",
       "</style>\n",
       "<table border=\"1\" class=\"dataframe\">\n",
       "  <thead>\n",
       "    <tr style=\"text-align: right;\">\n",
       "      <th></th>\n",
       "      <th>CO</th>\n",
       "      <th>COi</th>\n",
       "    </tr>\n",
       "  </thead>\n",
       "  <tbody>\n",
       "    <tr>\n",
       "      <th>12645</th>\n",
       "      <td>0.85</td>\n",
       "      <td>42.5</td>\n",
       "    </tr>\n",
       "    <tr>\n",
       "      <th>12646</th>\n",
       "      <td>1.00</td>\n",
       "      <td>50.0</td>\n",
       "    </tr>\n",
       "    <tr>\n",
       "      <th>12647</th>\n",
       "      <td>0.85</td>\n",
       "      <td>42.5</td>\n",
       "    </tr>\n",
       "    <tr>\n",
       "      <th>12648</th>\n",
       "      <td>0.83</td>\n",
       "      <td>41.5</td>\n",
       "    </tr>\n",
       "    <tr>\n",
       "      <th>12649</th>\n",
       "      <td>0.76</td>\n",
       "      <td>38.0</td>\n",
       "    </tr>\n",
       "  </tbody>\n",
       "</table>\n",
       "</div>"
      ],
      "text/plain": [
       "         CO   COi\n",
       "12645  0.85  42.5\n",
       "12646  1.00  50.0\n",
       "12647  0.85  42.5\n",
       "12648  0.83  41.5\n",
       "12649  0.76  38.0"
      ]
     },
     "execution_count": 44,
     "metadata": {},
     "output_type": "execute_result"
    }
   ],
   "source": [
    "def cal_CO(co):\n",
    "    coi = 0\n",
    "    if(co<=1.0):\n",
    "     coi= co*50/1.0\n",
    "    elif(co>1.0 and co<=2.0):\n",
    "     coi= 50+(co-1.0)*(50/1.0)\n",
    "    elif(co>2.0 and co<=10):\n",
    "     coi= 100+(co-2)*(100/8)\n",
    "    elif(co>10 and co<=17):\n",
    "     coi= 200+(co-10)*(100/7)\n",
    "    elif(co>17 and co<=34):\n",
    "     coi= 300+(co-17)*(100/17)\n",
    "    else:\n",
    "     coi= 400+(co-34)*(100/17)\n",
    "    return coi\n",
    "data['COi']=data['CO'].apply(cal_CO)\n",
    "df = data[['CO', 'COi']]\n",
    "df.tail()"
   ]
  },
  {
   "cell_type": "markdown",
   "metadata": {},
   "source": [
    "def cal_pmi(pm2_5):\n",
    "    pmi=0\n",
    "    if(pm2_5<=50):\n",
    "     pmi=pm2_5*(50/50)\n",
    "    elif(pm2_5>50 and pm2_5<=100):\n",
    "     pmi=50+(pm2_5-50)*(50/50)\n",
    "    elif(pm2_5>100 and pm2_5<=250):\n",
    "     pmi= 100+(pm2_5-100)*(100/150)\n",
    "    elif(pm2_5>250 and pm2_5<=350):\n",
    "     pmi=200+(pm2_5-250)*(100/100)\n",
    "    elif(pm2_5>350 and pm2_5<=450):\n",
    "     pmi=300+(pm2_5-350)*(100/100)\n",
    "    else:\n",
    "     pmi=400+(pm2_5-430)*(100/80)\n",
    "    return pmi\n",
    "data['PM25i']=data['PM2.5'].apply(cal_pmi)\n",
    "df= data[['PM2.5','PM25i']]\n",
    "df.head()"
   ]
  },
  {
   "cell_type": "code",
   "execution_count": 45,
   "metadata": {},
   "outputs": [],
   "source": [
    "# type(data['PMi'])"
   ]
  },
  {
   "cell_type": "markdown",
   "metadata": {},
   "source": [
    "Based on the measured ambient concentrations, corresponding standards and likely health impact, a sub-index is calculated for each of these pollutants. The worst sub-index reflects overall AQI.If multiple pollutants are measured at a monitoring site, then the largest or \"dominant\" AQI value is reported for the location"
   ]
  },
  {
   "cell_type": "code",
   "execution_count": 46,
   "metadata": {},
   "outputs": [
    {
     "data": {
      "text/html": [
       "<div>\n",
       "<style scoped>\n",
       "    .dataframe tbody tr th:only-of-type {\n",
       "        vertical-align: middle;\n",
       "    }\n",
       "\n",
       "    .dataframe tbody tr th {\n",
       "        vertical-align: top;\n",
       "    }\n",
       "\n",
       "    .dataframe thead th {\n",
       "        text-align: right;\n",
       "    }\n",
       "</style>\n",
       "<table border=\"1\" class=\"dataframe\">\n",
       "  <thead>\n",
       "    <tr style=\"text-align: right;\">\n",
       "      <th></th>\n",
       "      <th>SO2i</th>\n",
       "      <th>NOi</th>\n",
       "      <th>PM25i</th>\n",
       "      <th>PM10i</th>\n",
       "      <th>Ozonei</th>\n",
       "      <th>NH3i</th>\n",
       "      <th>COi</th>\n",
       "      <th>AQI</th>\n",
       "    </tr>\n",
       "  </thead>\n",
       "  <tbody>\n",
       "    <tr>\n",
       "      <th>0</th>\n",
       "      <td>6.4500</td>\n",
       "      <td>16.0250</td>\n",
       "      <td>83.466667</td>\n",
       "      <td>97.9875</td>\n",
       "      <td>39.34000</td>\n",
       "      <td>1.0375</td>\n",
       "      <td>13.5</td>\n",
       "      <td>97.9875</td>\n",
       "    </tr>\n",
       "    <tr>\n",
       "      <th>1</th>\n",
       "      <td>3.6375</td>\n",
       "      <td>19.0625</td>\n",
       "      <td>68.900000</td>\n",
       "      <td>92.5500</td>\n",
       "      <td>35.31000</td>\n",
       "      <td>1.1325</td>\n",
       "      <td>19.0</td>\n",
       "      <td>92.5500</td>\n",
       "    </tr>\n",
       "    <tr>\n",
       "      <th>2</th>\n",
       "      <td>5.9625</td>\n",
       "      <td>24.2750</td>\n",
       "      <td>67.300000</td>\n",
       "      <td>100.0750</td>\n",
       "      <td>25.21000</td>\n",
       "      <td>0.9250</td>\n",
       "      <td>26.0</td>\n",
       "      <td>100.0750</td>\n",
       "    </tr>\n",
       "    <tr>\n",
       "      <th>3</th>\n",
       "      <td>6.9000</td>\n",
       "      <td>22.2125</td>\n",
       "      <td>68.000000</td>\n",
       "      <td>107.8250</td>\n",
       "      <td>26.29000</td>\n",
       "      <td>0.9375</td>\n",
       "      <td>41.5</td>\n",
       "      <td>107.8250</td>\n",
       "    </tr>\n",
       "    <tr>\n",
       "      <th>4</th>\n",
       "      <td>1.5500</td>\n",
       "      <td>20.4000</td>\n",
       "      <td>70.916667</td>\n",
       "      <td>87.9375</td>\n",
       "      <td>21.13000</td>\n",
       "      <td>0.8600</td>\n",
       "      <td>19.0</td>\n",
       "      <td>87.9375</td>\n",
       "    </tr>\n",
       "    <tr>\n",
       "      <th>...</th>\n",
       "      <td>...</td>\n",
       "      <td>...</td>\n",
       "      <td>...</td>\n",
       "      <td>...</td>\n",
       "      <td>...</td>\n",
       "      <td>...</td>\n",
       "      <td>...</td>\n",
       "      <td>...</td>\n",
       "    </tr>\n",
       "    <tr>\n",
       "      <th>12645</th>\n",
       "      <td>5.7250</td>\n",
       "      <td>22.8000</td>\n",
       "      <td>61.966667</td>\n",
       "      <td>101.4375</td>\n",
       "      <td>60.64779</td>\n",
       "      <td>6.2525</td>\n",
       "      <td>42.5</td>\n",
       "      <td>101.4375</td>\n",
       "    </tr>\n",
       "    <tr>\n",
       "      <th>12646</th>\n",
       "      <td>5.9500</td>\n",
       "      <td>24.9875</td>\n",
       "      <td>61.883333</td>\n",
       "      <td>101.0875</td>\n",
       "      <td>60.64779</td>\n",
       "      <td>6.3775</td>\n",
       "      <td>50.0</td>\n",
       "      <td>101.0875</td>\n",
       "    </tr>\n",
       "    <tr>\n",
       "      <th>12647</th>\n",
       "      <td>5.3625</td>\n",
       "      <td>23.0500</td>\n",
       "      <td>61.816667</td>\n",
       "      <td>101.4625</td>\n",
       "      <td>60.64779</td>\n",
       "      <td>6.2850</td>\n",
       "      <td>42.5</td>\n",
       "      <td>101.4625</td>\n",
       "    </tr>\n",
       "    <tr>\n",
       "      <th>12648</th>\n",
       "      <td>5.2625</td>\n",
       "      <td>20.7000</td>\n",
       "      <td>61.883333</td>\n",
       "      <td>101.3500</td>\n",
       "      <td>60.64779</td>\n",
       "      <td>6.4925</td>\n",
       "      <td>41.5</td>\n",
       "      <td>101.3500</td>\n",
       "    </tr>\n",
       "    <tr>\n",
       "      <th>12649</th>\n",
       "      <td>5.9750</td>\n",
       "      <td>19.1625</td>\n",
       "      <td>61.766667</td>\n",
       "      <td>101.2500</td>\n",
       "      <td>60.64779</td>\n",
       "      <td>6.4650</td>\n",
       "      <td>38.0</td>\n",
       "      <td>101.2500</td>\n",
       "    </tr>\n",
       "  </tbody>\n",
       "</table>\n",
       "<p>12650 rows × 8 columns</p>\n",
       "</div>"
      ],
      "text/plain": [
       "         SO2i      NOi      PM25i     PM10i    Ozonei    NH3i   COi       AQI\n",
       "0      6.4500  16.0250  83.466667   97.9875  39.34000  1.0375  13.5   97.9875\n",
       "1      3.6375  19.0625  68.900000   92.5500  35.31000  1.1325  19.0   92.5500\n",
       "2      5.9625  24.2750  67.300000  100.0750  25.21000  0.9250  26.0  100.0750\n",
       "3      6.9000  22.2125  68.000000  107.8250  26.29000  0.9375  41.5  107.8250\n",
       "4      1.5500  20.4000  70.916667   87.9375  21.13000  0.8600  19.0   87.9375\n",
       "...       ...      ...        ...       ...       ...     ...   ...       ...\n",
       "12645  5.7250  22.8000  61.966667  101.4375  60.64779  6.2525  42.5  101.4375\n",
       "12646  5.9500  24.9875  61.883333  101.0875  60.64779  6.3775  50.0  101.0875\n",
       "12647  5.3625  23.0500  61.816667  101.4625  60.64779  6.2850  42.5  101.4625\n",
       "12648  5.2625  20.7000  61.883333  101.3500  60.64779  6.4925  41.5  101.3500\n",
       "12649  5.9750  19.1625  61.766667  101.2500  60.64779  6.4650  38.0  101.2500\n",
       "\n",
       "[12650 rows x 8 columns]"
      ]
     },
     "execution_count": 46,
     "metadata": {},
     "output_type": "execute_result"
    }
   ],
   "source": [
    "def cal_aqi(si,ni,pm25i,pm10i,ozi,nhi,coi):\n",
    "    aqi=0\n",
    "    if(si>ni and si>pm25i and si>pm10i and si>ozi and si>nhi and si>coi):\n",
    "     aqi=si\n",
    "    if(ni>si and ni>pm25i and ni>pm10i and ni>ozi and ni>nhi and ni>coi):\n",
    "     aqi=ni\n",
    "    if(pm25i>si and pm25i>ni and pm25i>pm10i and pm25i>ozi and pm25i>nhi and pm25i>coi):\n",
    "     aqi=pm25i\n",
    "    if(pm10i>si and pm10i>ni and pm10i>pm25i and pm10i>ozi and pm10i>nhi and pm10i>coi):\n",
    "     aqi=pm10i\n",
    "    if(ozi>si and ozi>ni and ozi>pm25i and ozi>pm10i and ozi>nhi and ozi>coi):\n",
    "     aqi=ozi\n",
    "    if(nhi>si and nhi>ni and nhi>pm25i and nhi>pm10i and nhi>ozi and nhi>coi):\n",
    "     aqi=nhi\n",
    "    if(coi>si and coi>ni and coi>pm25i and coi>pm10i and coi>nhi and coi>ozi):\n",
    "     aqi=coi\n",
    "    return aqi\n",
    "\n",
    "data['AQI']=data.apply(lambda x:cal_aqi(x['SO2i'],x['NOi'],x['PM25i'],x['PM10i'],x['Ozonei'],x['NH3i'],x['COi']),axis=1)\n",
    "df= data[['SO2i','NOi','PM25i','PM10i','Ozonei','NH3i','COi','AQI']]\n",
    "df"
   ]
  },
  {
   "cell_type": "code",
   "execution_count": 47,
   "metadata": {},
   "outputs": [
    {
     "data": {
      "text/html": [
       "<div>\n",
       "<style scoped>\n",
       "    .dataframe tbody tr th:only-of-type {\n",
       "        vertical-align: middle;\n",
       "    }\n",
       "\n",
       "    .dataframe tbody tr th {\n",
       "        vertical-align: top;\n",
       "    }\n",
       "\n",
       "    .dataframe thead th {\n",
       "        text-align: right;\n",
       "    }\n",
       "</style>\n",
       "<table border=\"1\" class=\"dataframe\">\n",
       "  <thead>\n",
       "    <tr style=\"text-align: right;\">\n",
       "      <th></th>\n",
       "      <th>PM2.5</th>\n",
       "      <th>PM10</th>\n",
       "      <th>NO2</th>\n",
       "      <th>SO2</th>\n",
       "      <th>NH3</th>\n",
       "      <th>CO</th>\n",
       "      <th>Ozone</th>\n",
       "      <th>SO2i</th>\n",
       "      <th>NOi</th>\n",
       "      <th>PM25i</th>\n",
       "      <th>PM10i</th>\n",
       "      <th>Ozonei</th>\n",
       "      <th>NH3i</th>\n",
       "      <th>COi</th>\n",
       "      <th>AQI</th>\n",
       "    </tr>\n",
       "  </thead>\n",
       "  <tbody>\n",
       "    <tr>\n",
       "      <th>0</th>\n",
       "      <td>50.08</td>\n",
       "      <td>78.39</td>\n",
       "      <td>12.82</td>\n",
       "      <td>5.16</td>\n",
       "      <td>4.15</td>\n",
       "      <td>0.27</td>\n",
       "      <td>39.34</td>\n",
       "      <td>6.4500</td>\n",
       "      <td>16.0250</td>\n",
       "      <td>83.466667</td>\n",
       "      <td>97.9875</td>\n",
       "      <td>39.34</td>\n",
       "      <td>1.0375</td>\n",
       "      <td>13.5</td>\n",
       "      <td>97.9875</td>\n",
       "    </tr>\n",
       "    <tr>\n",
       "      <th>1</th>\n",
       "      <td>41.34</td>\n",
       "      <td>74.04</td>\n",
       "      <td>15.25</td>\n",
       "      <td>2.91</td>\n",
       "      <td>4.53</td>\n",
       "      <td>0.38</td>\n",
       "      <td>35.31</td>\n",
       "      <td>3.6375</td>\n",
       "      <td>19.0625</td>\n",
       "      <td>68.900000</td>\n",
       "      <td>92.5500</td>\n",
       "      <td>35.31</td>\n",
       "      <td>1.1325</td>\n",
       "      <td>19.0</td>\n",
       "      <td>92.5500</td>\n",
       "    </tr>\n",
       "    <tr>\n",
       "      <th>2</th>\n",
       "      <td>40.38</td>\n",
       "      <td>80.06</td>\n",
       "      <td>19.42</td>\n",
       "      <td>4.77</td>\n",
       "      <td>3.70</td>\n",
       "      <td>0.52</td>\n",
       "      <td>25.21</td>\n",
       "      <td>5.9625</td>\n",
       "      <td>24.2750</td>\n",
       "      <td>67.300000</td>\n",
       "      <td>100.0750</td>\n",
       "      <td>25.21</td>\n",
       "      <td>0.9250</td>\n",
       "      <td>26.0</td>\n",
       "      <td>100.0750</td>\n",
       "    </tr>\n",
       "    <tr>\n",
       "      <th>3</th>\n",
       "      <td>40.80</td>\n",
       "      <td>86.26</td>\n",
       "      <td>17.77</td>\n",
       "      <td>5.52</td>\n",
       "      <td>3.75</td>\n",
       "      <td>0.83</td>\n",
       "      <td>26.29</td>\n",
       "      <td>6.9000</td>\n",
       "      <td>22.2125</td>\n",
       "      <td>68.000000</td>\n",
       "      <td>107.8250</td>\n",
       "      <td>26.29</td>\n",
       "      <td>0.9375</td>\n",
       "      <td>41.5</td>\n",
       "      <td>107.8250</td>\n",
       "    </tr>\n",
       "    <tr>\n",
       "      <th>4</th>\n",
       "      <td>42.55</td>\n",
       "      <td>70.35</td>\n",
       "      <td>16.32</td>\n",
       "      <td>1.24</td>\n",
       "      <td>3.44</td>\n",
       "      <td>0.38</td>\n",
       "      <td>21.13</td>\n",
       "      <td>1.5500</td>\n",
       "      <td>20.4000</td>\n",
       "      <td>70.916667</td>\n",
       "      <td>87.9375</td>\n",
       "      <td>21.13</td>\n",
       "      <td>0.8600</td>\n",
       "      <td>19.0</td>\n",
       "      <td>87.9375</td>\n",
       "    </tr>\n",
       "  </tbody>\n",
       "</table>\n",
       "</div>"
      ],
      "text/plain": [
       "   PM2.5   PM10    NO2   SO2   NH3    CO  Ozone    SO2i      NOi      PM25i  \\\n",
       "0  50.08  78.39  12.82  5.16  4.15  0.27  39.34  6.4500  16.0250  83.466667   \n",
       "1  41.34  74.04  15.25  2.91  4.53  0.38  35.31  3.6375  19.0625  68.900000   \n",
       "2  40.38  80.06  19.42  4.77  3.70  0.52  25.21  5.9625  24.2750  67.300000   \n",
       "3  40.80  86.26  17.77  5.52  3.75  0.83  26.29  6.9000  22.2125  68.000000   \n",
       "4  42.55  70.35  16.32  1.24  3.44  0.38  21.13  1.5500  20.4000  70.916667   \n",
       "\n",
       "      PM10i  Ozonei    NH3i   COi       AQI  \n",
       "0   97.9875   39.34  1.0375  13.5   97.9875  \n",
       "1   92.5500   35.31  1.1325  19.0   92.5500  \n",
       "2  100.0750   25.21  0.9250  26.0  100.0750  \n",
       "3  107.8250   26.29  0.9375  41.5  107.8250  \n",
       "4   87.9375   21.13  0.8600  19.0   87.9375  "
      ]
     },
     "execution_count": 47,
     "metadata": {},
     "output_type": "execute_result"
    }
   ],
   "source": [
    "data.head()"
   ]
  },
  {
   "cell_type": "code",
   "execution_count": null,
   "metadata": {},
   "outputs": [],
   "source": []
  },
  {
   "cell_type": "markdown",
   "metadata": {},
   "source": [
    "# AQI RANGE for corresponding AQI value "
   ]
  },
  {
   "cell_type": "code",
   "execution_count": 48,
   "metadata": {},
   "outputs": [
    {
     "data": {
      "text/html": [
       "<div>\n",
       "<style scoped>\n",
       "    .dataframe tbody tr th:only-of-type {\n",
       "        vertical-align: middle;\n",
       "    }\n",
       "\n",
       "    .dataframe tbody tr th {\n",
       "        vertical-align: top;\n",
       "    }\n",
       "\n",
       "    .dataframe thead th {\n",
       "        text-align: right;\n",
       "    }\n",
       "</style>\n",
       "<table border=\"1\" class=\"dataframe\">\n",
       "  <thead>\n",
       "    <tr style=\"text-align: right;\">\n",
       "      <th></th>\n",
       "      <th>PM2.5</th>\n",
       "      <th>PM10</th>\n",
       "      <th>NO2</th>\n",
       "      <th>SO2</th>\n",
       "      <th>NH3</th>\n",
       "      <th>CO</th>\n",
       "      <th>Ozone</th>\n",
       "      <th>SO2i</th>\n",
       "      <th>NOi</th>\n",
       "      <th>PM25i</th>\n",
       "      <th>PM10i</th>\n",
       "      <th>Ozonei</th>\n",
       "      <th>NH3i</th>\n",
       "      <th>COi</th>\n",
       "      <th>AQI</th>\n",
       "      <th>AQI_Range</th>\n",
       "    </tr>\n",
       "  </thead>\n",
       "  <tbody>\n",
       "    <tr>\n",
       "      <th>0</th>\n",
       "      <td>50.08</td>\n",
       "      <td>78.39</td>\n",
       "      <td>12.82</td>\n",
       "      <td>5.16</td>\n",
       "      <td>4.15</td>\n",
       "      <td>0.27</td>\n",
       "      <td>39.34</td>\n",
       "      <td>6.4500</td>\n",
       "      <td>16.0250</td>\n",
       "      <td>83.466667</td>\n",
       "      <td>97.9875</td>\n",
       "      <td>39.34</td>\n",
       "      <td>1.0375</td>\n",
       "      <td>13.5</td>\n",
       "      <td>97.9875</td>\n",
       "      <td>Satisfactory</td>\n",
       "    </tr>\n",
       "    <tr>\n",
       "      <th>1</th>\n",
       "      <td>41.34</td>\n",
       "      <td>74.04</td>\n",
       "      <td>15.25</td>\n",
       "      <td>2.91</td>\n",
       "      <td>4.53</td>\n",
       "      <td>0.38</td>\n",
       "      <td>35.31</td>\n",
       "      <td>3.6375</td>\n",
       "      <td>19.0625</td>\n",
       "      <td>68.900000</td>\n",
       "      <td>92.5500</td>\n",
       "      <td>35.31</td>\n",
       "      <td>1.1325</td>\n",
       "      <td>19.0</td>\n",
       "      <td>92.5500</td>\n",
       "      <td>Satisfactory</td>\n",
       "    </tr>\n",
       "    <tr>\n",
       "      <th>2</th>\n",
       "      <td>40.38</td>\n",
       "      <td>80.06</td>\n",
       "      <td>19.42</td>\n",
       "      <td>4.77</td>\n",
       "      <td>3.70</td>\n",
       "      <td>0.52</td>\n",
       "      <td>25.21</td>\n",
       "      <td>5.9625</td>\n",
       "      <td>24.2750</td>\n",
       "      <td>67.300000</td>\n",
       "      <td>100.0750</td>\n",
       "      <td>25.21</td>\n",
       "      <td>0.9250</td>\n",
       "      <td>26.0</td>\n",
       "      <td>100.0750</td>\n",
       "      <td>Moderately Polluted</td>\n",
       "    </tr>\n",
       "    <tr>\n",
       "      <th>3</th>\n",
       "      <td>40.80</td>\n",
       "      <td>86.26</td>\n",
       "      <td>17.77</td>\n",
       "      <td>5.52</td>\n",
       "      <td>3.75</td>\n",
       "      <td>0.83</td>\n",
       "      <td>26.29</td>\n",
       "      <td>6.9000</td>\n",
       "      <td>22.2125</td>\n",
       "      <td>68.000000</td>\n",
       "      <td>107.8250</td>\n",
       "      <td>26.29</td>\n",
       "      <td>0.9375</td>\n",
       "      <td>41.5</td>\n",
       "      <td>107.8250</td>\n",
       "      <td>Moderately Polluted</td>\n",
       "    </tr>\n",
       "    <tr>\n",
       "      <th>4</th>\n",
       "      <td>42.55</td>\n",
       "      <td>70.35</td>\n",
       "      <td>16.32</td>\n",
       "      <td>1.24</td>\n",
       "      <td>3.44</td>\n",
       "      <td>0.38</td>\n",
       "      <td>21.13</td>\n",
       "      <td>1.5500</td>\n",
       "      <td>20.4000</td>\n",
       "      <td>70.916667</td>\n",
       "      <td>87.9375</td>\n",
       "      <td>21.13</td>\n",
       "      <td>0.8600</td>\n",
       "      <td>19.0</td>\n",
       "      <td>87.9375</td>\n",
       "      <td>Satisfactory</td>\n",
       "    </tr>\n",
       "  </tbody>\n",
       "</table>\n",
       "</div>"
      ],
      "text/plain": [
       "   PM2.5   PM10    NO2   SO2   NH3    CO  Ozone    SO2i      NOi      PM25i  \\\n",
       "0  50.08  78.39  12.82  5.16  4.15  0.27  39.34  6.4500  16.0250  83.466667   \n",
       "1  41.34  74.04  15.25  2.91  4.53  0.38  35.31  3.6375  19.0625  68.900000   \n",
       "2  40.38  80.06  19.42  4.77  3.70  0.52  25.21  5.9625  24.2750  67.300000   \n",
       "3  40.80  86.26  17.77  5.52  3.75  0.83  26.29  6.9000  22.2125  68.000000   \n",
       "4  42.55  70.35  16.32  1.24  3.44  0.38  21.13  1.5500  20.4000  70.916667   \n",
       "\n",
       "      PM10i  Ozonei    NH3i   COi       AQI            AQI_Range  \n",
       "0   97.9875   39.34  1.0375  13.5   97.9875         Satisfactory  \n",
       "1   92.5500   35.31  1.1325  19.0   92.5500         Satisfactory  \n",
       "2  100.0750   25.21  0.9250  26.0  100.0750  Moderately Polluted  \n",
       "3  107.8250   26.29  0.9375  41.5  107.8250  Moderately Polluted  \n",
       "4   87.9375   21.13  0.8600  19.0   87.9375         Satisfactory  "
      ]
     },
     "execution_count": 48,
     "metadata": {},
     "output_type": "execute_result"
    }
   ],
   "source": [
    "def AQI_Range(x):\n",
    "    if x<=50:\n",
    "        return \"Good\"\n",
    "    elif x>50 and x<=100:\n",
    "        return \"Satisfactory\"\n",
    "    elif x>100 and x<=200:\n",
    "        return \"Moderately Polluted\"\n",
    "    elif x>200 and x<=300:\n",
    "        return \"Poor\"\n",
    "    elif x>300 and x<=400:\n",
    "        return \"Very poor\"\n",
    "    elif x>400:\n",
    "        return \"Severe\"\n",
    "\n",
    "data['AQI_Range'] = data['AQI'] .apply(AQI_Range)\n",
    "data.head()\n"
   ]
  },
  {
   "cell_type": "markdown",
   "metadata": {},
   "source": []
  },
  {
   "cell_type": "code",
   "execution_count": 49,
   "metadata": {},
   "outputs": [
    {
     "data": {
      "text/html": [
       "<div>\n",
       "<style scoped>\n",
       "    .dataframe tbody tr th:only-of-type {\n",
       "        vertical-align: middle;\n",
       "    }\n",
       "\n",
       "    .dataframe tbody tr th {\n",
       "        vertical-align: top;\n",
       "    }\n",
       "\n",
       "    .dataframe thead th {\n",
       "        text-align: right;\n",
       "    }\n",
       "</style>\n",
       "<table border=\"1\" class=\"dataframe\">\n",
       "  <thead>\n",
       "    <tr style=\"text-align: right;\">\n",
       "      <th></th>\n",
       "      <th>PM2.5</th>\n",
       "      <th>PM10</th>\n",
       "      <th>NO2</th>\n",
       "      <th>SO2</th>\n",
       "      <th>NH3</th>\n",
       "      <th>CO</th>\n",
       "      <th>Ozone</th>\n",
       "      <th>SO2i</th>\n",
       "      <th>NOi</th>\n",
       "      <th>PM25i</th>\n",
       "      <th>PM10i</th>\n",
       "      <th>Ozonei</th>\n",
       "      <th>NH3i</th>\n",
       "      <th>COi</th>\n",
       "      <th>AQI</th>\n",
       "      <th>AQI_Range</th>\n",
       "    </tr>\n",
       "  </thead>\n",
       "  <tbody>\n",
       "    <tr>\n",
       "      <th>0</th>\n",
       "      <td>50.08</td>\n",
       "      <td>78.39</td>\n",
       "      <td>12.82</td>\n",
       "      <td>5.16</td>\n",
       "      <td>4.15</td>\n",
       "      <td>0.27</td>\n",
       "      <td>39.34</td>\n",
       "      <td>6.4500</td>\n",
       "      <td>16.0250</td>\n",
       "      <td>83.466667</td>\n",
       "      <td>97.9875</td>\n",
       "      <td>39.34</td>\n",
       "      <td>1.0375</td>\n",
       "      <td>13.5</td>\n",
       "      <td>97.9875</td>\n",
       "      <td>Satisfactory</td>\n",
       "    </tr>\n",
       "    <tr>\n",
       "      <th>1</th>\n",
       "      <td>41.34</td>\n",
       "      <td>74.04</td>\n",
       "      <td>15.25</td>\n",
       "      <td>2.91</td>\n",
       "      <td>4.53</td>\n",
       "      <td>0.38</td>\n",
       "      <td>35.31</td>\n",
       "      <td>3.6375</td>\n",
       "      <td>19.0625</td>\n",
       "      <td>68.900000</td>\n",
       "      <td>92.5500</td>\n",
       "      <td>35.31</td>\n",
       "      <td>1.1325</td>\n",
       "      <td>19.0</td>\n",
       "      <td>92.5500</td>\n",
       "      <td>Satisfactory</td>\n",
       "    </tr>\n",
       "    <tr>\n",
       "      <th>2</th>\n",
       "      <td>40.38</td>\n",
       "      <td>80.06</td>\n",
       "      <td>19.42</td>\n",
       "      <td>4.77</td>\n",
       "      <td>3.70</td>\n",
       "      <td>0.52</td>\n",
       "      <td>25.21</td>\n",
       "      <td>5.9625</td>\n",
       "      <td>24.2750</td>\n",
       "      <td>67.300000</td>\n",
       "      <td>100.0750</td>\n",
       "      <td>25.21</td>\n",
       "      <td>0.9250</td>\n",
       "      <td>26.0</td>\n",
       "      <td>100.0750</td>\n",
       "      <td>Moderately Polluted</td>\n",
       "    </tr>\n",
       "    <tr>\n",
       "      <th>3</th>\n",
       "      <td>40.80</td>\n",
       "      <td>86.26</td>\n",
       "      <td>17.77</td>\n",
       "      <td>5.52</td>\n",
       "      <td>3.75</td>\n",
       "      <td>0.83</td>\n",
       "      <td>26.29</td>\n",
       "      <td>6.9000</td>\n",
       "      <td>22.2125</td>\n",
       "      <td>68.000000</td>\n",
       "      <td>107.8250</td>\n",
       "      <td>26.29</td>\n",
       "      <td>0.9375</td>\n",
       "      <td>41.5</td>\n",
       "      <td>107.8250</td>\n",
       "      <td>Moderately Polluted</td>\n",
       "    </tr>\n",
       "    <tr>\n",
       "      <th>4</th>\n",
       "      <td>42.55</td>\n",
       "      <td>70.35</td>\n",
       "      <td>16.32</td>\n",
       "      <td>1.24</td>\n",
       "      <td>3.44</td>\n",
       "      <td>0.38</td>\n",
       "      <td>21.13</td>\n",
       "      <td>1.5500</td>\n",
       "      <td>20.4000</td>\n",
       "      <td>70.916667</td>\n",
       "      <td>87.9375</td>\n",
       "      <td>21.13</td>\n",
       "      <td>0.8600</td>\n",
       "      <td>19.0</td>\n",
       "      <td>87.9375</td>\n",
       "      <td>Satisfactory</td>\n",
       "    </tr>\n",
       "  </tbody>\n",
       "</table>\n",
       "</div>"
      ],
      "text/plain": [
       "   PM2.5   PM10    NO2   SO2   NH3    CO  Ozone    SO2i      NOi      PM25i  \\\n",
       "0  50.08  78.39  12.82  5.16  4.15  0.27  39.34  6.4500  16.0250  83.466667   \n",
       "1  41.34  74.04  15.25  2.91  4.53  0.38  35.31  3.6375  19.0625  68.900000   \n",
       "2  40.38  80.06  19.42  4.77  3.70  0.52  25.21  5.9625  24.2750  67.300000   \n",
       "3  40.80  86.26  17.77  5.52  3.75  0.83  26.29  6.9000  22.2125  68.000000   \n",
       "4  42.55  70.35  16.32  1.24  3.44  0.38  21.13  1.5500  20.4000  70.916667   \n",
       "\n",
       "      PM10i  Ozonei    NH3i   COi       AQI            AQI_Range  \n",
       "0   97.9875   39.34  1.0375  13.5   97.9875         Satisfactory  \n",
       "1   92.5500   35.31  1.1325  19.0   92.5500         Satisfactory  \n",
       "2  100.0750   25.21  0.9250  26.0  100.0750  Moderately Polluted  \n",
       "3  107.8250   26.29  0.9375  41.5  107.8250  Moderately Polluted  \n",
       "4   87.9375   21.13  0.8600  19.0   87.9375         Satisfactory  "
      ]
     },
     "execution_count": 49,
     "metadata": {},
     "output_type": "execute_result"
    }
   ],
   "source": [
    "d=data #saving data in new value\n",
    "d.head()"
   ]
  },
  {
   "cell_type": "markdown",
   "metadata": {},
   "source": [
    "Remove the rows with null values"
   ]
  },
  {
   "cell_type": "code",
   "execution_count": 50,
   "metadata": {},
   "outputs": [],
   "source": [
    "# data=data.dropna(subset=['spm']) #spm"
   ]
  },
  {
   "cell_type": "code",
   "execution_count": 51,
   "metadata": {},
   "outputs": [],
   "source": [
    "# data=data.dropna(subset=['pm2_5']) #spm"
   ]
  },
  {
   "cell_type": "code",
   "execution_count": 52,
   "metadata": {},
   "outputs": [
    {
     "data": {
      "text/plain": [
       "PM2.5        0\n",
       "PM10         0\n",
       "NO2          0\n",
       "SO2          0\n",
       "NH3          0\n",
       "CO           0\n",
       "Ozone        0\n",
       "SO2i         0\n",
       "NOi          0\n",
       "PM25i        0\n",
       "PM10i        0\n",
       "Ozonei       0\n",
       "NH3i         0\n",
       "COi          0\n",
       "AQI          0\n",
       "AQI_Range    0\n",
       "dtype: int64"
      ]
     },
     "execution_count": 52,
     "metadata": {},
     "output_type": "execute_result"
    }
   ],
   "source": [
    "data.isna().sum() #all null values removed "
   ]
  },
  {
   "cell_type": "markdown",
   "metadata": {},
   "source": [
    "# Linear Regression prediction"
   ]
  },
  {
   "cell_type": "markdown",
   "metadata": {},
   "source": [
    "1. Using SOi, NOi, RSPMi, SPMi TO PREDICT AQI"
   ]
  },
  {
   "cell_type": "code",
   "execution_count": 53,
   "metadata": {},
   "outputs": [],
   "source": [
    "from sklearn.model_selection import train_test_split\n",
    "from sklearn.linear_model import LinearRegression\n",
    "from sklearn.metrics import mean_squared_log_error\n",
    "from sklearn.metrics import mean_squared_error\n",
    "from sklearn.metrics import r2_score, mean_squared_error\n",
    "from sklearn.model_selection import KFold\n",
    "from sklearn.model_selection import cross_val_score"
   ]
  },
  {
   "cell_type": "code",
   "execution_count": 54,
   "metadata": {},
   "outputs": [
    {
     "data": {
      "text/plain": [
       "0     97.9875\n",
       "1     92.5500\n",
       "2    100.0750\n",
       "3    107.8250\n",
       "4     87.9375\n",
       "Name: AQI, dtype: float64"
      ]
     },
     "execution_count": 54,
     "metadata": {},
     "output_type": "execute_result"
    }
   ],
   "source": [
    "X = data[['PM2.5','PM10','NO2','SO2','NH3','CO','Ozone']]\n",
    "y = data['AQI']\n",
    "y.head()"
   ]
  },
  {
   "cell_type": "code",
   "execution_count": 55,
   "metadata": {},
   "outputs": [],
   "source": [
    "X_train, X_test, y_train, y_test = train_test_split(X,y, test_size=0.2,random_state=101)"
   ]
  },
  {
   "cell_type": "code",
   "execution_count": 56,
   "metadata": {},
   "outputs": [
    {
     "data": {
      "text/html": [
       "<div>\n",
       "<style scoped>\n",
       "    .dataframe tbody tr th:only-of-type {\n",
       "        vertical-align: middle;\n",
       "    }\n",
       "\n",
       "    .dataframe tbody tr th {\n",
       "        vertical-align: top;\n",
       "    }\n",
       "\n",
       "    .dataframe thead th {\n",
       "        text-align: right;\n",
       "    }\n",
       "</style>\n",
       "<table border=\"1\" class=\"dataframe\">\n",
       "  <thead>\n",
       "    <tr style=\"text-align: right;\">\n",
       "      <th></th>\n",
       "      <th>PM2.5</th>\n",
       "      <th>PM10</th>\n",
       "      <th>NO2</th>\n",
       "      <th>SO2</th>\n",
       "      <th>NH3</th>\n",
       "      <th>CO</th>\n",
       "      <th>Ozone</th>\n",
       "    </tr>\n",
       "  </thead>\n",
       "  <tbody>\n",
       "    <tr>\n",
       "      <th>5014</th>\n",
       "      <td>43.33</td>\n",
       "      <td>75.14</td>\n",
       "      <td>10.90</td>\n",
       "      <td>10.63</td>\n",
       "      <td>12.79</td>\n",
       "      <td>0.46</td>\n",
       "      <td>50.25</td>\n",
       "    </tr>\n",
       "    <tr>\n",
       "      <th>3724</th>\n",
       "      <td>166.17</td>\n",
       "      <td>226.59</td>\n",
       "      <td>21.95</td>\n",
       "      <td>7.44</td>\n",
       "      <td>35.26</td>\n",
       "      <td>0.98</td>\n",
       "      <td>39.24</td>\n",
       "    </tr>\n",
       "    <tr>\n",
       "      <th>12303</th>\n",
       "      <td>22.84</td>\n",
       "      <td>45.96</td>\n",
       "      <td>14.17</td>\n",
       "      <td>4.97</td>\n",
       "      <td>4.33</td>\n",
       "      <td>0.56</td>\n",
       "      <td>22.17</td>\n",
       "    </tr>\n",
       "    <tr>\n",
       "      <th>11642</th>\n",
       "      <td>21.14</td>\n",
       "      <td>59.93</td>\n",
       "      <td>12.93</td>\n",
       "      <td>8.10</td>\n",
       "      <td>8.26</td>\n",
       "      <td>0.97</td>\n",
       "      <td>30.23</td>\n",
       "    </tr>\n",
       "    <tr>\n",
       "      <th>10581</th>\n",
       "      <td>47.56</td>\n",
       "      <td>80.05</td>\n",
       "      <td>15.32</td>\n",
       "      <td>1.47</td>\n",
       "      <td>8.37</td>\n",
       "      <td>0.57</td>\n",
       "      <td>17.59</td>\n",
       "    </tr>\n",
       "  </tbody>\n",
       "</table>\n",
       "</div>"
      ],
      "text/plain": [
       "        PM2.5    PM10    NO2    SO2    NH3    CO  Ozone\n",
       "5014    43.33   75.14  10.90  10.63  12.79  0.46  50.25\n",
       "3724   166.17  226.59  21.95   7.44  35.26  0.98  39.24\n",
       "12303   22.84   45.96  14.17   4.97   4.33  0.56  22.17\n",
       "11642   21.14   59.93  12.93   8.10   8.26  0.97  30.23\n",
       "10581   47.56   80.05  15.32   1.47   8.37  0.57  17.59"
      ]
     },
     "execution_count": 56,
     "metadata": {},
     "output_type": "execute_result"
    }
   ],
   "source": [
    "X_train.head()"
   ]
  },
  {
   "cell_type": "code",
   "execution_count": 57,
   "metadata": {},
   "outputs": [
    {
     "data": {
      "text/plain": [
       "LinearRegression(copy_X=True, fit_intercept=True, n_jobs=None, normalize=False)"
      ]
     },
     "execution_count": 57,
     "metadata": {},
     "output_type": "execute_result"
    }
   ],
   "source": [
    "LR = LinearRegression() \n",
    "LR.fit(X_train, y_train)"
   ]
  },
  {
   "cell_type": "code",
   "execution_count": 58,
   "metadata": {},
   "outputs": [
    {
     "name": "stdout",
     "output_type": "stream",
     "text": [
      "Intercept 17.657825749725305\n"
     ]
    }
   ],
   "source": [
    "print('Intercept',LR.intercept_)"
   ]
  },
  {
   "cell_type": "code",
   "execution_count": 59,
   "metadata": {},
   "outputs": [
    {
     "name": "stdout",
     "output_type": "stream",
     "text": [
      "Coefficients [ 0.7654494   0.51499916  0.06049352  0.49049968 -0.03963406  7.04188441\n",
      "  0.22226354]\n"
     ]
    }
   ],
   "source": [
    "print('Coefficients',LR.coef_)"
   ]
  },
  {
   "cell_type": "code",
   "execution_count": 60,
   "metadata": {},
   "outputs": [],
   "source": [
    "predictions = LR.predict(X_test)"
   ]
  },
  {
   "cell_type": "code",
   "execution_count": 61,
   "metadata": {},
   "outputs": [
    {
     "data": {
      "text/plain": [
       "Text(0, 0.5, 'Predicted Y')"
      ]
     },
     "execution_count": 61,
     "metadata": {},
     "output_type": "execute_result"
    },
    {
     "data": {
      "image/png": "[encoded data removed]",
      "text/plain": [
       "<Figure size 432x288 with 1 Axes>"
      ]
     },
     "metadata": {
      "needs_background": "light"
     },
     "output_type": "display_data"
    }
   ],
   "source": [
    "plt.scatter(y_test,predictions)\n",
    "plt.xlabel('Y Test')\n",
    "plt.ylabel('Predicted Y')"
   ]
  },
  {
   "cell_type": "code",
   "execution_count": 62,
   "metadata": {},
   "outputs": [
    {
     "data": {
      "text/plain": [
       "0.9379960499162233"
      ]
     },
     "execution_count": 62,
     "metadata": {},
     "output_type": "execute_result"
    }
   ],
   "source": [
    "LR.score(X_test,y_test) "
   ]
  },
  {
   "cell_type": "code",
   "execution_count": 63,
   "metadata": {},
   "outputs": [
    {
     "data": {
      "text/plain": [
       "array([110.14949623])"
      ]
     },
     "execution_count": 63,
     "metadata": {},
     "output_type": "execute_result"
    }
   ],
   "source": [
    "LR.predict([[50.08,78.39,12.82,5.16,4.15,0.27,39.34]]) "
   ]
  },
  {
   "cell_type": "code",
   "execution_count": 64,
   "metadata": {},
   "outputs": [
    {
     "data": {
      "text/plain": [
       "array([108.63396167])"
      ]
     },
     "execution_count": 64,
     "metadata": {},
     "output_type": "execute_result"
    }
   ],
   "source": [
    "LR.predict([[40.80,86.26,17.77,5.52,3.75,0.83,26.29]])"
   ]
  },
  {
   "cell_type": "code",
   "execution_count": 65,
   "metadata": {},
   "outputs": [],
   "source": [
    "# sns.regplot(y_test,predictions)"
   ]
  },
  {
   "cell_type": "code",
   "execution_count": 66,
   "metadata": {},
   "outputs": [
    {
     "name": "stdout",
     "output_type": "stream",
     "text": [
      "R^2_Square:0.94 \n",
      "MSE:32.68 \n"
     ]
    }
   ],
   "source": [
    "print('R^2_Square:%.2f '% r2_score(y_test, predictions))\n",
    "print('MSE:%.2f '% np.sqrt(mean_squared_error(y_test, predictions)))"
   ]
  },
  {
   "cell_type": "markdown",
   "metadata": {},
   "source": [
    "# Classification of AQI"
   ]
  },
  {
   "cell_type": "markdown",
   "metadata": {},
   "source": [
    "## Logistic Regression"
   ]
  },
  {
   "cell_type": "markdown",
   "metadata": {},
   "source": [
    "1.Using SOi, Noi, RSPMi, SPMi\n",
    "    "
   ]
  },
  {
   "cell_type": "code",
   "execution_count": 67,
   "metadata": {},
   "outputs": [],
   "source": [
    "# from sklearn.linear_model import LogisticRegression"
   ]
  },
  {
   "cell_type": "code",
   "execution_count": 68,
   "metadata": {},
   "outputs": [],
   "source": [
    "# X2 = data[['PM2.5','PM10','NO2','SO2','NH3','CO','Ozone']]\n",
    "# y2 = data['AQI_Range']"
   ]
  },
  {
   "cell_type": "code",
   "execution_count": 69,
   "metadata": {},
   "outputs": [],
   "source": [
    "# X_train2, X_test2, y_train2, y_test2 = train_test_split(X2, y2, test_size=0.33, random_state=42)"
   ]
  },
  {
   "cell_type": "code",
   "execution_count": 70,
   "metadata": {},
   "outputs": [],
   "source": [
    "# logmodel = LogisticRegression()\n",
    "# logmodel.fit(X_train2,y_train2)"
   ]
  },
  {
   "cell_type": "code",
   "execution_count": 71,
   "metadata": {},
   "outputs": [],
   "source": [
    "# predictions = logmodel.predict(X_test)"
   ]
  },
  {
   "cell_type": "code",
   "execution_count": 72,
   "metadata": {},
   "outputs": [],
   "source": [
    "# logmodel.score(X_test2,y_test2) #accuracy score 89.25 %"
   ]
  },
  {
   "cell_type": "markdown",
   "metadata": {},
   "source": [
    "Creating new csv file to store AQI range values inorder to cross verify predicted value"
   ]
  },
  {
   "cell_type": "code",
   "execution_count": 73,
   "metadata": {},
   "outputs": [],
   "source": [
    "# new = pd.DataFrame(d)\n",
    "# file1 = 'Final-dataset1.csv'\n",
    "# new.to_csv(file1,index=True)"
   ]
  },
  {
   "cell_type": "code",
   "execution_count": 74,
   "metadata": {},
   "outputs": [],
   "source": [
    "# d.tail()"
   ]
  },
  {
   "cell_type": "code",
   "execution_count": 75,
   "metadata": {},
   "outputs": [],
   "source": [
    "# logmodel.predict([[77.4,147.7,78.182,100,52]]) #correct"
   ]
  },
  {
   "cell_type": "code",
   "execution_count": 76,
   "metadata": {},
   "outputs": [],
   "source": [
    "# logmodel.predict([[32.7,35,78.182,203,40]]) #correct"
   ]
  },
  {
   "cell_type": "markdown",
   "metadata": {},
   "source": [
    "# Logistic regression model 2"
   ]
  },
  {
   "cell_type": "markdown",
   "metadata": {},
   "source": [
    "2.Using so2,no2,rspm,spm"
   ]
  },
  {
   "cell_type": "code",
   "execution_count": 77,
   "metadata": {},
   "outputs": [],
   "source": [
    "# X3 = data[['PM2.5','PM10','NO2','SO2','NH3','CO','Ozone']]\n",
    "# y3 = data['AQI_Range']"
   ]
  },
  {
   "cell_type": "code",
   "execution_count": 78,
   "metadata": {},
   "outputs": [],
   "source": [
    "# X_train3, X_test3, y_train3, y_test3 = train_test_split(X3, y3, test_size=0.33, random_state=42)"
   ]
  },
  {
   "cell_type": "code",
   "execution_count": 79,
   "metadata": {},
   "outputs": [],
   "source": [
    "# logmodel2 = LogisticRegression()\n",
    "# logmodel2.fit(X_train3,y_train3)"
   ]
  },
  {
   "cell_type": "code",
   "execution_count": 80,
   "metadata": {},
   "outputs": [],
   "source": [
    "# logmodel2.score(X_test3,y_test3) #very low accuracy score"
   ]
  },
  {
   "cell_type": "code",
   "execution_count": 81,
   "metadata": {},
   "outputs": [],
   "source": [
    "# logmodel2.predict([[4.8,17.4,78.48,200,100]]) #correct"
   ]
  },
  {
   "cell_type": "code",
   "execution_count": 82,
   "metadata": {},
   "outputs": [],
   "source": [
    "# logmodel2.predict([[67.4,127.7,78.48,215,70]]) #correct"
   ]
  },
  {
   "cell_type": "code",
   "execution_count": 83,
   "metadata": {},
   "outputs": [],
   "source": [
    "# logmodel2.predict([[2.059,8.94,102,256,78]])  #wrong"
   ]
  },
  {
   "cell_type": "markdown",
   "metadata": {},
   "source": [
    "#  Using Random forest classifier"
   ]
  },
  {
   "cell_type": "code",
   "execution_count": 84,
   "metadata": {},
   "outputs": [],
   "source": [
    "from sklearn.ensemble import RandomForestClassifier\n",
    "X2 = data[['PM2.5','PM10','NO2','SO2','NH3','CO','Ozone']]\n",
    "y2 = data['AQI_Range']\n",
    "X_train2, X_test2, y_train2, y_test2 = train_test_split(X2, y2, test_size=0.33, random_state=42)"
   ]
  },
  {
   "cell_type": "code",
   "execution_count": 85,
   "metadata": {},
   "outputs": [
    {
     "data": {
      "text/plain": [
       "RandomForestClassifier(bootstrap=True, ccp_alpha=0.0, class_weight=None,\n",
       "                       criterion='gini', max_depth=None, max_features='auto',\n",
       "                       max_leaf_nodes=None, max_samples=None,\n",
       "                       min_impurity_decrease=0.0, min_impurity_split=None,\n",
       "                       min_samples_leaf=1, min_samples_split=2,\n",
       "                       min_weight_fraction_leaf=0.0, n_estimators=10,\n",
       "                       n_jobs=None, oob_score=False, random_state=None,\n",
       "                       verbose=0, warm_start=False)"
      ]
     },
     "execution_count": 85,
     "metadata": {},
     "output_type": "execute_result"
    }
   ],
   "source": [
    "model = RandomForestClassifier(n_estimators=10)\n",
    "model.fit(X_train2,y_train2)"
   ]
  },
  {
   "cell_type": "code",
   "execution_count": 86,
   "metadata": {},
   "outputs": [
    {
     "data": {
      "text/plain": [
       "0.9863473053892216"
      ]
     },
     "execution_count": 86,
     "metadata": {},
     "output_type": "execute_result"
    }
   ],
   "source": [
    "model.score(X_test2,y_test2) #high accuracy score of 99.97 %"
   ]
  },
  {
   "cell_type": "code",
   "execution_count": 87,
   "metadata": {},
   "outputs": [
    {
     "data": {
      "text/html": [
       "<div>\n",
       "<style scoped>\n",
       "    .dataframe tbody tr th:only-of-type {\n",
       "        vertical-align: middle;\n",
       "    }\n",
       "\n",
       "    .dataframe tbody tr th {\n",
       "        vertical-align: top;\n",
       "    }\n",
       "\n",
       "    .dataframe thead th {\n",
       "        text-align: right;\n",
       "    }\n",
       "</style>\n",
       "<table border=\"1\" class=\"dataframe\">\n",
       "  <thead>\n",
       "    <tr style=\"text-align: right;\">\n",
       "      <th></th>\n",
       "      <th>PM2.5</th>\n",
       "      <th>PM10</th>\n",
       "      <th>NO2</th>\n",
       "      <th>SO2</th>\n",
       "      <th>NH3</th>\n",
       "      <th>CO</th>\n",
       "      <th>Ozone</th>\n",
       "    </tr>\n",
       "  </thead>\n",
       "  <tbody>\n",
       "    <tr>\n",
       "      <th>9118</th>\n",
       "      <td>82.64</td>\n",
       "      <td>137.92</td>\n",
       "      <td>18.88</td>\n",
       "      <td>22.86</td>\n",
       "      <td>41.59</td>\n",
       "      <td>0.73</td>\n",
       "      <td>74.08</td>\n",
       "    </tr>\n",
       "    <tr>\n",
       "      <th>1222</th>\n",
       "      <td>288.16</td>\n",
       "      <td>426.42</td>\n",
       "      <td>68.00</td>\n",
       "      <td>20.50</td>\n",
       "      <td>44.60</td>\n",
       "      <td>2.19</td>\n",
       "      <td>21.85</td>\n",
       "    </tr>\n",
       "    <tr>\n",
       "      <th>8267</th>\n",
       "      <td>44.00</td>\n",
       "      <td>91.53</td>\n",
       "      <td>27.28</td>\n",
       "      <td>6.56</td>\n",
       "      <td>5.11</td>\n",
       "      <td>2.24</td>\n",
       "      <td>50.63</td>\n",
       "    </tr>\n",
       "    <tr>\n",
       "      <th>2134</th>\n",
       "      <td>63.67</td>\n",
       "      <td>139.46</td>\n",
       "      <td>70.56</td>\n",
       "      <td>48.63</td>\n",
       "      <td>101.90</td>\n",
       "      <td>1.31</td>\n",
       "      <td>128.26</td>\n",
       "    </tr>\n",
       "    <tr>\n",
       "      <th>10080</th>\n",
       "      <td>33.59</td>\n",
       "      <td>60.23</td>\n",
       "      <td>18.70</td>\n",
       "      <td>6.43</td>\n",
       "      <td>4.75</td>\n",
       "      <td>0.61</td>\n",
       "      <td>8.88</td>\n",
       "    </tr>\n",
       "  </tbody>\n",
       "</table>\n",
       "</div>"
      ],
      "text/plain": [
       "        PM2.5    PM10    NO2    SO2     NH3    CO   Ozone\n",
       "9118    82.64  137.92  18.88  22.86   41.59  0.73   74.08\n",
       "1222   288.16  426.42  68.00  20.50   44.60  2.19   21.85\n",
       "8267    44.00   91.53  27.28   6.56    5.11  2.24   50.63\n",
       "2134    63.67  139.46  70.56  48.63  101.90  1.31  128.26\n",
       "10080   33.59   60.23  18.70   6.43    4.75  0.61    8.88"
      ]
     },
     "execution_count": 87,
     "metadata": {},
     "output_type": "execute_result"
    }
   ],
   "source": [
    "X_train2.head()"
   ]
  },
  {
   "cell_type": "code",
   "execution_count": 88,
   "metadata": {},
   "outputs": [],
   "source": [
    "# model.predict([[2.059,8.94,102,256,78]]) #correct"
   ]
  },
  {
   "cell_type": "markdown",
   "metadata": {},
   "source": [
    "# Using Decision Tree Classifier"
   ]
  },
  {
   "cell_type": "code",
   "execution_count": 89,
   "metadata": {},
   "outputs": [],
   "source": [
    "from sklearn import tree"
   ]
  },
  {
   "cell_type": "code",
   "execution_count": 90,
   "metadata": {},
   "outputs": [],
   "source": [
    "model2 = tree.DecisionTreeClassifier()"
   ]
  },
  {
   "cell_type": "code",
   "execution_count": 91,
   "metadata": {},
   "outputs": [
    {
     "data": {
      "text/plain": [
       "DecisionTreeClassifier(ccp_alpha=0.0, class_weight=None, criterion='gini',\n",
       "                       max_depth=None, max_features=None, max_leaf_nodes=None,\n",
       "                       min_impurity_decrease=0.0, min_impurity_split=None,\n",
       "                       min_samples_leaf=1, min_samples_split=2,\n",
       "                       min_weight_fraction_leaf=0.0, presort='deprecated',\n",
       "                       random_state=None, splitter='best')"
      ]
     },
     "execution_count": 91,
     "metadata": {},
     "output_type": "execute_result"
    }
   ],
   "source": [
    "model2.fit(X_train2,y_train2)"
   ]
  },
  {
   "cell_type": "code",
   "execution_count": 92,
   "metadata": {},
   "outputs": [
    {
     "data": {
      "text/plain": [
       "0.9959281437125749"
      ]
     },
     "execution_count": 92,
     "metadata": {},
     "output_type": "execute_result"
    }
   ],
   "source": [
    "model2.score(X_test2,y_test2) #high accuracy score of 99.98%"
   ]
  },
  {
   "cell_type": "markdown",
   "metadata": {},
   "source": [
    "Some predictions"
   ]
  },
  {
   "cell_type": "code",
   "execution_count": 93,
   "metadata": {},
   "outputs": [
    {
     "data": {
      "text/plain": [
       "array(['Satisfactory'], dtype=object)"
      ]
     },
     "execution_count": 93,
     "metadata": {},
     "output_type": "execute_result"
    }
   ],
   "source": [
    "model2.predict([[50.08,78.39,12.82,5.16,4.15,0.27,39.34]]) # correct"
   ]
  },
  {
   "cell_type": "code",
   "execution_count": 94,
   "metadata": {},
   "outputs": [],
   "source": [
    "# model2.predict([[2,5.8,17,36,50]]) # correct"
   ]
  },
  {
   "cell_type": "code",
   "execution_count": 95,
   "metadata": {},
   "outputs": [],
   "source": [
    "# model2.predict([[18.6,48.3,142,285,100]]) # correct"
   ]
  },
  {
   "cell_type": "code",
   "execution_count": 96,
   "metadata": {},
   "outputs": [],
   "source": [
    "# model2.predict([[6,11,109,84.41,50]]) # correct"
   ]
  },
  {
   "cell_type": "code",
   "execution_count": 97,
   "metadata": {},
   "outputs": [],
   "source": [
    "# model2.predict([[10,16,156,372.66,20]]) # correct"
   ]
  },
  {
   "cell_type": "markdown",
   "metadata": {},
   "source": [
    "<h1>Conclusion</h1>\n",
    "<p>\n",
    "<li>AQI is highly correlated with all the independent variables(so2, no2, rspm, spm)</li>\n",
    "<li>AQI has been increasing over the years.</li>\n",
    "<h4>Best models for AQI range classification :</h4>\n",
    "<ol>\n",
    "<li>Random Forest Classifier</li>\n",
    "<li>Decision Tree Classifier</li>\n",
    "</ol>\n",
    "</p>\n",
    "\n"
   ]
  },
  {
   "cell_type": "code",
   "execution_count": null,
   "metadata": {},
   "outputs": [],
   "source": []
  }
 ],
 "metadata": {
  "kernelspec": {
   "display_name": "Python 3",
   "language": "python",
   "name": "python3"
  },
  "language_info": {
   "codemirror_mode": {
    "name": "ipython",
    "version": 3
   },
   "file_extension": ".py",
   "mimetype": "text/x-python",
   "name": "python",
   "nbconvert_exporter": "python",
   "pygments_lexer": "ipython3",
   "version": "3.7.1"
  }
 },
 "nbformat": 4,
 "nbformat_minor": 1
}
