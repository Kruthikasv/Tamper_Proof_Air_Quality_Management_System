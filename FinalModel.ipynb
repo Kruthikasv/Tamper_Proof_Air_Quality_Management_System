{
 "cells": [
  {
   "cell_type": "code",
   "execution_count": 26,
   "metadata": {
    "_cell_guid": "b1076dfc-b9ad-4769-8c92-a6c4dae69d19",
    "_uuid": "8f2839f25d086af736a60e9eeb907d3b93b6e0e5"
   },
   "outputs": [],
   "source": [
    "import numpy as np \n",
    "import pandas as pd \n",
    "# import seaborn as sns\n",
    "import matplotlib.pyplot as plt\n",
    "%matplotlib inline\n",
    "data = pd.read_csv('Final-dataset.csv') #import data "
   ]
  },
  {
   "cell_type": "code",
   "execution_count": 27,
   "metadata": {},
   "outputs": [
    {
     "data": {
      "text/plain": [
       "(12651, 9)"
      ]
     },
     "execution_count": 27,
     "metadata": {},
     "output_type": "execute_result"
    }
   ],
   "source": [
    "data.shape #dimensions of the data"
   ]
  },
  {
   "cell_type": "code",
   "execution_count": 28,
   "metadata": {},
   "outputs": [
    {
     "data": {
      "text/plain": [
       "From Date      1\n",
       "To Date        1\n",
       "PM2.5        420\n",
       "PM10         766\n",
       "NO2          413\n",
       "SO2          339\n",
       "NH3          433\n",
       "CO             0\n",
       "Ozone          0\n",
       "dtype: int64"
      ]
     },
     "execution_count": 28,
     "metadata": {},
     "output_type": "execute_result"
    }
   ],
   "source": [
    "data.isna().sum() #print the sum of null values for each columns"
   ]
  },
  {
   "cell_type": "code",
   "execution_count": 29,
   "metadata": {
    "scrolled": true
   },
   "outputs": [],
   "source": [
    "data.drop(['From Date', 'To Date'],axis=1,inplace=True) "
   ]
  },
  {
   "cell_type": "code",
   "execution_count": 30,
   "metadata": {},
   "outputs": [],
   "source": [
    "data = data.replace(to_replace = np.NaN, value = 0)\n",
    "data = data.replace(to_replace = np.NaN, value = 0)\n",
    "data = data.replace(to_replace = np.NaN, value = 0)\n",
    "data = data.replace(to_replace = np.NaN, value = 0)\n",
    "data = data.replace(to_replace = np.NaN, value = 0)\n",
    "data = data.replace(to_replace = np.NaN, value = 0)\n",
    "data = data.replace(to_replace = np.NaN, value = 0)"
   ]
  },
  {
   "cell_type": "markdown",
   "metadata": {},
   "source": [
    "# CALCULATE AIR QUALITY INDEX FOR POLLUTANTS BASED ON FORMULA\n",
    "\n",
    "\n",
    "The air quality index is a piecewise linear function of the pollutant concentration. At the boundary between AQI categories, there is a discontinuous jump of one AQI unit. To convert from concentration to AQI this equation is used\n",
    "\\begin{equation*}\n",
    "I = I_{low} +  \\frac{I_{high}-I_{low}}{C_{high}-C_{low}}{(C-C_{low})}\n",
    "\\end{equation*}\n",
    "\n"
   ]
  },
  {
   "cell_type": "code",
   "execution_count": 31,
   "metadata": {},
   "outputs": [],
   "source": [
    "def cal_SOi(so2):\n",
    "    si=0\n",
    "    if (so2<=40):\n",
    "     si= so2*(50/40)\n",
    "    elif (so2>40 and so2<=80):\n",
    "     si= 50+(so2-40)*(50/40)\n",
    "    elif (so2>80 and so2<=380):\n",
    "     si= 100+(so2-80)*(100/300)\n",
    "    elif (so2>380 and so2<=800):\n",
    "     si= 200+(so2-380)*(100/420)\n",
    "    elif (so2>800 and so2<=1600):\n",
    "     si= 300+(so2-800)*(100/800)\n",
    "    elif (so2>1600):\n",
    "     si= 400+(so2-1600)*(100/800)\n",
    "    return si\n",
    "data['SO2']\n",
    "data['SO2i']=data['SO2'].apply(cal_SOi)\n",
    "df= data[['SO2','SO2i']]\n"
   ]
  },
  {
   "cell_type": "code",
   "execution_count": 32,
   "metadata": {},
   "outputs": [],
   "source": [
    "def cal_Noi(no2):\n",
    "    ni=0\n",
    "    if(no2<=40):\n",
    "     ni= no2*50/40\n",
    "    elif(no2>40 and no2<=80):\n",
    "     ni= 50+(no2-40)*(50/40)\n",
    "    elif(no2>80 and no2<=180):\n",
    "     ni= 100+(no2-80)*(100/100)\n",
    "    elif(no2>180 and no2<=280):\n",
    "     ni= 200+(no2-180)*(100/100)\n",
    "    elif(no2>280 and no2<=400):\n",
    "     ni= 300+(no2-280)*(100/120)\n",
    "    else:\n",
    "     ni= 400+(no2-400)*(100/120)\n",
    "    return ni\n",
    "data['NOi']=data['NO2'].apply(cal_Noi)\n",
    "df= data[['NO2','NOi']]\n"
   ]
  },
  {
   "cell_type": "code",
   "execution_count": 33,
   "metadata": {},
   "outputs": [],
   "source": [
    "def cal_pmi(pm2_5):\n",
    "    pmi=0\n",
    "    if(pm2_5<=30):\n",
    "     pmi=pm2_5*(50/30)\n",
    "    elif(pm2_5>30 and pm2_5<=60):\n",
    "     pmi=50+(pm2_5-30)*(50/30)\n",
    "    elif(pm2_5>60 and pm2_5<=90):\n",
    "     pmi= 100+(pm2_5-60)*(100/30)\n",
    "    elif(pm2_5>90 and pm2_5<=120):\n",
    "     pmi=200+(pm2_5-90)*(100/30)\n",
    "    elif(pm2_5>120 and pm2_5<=250):\n",
    "     pmi=300+(pm2_5-120)*(100/130)\n",
    "    else:\n",
    "     pmi=400+(pm2_5-250)*(100/130)\n",
    "    return pmi\n",
    "data['PM25i']=data['PM2.5'].apply(cal_pmi)\n",
    "\n"
   ]
  },
  {
   "cell_type": "code",
   "execution_count": 34,
   "metadata": {},
   "outputs": [],
   "source": [
    "def cal_pm10(pm10):\n",
    "    pm10i = 0\n",
    "    if(pm10<=50):\n",
    "     pm10i= pm10*50/40\n",
    "    elif(pm10>50 and pm10<=100):\n",
    "     pm10i= 50+(pm10-40)*(50/40)\n",
    "    elif(pm10>100 and pm10<=250):\n",
    "     pm10i= 100+(pm10-80)*(100/100)\n",
    "    elif(pm10>250 and pm10<=350):\n",
    "     pm10i= 200+(pm10-180)*(100/100)\n",
    "    elif(pm10>350 and pm10<=430):\n",
    "     pm10i= 300+(pm10-280)*(100/120)\n",
    "    else:\n",
    "     pm10i= 400+(pm10-400)*(100/120)\n",
    "    return pm10i\n",
    "data['PM10i']=data['PM10'].apply(cal_pm10)\n",
    "df= data[['PM10','PM10i']]\n",
    " "
   ]
  },
  {
   "cell_type": "code",
   "execution_count": 35,
   "metadata": {},
   "outputs": [],
   "source": [
    "def cal_Ozone(oz):\n",
    "    ozi = 0\n",
    "    if(oz<=50):\n",
    "     ozi= oz*50/50\n",
    "    elif(oz>50 and oz<=100):\n",
    "     ozi= 50+(oz-50)*(50/50)\n",
    "    elif(oz>100 and oz<=168):\n",
    "     ozi= 100+(oz-100)*(100/68)\n",
    "    elif(oz>168 and oz<=208):\n",
    "     ozi= 200+(oz-168)*(100/40)\n",
    "    elif(oz>208 and oz<=748):\n",
    "     ozi= 300+(oz-208)*(100/540)\n",
    "    else:\n",
    "     ozi= 400+(oz-748)*(100/540)\n",
    "    return ozi\n",
    "data['Ozonei']=data['Ozone'].apply(cal_Ozone)\n",
    "df = data[['Ozone', 'Ozonei']]\n"
   ]
  },
  {
   "cell_type": "code",
   "execution_count": 36,
   "metadata": {},
   "outputs": [],
   "source": [
    "def cal_NH3(nh):\n",
    "    nhi = 0\n",
    "    if(nh<=200):\n",
    "     nhi= nh*50/200\n",
    "    elif(nh>200 and nh<=400):\n",
    "     nhi= 50+(nh-200)*(50/200)\n",
    "    elif(nh>400 and nh<=800):\n",
    "     nhi= 100+(nh-400)*(100/400)\n",
    "    elif(nh>800 and nh<=1200):\n",
    "     nhi= 200+(nh-800)*(100/400)\n",
    "    elif(nh>1200 and nh<=1800):\n",
    "     nhi= 300+(nh-1200)*(100/600)\n",
    "    else:\n",
    "     nhi= 400+(nh-1800)*(100/600)\n",
    "    return nhi\n",
    "data['NH3i']=data['NH3'].apply(cal_NH3)\n",
    "df = data[['NH3', 'NH3i']]\n"
   ]
  },
  {
   "cell_type": "code",
   "execution_count": 37,
   "metadata": {},
   "outputs": [],
   "source": [
    "def cal_CO(co):\n",
    "    coi = 0\n",
    "    if(co<=1.0):\n",
    "     coi= co*50/1.0\n",
    "    elif(co>1.0 and co<=2.0):\n",
    "     coi= 50+(co-1.0)*(50/1.0)\n",
    "    elif(co>2.0 and co<=10):\n",
    "     coi= 100+(co-2)*(100/8)\n",
    "    elif(co>10 and co<=17):\n",
    "     coi= 200+(co-10)*(100/7)\n",
    "    elif(co>17 and co<=34):\n",
    "     coi= 300+(co-17)*(100/17)\n",
    "    else:\n",
    "     coi= 400+(co-34)*(100/17)\n",
    "    return coi\n",
    "data['COi']=data['CO'].apply(cal_CO)\n",
    "df = data[['CO', 'COi']]"
   ]
  },
  {
   "cell_type": "code",
   "execution_count": 38,
   "metadata": {},
   "outputs": [],
   "source": [
    "def cal_aqi(si,ni,pm25i,pm10i,ozi,nhi,coi):\n",
    "    aqi=0\n",
    "    if(si>ni and si>pm25i and si>pm10i and si>ozi and si>nhi and si>coi):\n",
    "     aqi=si\n",
    "    if(ni>si and ni>pm25i and ni>pm10i and ni>ozi and ni>nhi and ni>coi):\n",
    "     aqi=ni\n",
    "    if(pm25i>si and pm25i>ni and pm25i>pm10i and pm25i>ozi and pm25i>nhi and pm25i>coi):\n",
    "     aqi=pm25i\n",
    "    if(pm10i>si and pm10i>ni and pm10i>pm25i and pm10i>ozi and pm10i>nhi and pm10i>coi):\n",
    "     aqi=pm10i\n",
    "    if(ozi>si and ozi>ni and ozi>pm25i and ozi>pm10i and ozi>nhi and ozi>coi):\n",
    "     aqi=ozi\n",
    "    if(nhi>si and nhi>ni and nhi>pm25i and nhi>pm10i and nhi>ozi and nhi>coi):\n",
    "     aqi=nhi\n",
    "    if(coi>si and coi>ni and coi>pm25i and coi>pm10i and coi>nhi and coi>ozi):\n",
    "     aqi=coi\n",
    "    return aqi\n",
    "\n",
    "data['AQI']=data.apply(lambda x:cal_aqi(x['SO2i'],x['NOi'],x['PM25i'],x['PM10i'],x['Ozonei'],x['NH3i'],x['COi']),axis=1)\n",
    "df= data[['SO2i','NOi','PM25i','PM10i','Ozonei','NH3i','COi','AQI']]"
   ]
  },
  {
   "cell_type": "markdown",
   "metadata": {},
   "source": [
    "# AQI RANGE for corresponding AQI value "
   ]
  },
  {
   "cell_type": "code",
   "execution_count": 39,
   "metadata": {},
   "outputs": [],
   "source": [
    "def AQI_Range(x):\n",
    "    if x<=50:\n",
    "        return \"Good\"\n",
    "    elif x>50 and x<=100:\n",
    "        return \"Satisfactory\"\n",
    "    elif x>100 and x<=200:\n",
    "        return \"Moderately Polluted\"\n",
    "    elif x>200 and x<=300:\n",
    "        return \"Poor\"\n",
    "    elif x>300 and x<=400:\n",
    "        return \"Very poor\"\n",
    "    elif x>400:\n",
    "        return \"Severe\"\n",
    "\n",
    "data['AQI_Range'] = data['AQI'] .apply(AQI_Range)\n"
   ]
  },
  {
   "cell_type": "markdown",
   "metadata": {},
   "source": [
    "# Linear Regression prediction"
   ]
  },
  {
   "cell_type": "code",
   "execution_count": 40,
   "metadata": {},
   "outputs": [],
   "source": [
    "from sklearn.model_selection import train_test_split\n",
    "from sklearn.linear_model import LinearRegression\n",
    "from sklearn.metrics import mean_squared_log_error\n",
    "from sklearn.metrics import mean_squared_error\n",
    "from sklearn.metrics import r2_score, mean_squared_error\n",
    "from sklearn.model_selection import KFold\n",
    "from sklearn.model_selection import cross_val_score"
   ]
  },
  {
   "cell_type": "code",
   "execution_count": 41,
   "metadata": {},
   "outputs": [],
   "source": [
    "X = data[['PM2.5','PM10','NO2','SO2','NH3','CO','Ozone']]\n",
    "y = data['AQI']"
   ]
  },
  {
   "cell_type": "code",
   "execution_count": 42,
   "metadata": {},
   "outputs": [
    {
     "data": {
      "text/plain": [
       "LinearRegression()"
      ]
     },
     "execution_count": 42,
     "metadata": {},
     "output_type": "execute_result"
    }
   ],
   "source": [
    "X_train, X_test, y_train, y_test = train_test_split(X,y, test_size=0.2,random_state=101)\n",
    "linearRegression = LinearRegression() \n",
    "linearRegression.fit(X_train, y_train)"
   ]
  },
  {
   "cell_type": "code",
   "execution_count": 45,
   "metadata": {},
   "outputs": [],
   "source": [
    "predictions = linearRegression.predict(X_test)\n"
   ]
  },
  {
   "cell_type": "code",
   "execution_count": 46,
   "metadata": {},
   "outputs": [
    {
     "data": {
      "text/plain": [
       "0.9179963449761936"
      ]
     },
     "execution_count": 46,
     "metadata": {},
     "output_type": "execute_result"
    }
   ],
   "source": [
    "linearRegression.score(X_test,y_test) "
   ]
  },
  {
   "cell_type": "code",
   "execution_count": 47,
   "metadata": {},
   "outputs": [
    {
     "name": "stderr",
     "output_type": "stream",
     "text": [
      "/opt/homebrew/lib/python3.9/site-packages/sklearn/base.py:450: UserWarning: X does not have valid feature names, but LinearRegression was fitted with feature names\n",
      "  warnings.warn(\n"
     ]
    },
    {
     "data": {
      "text/plain": [
       "array([108.97672376])"
      ]
     },
     "execution_count": 47,
     "metadata": {},
     "output_type": "execute_result"
    }
   ],
   "source": [
    "linearRegression.predict([[40.80,86.26,17.77,5.52,3.75,0.83,26.29]])"
   ]
  },
  {
   "cell_type": "code",
   "execution_count": 48,
   "metadata": {},
   "outputs": [
    {
     "name": "stdout",
     "output_type": "stream",
     "text": [
      "R^2_Square:0.92 \n",
      "MSE:32.80 \n"
     ]
    }
   ],
   "source": [
    "print('R^2_Square:%.2f '% r2_score(y_test, predictions))\n",
    "print('MSE:%.2f '% np.sqrt(mean_squared_error(y_test, predictions)))"
   ]
  },
  {
   "cell_type": "markdown",
   "metadata": {},
   "source": [
    "## Logistic Regression"
   ]
  },
  {
   "cell_type": "code",
   "execution_count": 49,
   "metadata": {},
   "outputs": [],
   "source": [
    "from sklearn.linear_model import LogisticRegression"
   ]
  },
  {
   "cell_type": "code",
   "execution_count": 50,
   "metadata": {},
   "outputs": [],
   "source": [
    "X2 = data[['PM2.5','PM10','NO2','SO2','NH3','CO','Ozone']]\n",
    "y2 = data['AQI_Range']"
   ]
  },
  {
   "cell_type": "code",
   "execution_count": 51,
   "metadata": {},
   "outputs": [],
   "source": [
    "X_train2, X_test2, y_train2, y_test2 = train_test_split(X2, y2, test_size=0.33, random_state=42)"
   ]
  },
  {
   "cell_type": "code",
   "execution_count": 52,
   "metadata": {},
   "outputs": [],
   "source": [
    "logisticRegression = LogisticRegression()\n"
   ]
  },
  {
   "cell_type": "code",
   "execution_count": 53,
   "metadata": {},
   "outputs": [
    {
     "name": "stderr",
     "output_type": "stream",
     "text": [
      "/opt/homebrew/lib/python3.9/site-packages/sklearn/linear_model/_logistic.py:814: ConvergenceWarning: lbfgs failed to converge (status=1):\n",
      "STOP: TOTAL NO. of ITERATIONS REACHED LIMIT.\n",
      "\n",
      "Increase the number of iterations (max_iter) or scale the data as shown in:\n",
      "    https://scikit-learn.org/stable/modules/preprocessing.html\n",
      "Please also refer to the documentation for alternative solver options:\n",
      "    https://scikit-learn.org/stable/modules/linear_model.html#logistic-regression\n",
      "  n_iter_i = _check_optimize_result(\n"
     ]
    },
    {
     "data": {
      "text/plain": [
       "LogisticRegression()"
      ]
     },
     "execution_count": 53,
     "metadata": {},
     "output_type": "execute_result"
    }
   ],
   "source": [
    "logisticRegression.fit(X_train2,y_train2)"
   ]
  },
  {
   "cell_type": "code",
   "execution_count": 54,
   "metadata": {},
   "outputs": [],
   "source": [
    "predictions = logisticRegression.predict(X_test)"
   ]
  },
  {
   "cell_type": "code",
   "execution_count": 55,
   "metadata": {},
   "outputs": [
    {
     "data": {
      "text/plain": [
       "0.551377245508982"
      ]
     },
     "execution_count": 55,
     "metadata": {},
     "output_type": "execute_result"
    }
   ],
   "source": [
    "logisticRegression.score(X_test2,y_test2) "
   ]
  },
  {
   "cell_type": "markdown",
   "metadata": {},
   "source": [
    "#  Using Random forest classifier"
   ]
  },
  {
   "cell_type": "code",
   "execution_count": 56,
   "metadata": {},
   "outputs": [],
   "source": [
    "from sklearn.ensemble import RandomForestClassifier\n",
    "X2 = data[['PM2.5','PM10','NO2','SO2','NH3','CO','Ozone']]\n",
    "y2 = data['AQI_Range']\n",
    "X_train2, X_test2, y_train2, y_test2 = train_test_split(X2, y2, test_size=0.33, random_state=42)"
   ]
  },
  {
   "cell_type": "code",
   "execution_count": 57,
   "metadata": {},
   "outputs": [
    {
     "data": {
      "text/plain": [
       "RandomForestClassifier(n_estimators=10)"
      ]
     },
     "execution_count": 57,
     "metadata": {},
     "output_type": "execute_result"
    }
   ],
   "source": [
    "randomForestClassifier = RandomForestClassifier(n_estimators=10)\n",
    "randomForestClassifier.fit(X_train2,y_train2)"
   ]
  },
  {
   "cell_type": "code",
   "execution_count": 60,
   "metadata": {},
   "outputs": [
    {
     "data": {
      "text/plain": [
       "0.9894610778443114"
      ]
     },
     "execution_count": 60,
     "metadata": {},
     "output_type": "execute_result"
    }
   ],
   "source": [
    "randomForestClassifier.score(X_test2,y_test2) "
   ]
  },
  {
   "cell_type": "code",
   "execution_count": 61,
   "metadata": {},
   "outputs": [
    {
     "data": {
      "text/html": [
       "<div>\n",
       "<style scoped>\n",
       "    .dataframe tbody tr th:only-of-type {\n",
       "        vertical-align: middle;\n",
       "    }\n",
       "\n",
       "    .dataframe tbody tr th {\n",
       "        vertical-align: top;\n",
       "    }\n",
       "\n",
       "    .dataframe thead th {\n",
       "        text-align: right;\n",
       "    }\n",
       "</style>\n",
       "<table border=\"1\" class=\"dataframe\">\n",
       "  <thead>\n",
       "    <tr style=\"text-align: right;\">\n",
       "      <th></th>\n",
       "      <th>PM2.5</th>\n",
       "      <th>PM10</th>\n",
       "      <th>NO2</th>\n",
       "      <th>SO2</th>\n",
       "      <th>NH3</th>\n",
       "      <th>CO</th>\n",
       "      <th>Ozone</th>\n",
       "    </tr>\n",
       "  </thead>\n",
       "  <tbody>\n",
       "    <tr>\n",
       "      <th>8968</th>\n",
       "      <td>39.78</td>\n",
       "      <td>59.57</td>\n",
       "      <td>24.98</td>\n",
       "      <td>11.29</td>\n",
       "      <td>8.72</td>\n",
       "      <td>0.666667</td>\n",
       "      <td>0.000000</td>\n",
       "    </tr>\n",
       "    <tr>\n",
       "      <th>1222</th>\n",
       "      <td>288.16</td>\n",
       "      <td>426.42</td>\n",
       "      <td>68.00</td>\n",
       "      <td>20.50</td>\n",
       "      <td>44.60</td>\n",
       "      <td>2.163333</td>\n",
       "      <td>21.626667</td>\n",
       "    </tr>\n",
       "    <tr>\n",
       "      <th>8267</th>\n",
       "      <td>44.00</td>\n",
       "      <td>91.53</td>\n",
       "      <td>27.28</td>\n",
       "      <td>6.56</td>\n",
       "      <td>5.11</td>\n",
       "      <td>1.903333</td>\n",
       "      <td>50.756667</td>\n",
       "    </tr>\n",
       "    <tr>\n",
       "      <th>2134</th>\n",
       "      <td>63.67</td>\n",
       "      <td>139.46</td>\n",
       "      <td>70.56</td>\n",
       "      <td>48.63</td>\n",
       "      <td>101.90</td>\n",
       "      <td>1.370000</td>\n",
       "      <td>150.140000</td>\n",
       "    </tr>\n",
       "    <tr>\n",
       "      <th>10081</th>\n",
       "      <td>31.74</td>\n",
       "      <td>57.61</td>\n",
       "      <td>21.81</td>\n",
       "      <td>5.39</td>\n",
       "      <td>3.98</td>\n",
       "      <td>1.360000</td>\n",
       "      <td>40.200000</td>\n",
       "    </tr>\n",
       "  </tbody>\n",
       "</table>\n",
       "</div>"
      ],
      "text/plain": [
       "        PM2.5    PM10    NO2    SO2     NH3        CO       Ozone\n",
       "8968    39.78   59.57  24.98  11.29    8.72  0.666667    0.000000\n",
       "1222   288.16  426.42  68.00  20.50   44.60  2.163333   21.626667\n",
       "8267    44.00   91.53  27.28   6.56    5.11  1.903333   50.756667\n",
       "2134    63.67  139.46  70.56  48.63  101.90  1.370000  150.140000\n",
       "10081   31.74   57.61  21.81   5.39    3.98  1.360000   40.200000"
      ]
     },
     "execution_count": 61,
     "metadata": {},
     "output_type": "execute_result"
    }
   ],
   "source": [
    "X_train2.head()"
   ]
  },
  {
   "cell_type": "markdown",
   "metadata": {},
   "source": [
    "# Using Decision Tree Classifier"
   ]
  },
  {
   "cell_type": "code",
   "execution_count": 62,
   "metadata": {},
   "outputs": [],
   "source": [
    "from sklearn import tree"
   ]
  },
  {
   "cell_type": "code",
   "execution_count": 63,
   "metadata": {},
   "outputs": [],
   "source": [
    "decisionTreeClassifier = tree.DecisionTreeClassifier()"
   ]
  },
  {
   "cell_type": "code",
   "execution_count": 64,
   "metadata": {},
   "outputs": [
    {
     "data": {
      "text/plain": [
       "DecisionTreeClassifier()"
      ]
     },
     "execution_count": 64,
     "metadata": {},
     "output_type": "execute_result"
    }
   ],
   "source": [
    "decisionTreeClassifier.fit(X_train2,y_train2)"
   ]
  },
  {
   "cell_type": "code",
   "execution_count": 65,
   "metadata": {},
   "outputs": [
    {
     "data": {
      "text/plain": [
       "0.9961676646706586"
      ]
     },
     "execution_count": 65,
     "metadata": {},
     "output_type": "execute_result"
    }
   ],
   "source": [
    "decisionTreeClassifier.score(X_test2,y_test2) "
   ]
  },
  {
   "cell_type": "code",
   "execution_count": 41,
   "metadata": {},
   "outputs": [
    {
     "name": "stderr",
     "output_type": "stream",
     "text": [
      "/opt/homebrew/lib/python3.9/site-packages/sklearn/base.py:450: UserWarning: X does not have valid feature names, but DecisionTreeClassifier was fitted with feature names\n",
      "  warnings.warn(\n"
     ]
    },
    {
     "data": {
      "text/plain": [
       "array(['Satisfactory'], dtype=object)"
      ]
     },
     "execution_count": 41,
     "metadata": {},
     "output_type": "execute_result"
    }
   ],
   "source": [
    "decisionTreeClassifier.predict([[50.08,78.39,12.82,5.16,4.15,0.27,39.34]]) # correct"
   ]
  },
  {
   "cell_type": "markdown",
   "metadata": {},
   "source": [
    "<h1>ACCURACY</h1>"
   ]
  },
  {
   "cell_type": "code",
   "execution_count": 67,
   "metadata": {},
   "outputs": [
    {
     "name": "stdout",
     "output_type": "stream",
     "text": [
      "Linear Regression: 0.9179963449761936\n",
      "Logistic Regression: 0.551377245508982\n",
      "Random Forest: 0.9894610778443114\n",
      "Decision Tree Classifier: 0.9961676646706586\n"
     ]
    }
   ],
   "source": [
    "#Accuracy\n",
    "print('Linear Regression:',linearRegression.score(X_test,y_test))\n",
    "print('Logistic Regression:',logisticRegression.score(X_test2,y_test2)) \n",
    "print('Random Forest:',randomForestClassifier.score(X_test2,y_test2))\n",
    "print('Decision Tree Classifier:',decisionTreeClassifier.score(X_test2,y_test2))"
   ]
  },
  {
   "cell_type": "code",
   "execution_count": null,
   "metadata": {},
   "outputs": [],
   "source": []
  }
 ],
 "metadata": {
  "interpreter": {
   "hash": "31f2aee4e71d21fbe5cf8b01ff0e069b9275f58929596ceb00d14d90e3e16cd6"
  },
  "kernelspec": {
   "display_name": "Python 3.8.10 64-bit",
   "language": "python",
   "name": "python3"
  },
  "language_info": {
   "codemirror_mode": {
    "name": "ipython",
    "version": 3
   },
   "file_extension": ".py",
   "mimetype": "text/x-python",
   "name": "python",
   "nbconvert_exporter": "python",
   "pygments_lexer": "ipython3",
   "version": "3.9.12"
  },
  "orig_nbformat": 4
 },
 "nbformat": 4,
 "nbformat_minor": 2
}
